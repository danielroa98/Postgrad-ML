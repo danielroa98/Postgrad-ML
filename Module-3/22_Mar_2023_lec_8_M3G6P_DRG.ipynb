{
 "cells": [
  {
   "attachments": {},
   "cell_type": "markdown",
   "metadata": {},
   "source": [
    "# Temas vistos el 22 de marzo del 2022\n",
    "[![Open In Colab](https://colab.research.google.com/assets/colab-badge.svg)](https://colab.research.google.com/github/danielroa98/Postgrad-ML/blob/main/Module-3/22_Mar_2023_lec_9_M3G6P_DRG.ipynb)"
   ]
  },
  {
   "attachments": {},
   "cell_type": "markdown",
   "metadata": {},
   "source": [
    "## Regex"
   ]
  },
  {
   "cell_type": "code",
   "execution_count": 1,
   "metadata": {},
   "outputs": [],
   "source": [
    "import re"
   ]
  },
  {
   "cell_type": "code",
   "execution_count": 33,
   "metadata": {},
   "outputs": [],
   "source": [
    "poema = \"El universo se investiga a sí mismo. Y la vida es la forma que emplea el universo para su investigación. \\\n",
    "La flecha se da vuelta y se clava en sí misma.Y el hombre es la punta de la flecha.\\\n",
    "El hombre se clava en el hombre, pero el blanco de la flecha no es el hombre.\\\n",
    "Un laberinto sólo se encuentra en otro laberinto. El universal estado raquel miguel\"\n"
   ]
  },
  {
   "cell_type": "code",
   "execution_count": 4,
   "metadata": {},
   "outputs": [
    {
     "data": {
      "text/plain": [
       "<re.Match object; span=(108, 114), match='flecha'>"
      ]
     },
     "execution_count": 4,
     "metadata": {},
     "output_type": "execute_result"
    }
   ],
   "source": [
    "re.search(\"flecha\",poema)"
   ]
  },
  {
   "attachments": {},
   "cell_type": "markdown",
   "metadata": {},
   "source": [
    "Regresa el primer match de la palabra `flecha`"
   ]
  },
  {
   "cell_type": "code",
   "execution_count": 5,
   "metadata": {},
   "outputs": [
    {
     "data": {
      "text/plain": [
       "'flecha'"
      ]
     },
     "execution_count": 5,
     "metadata": {},
     "output_type": "execute_result"
    }
   ],
   "source": [
    "poema[108:114]"
   ]
  },
  {
   "attachments": {},
   "cell_type": "markdown",
   "metadata": {},
   "source": [
    "#### Selectores"
   ]
  },
  {
   "cell_type": "code",
   "execution_count": 6,
   "metadata": {},
   "outputs": [
    {
     "data": {
      "text/plain": [
       "['flecha', 'flecha', 'flecha']"
      ]
     },
     "execution_count": 6,
     "metadata": {},
     "output_type": "execute_result"
    }
   ],
   "source": [
    "re.findall(\"flecha\", poema)"
   ]
  },
  {
   "cell_type": "code",
   "execution_count": 7,
   "metadata": {},
   "outputs": [
    {
     "data": {
      "text/plain": [
       "'El universo se investiga a sí mismo. Y la vida es la forma que emplea el universo para su investigación. La flechas se da vuelta y se clava en sí misma.Y el hombre es la punta de la flechas.El hombre se clava en el hombre, pero el blanco de la flechas no es el hombre.Un laberinto sólo se encuentra en otro laberinto. El universal estado'"
      ]
     },
     "execution_count": 7,
     "metadata": {},
     "output_type": "execute_result"
    }
   ],
   "source": [
    "re.sub(\"flecha\", \"flechas\",poema)"
   ]
  },
  {
   "cell_type": "code",
   "execution_count": 8,
   "metadata": {},
   "outputs": [
    {
     "data": {
      "text/plain": [
       "['El universo se investiga a sí mismo. Y la vida es la forma que emplea el universo para su investigación. La ',\n",
       " ' se da vuelta y se clava en sí misma.Y el hombre es la punta de la ',\n",
       " '.El hombre se clava en el hombre, pero el blanco de la ',\n",
       " ' no es el hombre.Un laberinto sólo se encuentra en otro laberinto. El universal estado']"
      ]
     },
     "execution_count": 8,
     "metadata": {},
     "output_type": "execute_result"
    }
   ],
   "source": [
    "re.split(\"flecha\", poema)"
   ]
  },
  {
   "cell_type": "code",
   "execution_count": 9,
   "metadata": {},
   "outputs": [
    {
     "data": {
      "text/plain": [
       "'El universo se investiga a sí mismo. Y la vida es la forma que emplea el universo para su investigación. La flecha se da vuelta y se clava en sí misma.Y el hombre es la punta de la flecha.El hombre se clava en el hombre, pero el blanco de la flecha no es el hombre.Un laberinto sólo se encuentra en otro laberinto. El universal estado'"
      ]
     },
     "execution_count": 9,
     "metadata": {},
     "output_type": "execute_result"
    }
   ],
   "source": [
    "poema"
   ]
  },
  {
   "cell_type": "code",
   "execution_count": 24,
   "metadata": {},
   "outputs": [
    {
     "data": {
      "text/plain": [
       "['es', 'el', 'en', 'el', 'es', 'en', 'el', 'es', 'en']"
      ]
     },
     "execution_count": 24,
     "metadata": {},
     "output_type": "execute_result"
    }
   ],
   "source": [
    "# Partición elemento por elemento\n",
    "# len(re.findall(\".\", poema))\n",
    "\n",
    "# Usado para encontrar \"cualquier cosa\" seguida de todo lo demás\n",
    "# re.findall(\".+\", poema)\n",
    "\n",
    "# Para buscar solo un punto.\n",
    "# re.findall(\"\\.\", poema)\n",
    "\n",
    "# Buscando un punto y cualquier cosa, por ende un caracter adicional\n",
    "# re.findall(\"\\..\", poema)\n",
    "\n",
    "# Buscando un punto y regresando todo lo demás que siga de ese punto\n",
    "# re.findall(\"\\..+\", poema)\n",
    "\n",
    "# Buscando un punto y regresando solo lo que está en el parentesis \n",
    "# re.findall(\"\\.(.+)\", poema)\n",
    "\n",
    "# Buscando un punto y regresando solo lo que está en el parentesis\n",
    "# re.findall(\"e\\w\", poema)\n",
    "\n",
    "# Para buscar las preposiciones, recortando los espacios en blanco.\n",
    "re.findall(\"\\s(e\\w)\\s\", poema)\n"
   ]
  },
  {
   "cell_type": "code",
   "execution_count": 31,
   "metadata": {},
   "outputs": [
    {
     "data": {
      "text/plain": [
       "['El', 'el', 'el', 'El', 'el', 'el', 'el', 'El']"
      ]
     },
     "execution_count": 31,
     "metadata": {},
     "output_type": "execute_result"
    }
   ],
   "source": [
    "# Buscando solo la preposición \"el\" tanto en mayúsculas como en minúsculas\n",
    "re.findall(\"\\W*([Ee]l)\\s\", poema)\n"
   ]
  },
  {
   "attachments": {},
   "cell_type": "markdown",
   "metadata": {},
   "source": [
    "#### Agrupados"
   ]
  },
  {
   "attachments": {},
   "cell_type": "markdown",
   "metadata": {},
   "source": [
    "Agrupa lo que queremos que nos proporciones."
   ]
  },
  {
   "cell_type": "code",
   "execution_count": 36,
   "metadata": {},
   "outputs": [
    {
     "data": {
      "text/plain": [
       "['universo',\n",
       " 'universo',\n",
       " 'hombre',\n",
       " 'hombre',\n",
       " 'hombre',\n",
       " 'blanco',\n",
       " 'hombre',\n",
       " 'universal',\n",
       " 'miguel']"
      ]
     },
     "execution_count": 36,
     "metadata": {},
     "output_type": "execute_result"
    }
   ],
   "source": [
    "# Para obtener la palabra que va después de lo que se declaró, en este caso, regresará la palabra que va después de la preposición \"el\"\n",
    "re.findall(\"\\W*[Ee]l\\s(\\w+)\", poema)\n"
   ]
  },
  {
   "cell_type": "code",
   "execution_count": 48,
   "metadata": {},
   "outputs": [
    {
     "data": {
      "text/plain": [
       "['vida',\n",
       " 'forma',\n",
       " 'universo',\n",
       " 'flecha',\n",
       " 'hombre',\n",
       " 'punta',\n",
       " 'flecha',\n",
       " 'hombre',\n",
       " 'hombre',\n",
       " 'blanco',\n",
       " 'flecha',\n",
       " 'hombre',\n",
       " 'universal']"
      ]
     },
     "execution_count": 48,
     "metadata": {},
     "output_type": "execute_result"
    }
   ],
   "source": [
    "re.findall(\"\\W(?:[Ee]l|[Ll]a)\\s(\\w+)\", poema)"
   ]
  },
  {
   "attachments": {},
   "cell_type": "markdown",
   "metadata": {},
   "source": [
    "#### Repeticiones"
   ]
  },
  {
   "cell_type": "code",
   "execution_count": 49,
   "metadata": {},
   "outputs": [],
   "source": [
    "x = \"aaaa aa a bbbbb bb bb b ccc.c dd\"\n"
   ]
  },
  {
   "cell_type": "code",
   "execution_count": 60,
   "metadata": {},
   "outputs": [
    {
     "data": {
      "text/plain": [
       "['bbbbb', 'bb', 'bb']"
      ]
     },
     "execution_count": 60,
     "metadata": {},
     "output_type": "execute_result"
    }
   ],
   "source": [
    "re.findall(\"b{2,}\", x)"
   ]
  },
  {
   "cell_type": "code",
   "execution_count": 61,
   "metadata": {},
   "outputs": [
    {
     "data": {
      "text/plain": [
       "['aaaa', 'aa']"
      ]
     },
     "execution_count": 61,
     "metadata": {},
     "output_type": "execute_result"
    }
   ],
   "source": [
    "re.findall(\"a{2,}\", x)"
   ]
  },
  {
   "attachments": {},
   "cell_type": "markdown",
   "metadata": {},
   "source": [
    "#### Coincidencias"
   ]
  },
  {
   "cell_type": "code",
   "execution_count": 62,
   "metadata": {},
   "outputs": [],
   "source": [
    "z = \"elemental elemento pelea carro cartera acartonado\"\n"
   ]
  },
  {
   "attachments": {},
   "cell_type": "markdown",
   "metadata": {},
   "source": [
    "Esta función no funcionaría (vaya la redundancia) para buscar caracteres dentro del string, ya que solo se enfoca en el incio y el final de la cadena."
   ]
  },
  {
   "cell_type": "code",
   "execution_count": 74,
   "metadata": {},
   "outputs": [
    {
     "data": {
      "text/plain": [
       "['elemental elemento pelea carro cartera acartonado']"
      ]
     },
     "execution_count": 74,
     "metadata": {},
     "output_type": "execute_result"
    }
   ],
   "source": [
    "# Inicio de oración\n",
    "re.findall(\"^elem.+\",z)"
   ]
  },
  {
   "cell_type": "code",
   "execution_count": 75,
   "metadata": {},
   "outputs": [
    {
     "data": {
      "text/plain": [
       "['do']"
      ]
     },
     "execution_count": 75,
     "metadata": {},
     "output_type": "execute_result"
    }
   ],
   "source": [
    "# Final de una oración\n",
    "re.findall(\"do$\", z)"
   ]
  },
  {
   "cell_type": "code",
   "execution_count": 76,
   "metadata": {},
   "outputs": [
    {
     "data": {
      "text/plain": [
       "['elemental elemento pelea carro cartera acartonado']"
      ]
     },
     "execution_count": 76,
     "metadata": {},
     "output_type": "execute_result"
    }
   ],
   "source": [
    "# Mezcla de los dos\n",
    "re.findall(\"^elem.+do$\",z)"
   ]
  },
  {
   "cell_type": "code",
   "execution_count": 78,
   "metadata": {},
   "outputs": [
    {
     "data": {
      "text/plain": [
       "['do']"
      ]
     },
     "execution_count": 78,
     "metadata": {},
     "output_type": "execute_result"
    }
   ],
   "source": [
    "re.findall(\"do$\", z)"
   ]
  },
  {
   "attachments": {},
   "cell_type": "markdown",
   "metadata": {},
   "source": [
    "#### Ejercicios"
   ]
  },
  {
   "cell_type": "code",
   "execution_count": 79,
   "metadata": {},
   "outputs": [],
   "source": [
    "egg = []\n",
    "with open(\"./Test Files/huevo.txt\", \"r\", encoding=\"utf-8\") as archivo:\n",
    "    for linea in archivo:\n",
    "        egg.append(linea)\n"
   ]
  },
  {
   "cell_type": "code",
   "execution_count": 80,
   "metadata": {},
   "outputs": [],
   "source": [
    "cuento = \" \".join(egg).replace(\"\\n\",\" \")"
   ]
  },
  {
   "cell_type": "code",
   "execution_count": 81,
   "metadata": {},
   "outputs": [
    {
     "data": {
      "text/plain": [
       "'The Egg  By: Andy Weir  You were on your way home when you died.  It was a car accident. Nothing particularly remarkable, but fatal  nonetheless. You left behind a wife and two children. It was a  painless death. The EMTs tried their best to save you, but to no  avail. Your body was so utterly shattered you were better off, trust  me.  And that’s when you met me.  “What… what happened?” You asked. “Where am I?”  “You died,” I said, matter-of-factly. No point in mincing words.  “There was a… a truck and it was skidding…”  “Yup,” I said.  “I… I died?”  “Yup. But don’t feel bad about it. Everyone dies,” I said.  You looked around. There was nothingness. Just you and me. “What is  this place?” You asked. “Is this the afterlife?”  “More or less,” I said.  “Are you god?” You asked.  “Yup,” I replied. “I’m God.”  “My kids… my wife,” you said.  “What about them?”  “Will they be all right?”  “That’s what I like to see,” I said. “You just died and your main  concern is for your family. That’s good stuff right there.”  You looked at me with fascination. To you, I didn’t look like God. I  just looked like some man. Or possibly a woman. Some vague authority  figure, maybe. More of a grammar school teacher than the almighty.  “Don’t worry,” I said. “They’ll be fine. Your kids will remember you  as perfect in every way. They didn’t have time to grow contempt for  you. Your wife will cry on the outside, but will be secretly relieved.  To be fair, your marriage was falling apart. If it’s any consolation,  she’ll feel very guilty for feeling relieved.”  “Oh,” you said. “So what happens now? Do I go to heaven or hell or  something?”  “Neither,” I said. “You’ll be reincarnated.”  “Ah,” you said. “So the Hindus were right,”  “All religions are right in their own way,” I said. “Walk with me.”  You followed along as we strode through the void. “Where are we  going?”  “Nowhere in particular,” I said. “It’s just nice to walk while we  talk.”  “So what’s the point, then?” You asked. “When I get reborn, I’ll just  be a blank slate, right? A baby. So all my experiences and everything  I did in this life won’t matter.”  “Not so!” I said. “You have within you all the knowledge and  experiences of all your past lives. You just don’t remember them right  now.”  I stopped walking and took you by the shoulders. “Your soul is more  magnificent, beautiful, and gigantic than you can possibly imagine. A  human mind can only contain a tiny fraction of what you are. It’s like  sticking your finger in a glass of water to see if it’s hot or cold.  You put a tiny part of yourself into the vessel, and when you bring it  back out, you’ve gained all the experiences it had.  “You’ve been in a human for the last 48 years, so you haven’t  stretched out yet and felt the rest of your immense consciousness. If  we hung out here for long enough, you’d start remembering everything.  But there’s no point to doing that between each life.”  “How many times have I been reincarnated, then?”  “Oh lots. Lots and lots. An in to lots of different lives.” I said.  “This time around, you’ll be a Chinese peasant girl in 540 AD.”  “Wait, what?” You stammered. “You’re sending me back in time?”  “Well, I guess technically. Time, as you know it, only exists in your  universe. Things are different where I come from.”  “Where you come from?” You said.  “Oh sure,” I explained “I come from somewhere. Somewhere else. And  there are others like me. I know you’ll want to know what it’s like  there, but honestly you wouldn’t understand.”  “Oh,” you said, a little let down. “But wait. If I get reincarnated to  other places in time, I could have interacted with myself at some  point.”  “Sure. Happens all the time. And with both lives only aware of their  own lifespan you don’t even know it’s happening.”  “So what’s the point of it all?”  “Seriously?” I asked. “Seriously? You’re asking me for the meaning of  life? Isn’t that a little stereotypical?”  “Well it’s a reasonable question,” you persisted.  I looked you in the eye. “The meaning of life, the reason I made this  whole universe, is for you to mature.”  “You mean mankind? You want us to mature?”  “No, just you. I made this whole universe for you. With each new life  you grow and mature and become a larger and greater intellect.”  “Just me? What about everyone else?”  “There is no one else,” I said. “In this universe, there’s just you  and me.”  You stared blankly at me. “But all the people on earth…”  “All you. Different incarnations of you.”  “Wait. I’m everyone!?”  “Now you’re getting it,” I said, with a congratulatory slap on the  back.  “I’m every human being who ever lived?”  “Or who will ever live, yes.”  “I’m Abraham Lincoln?”  “And you’re John Wilkes Booth, too,” I added.  “I’m Hitler?” You said, appalled.  “And you’re the millions he killed.”  “I’m Jesus?”  “And you’re everyone who followed him.”  You fell silent.  “Every time you victimized someone,” I said, “you were victimizing  yourself. Every act of kindness you’ve done, you’ve done to yourself.  Every happy and sad moment ever experienced by any human was, or will  be, experienced by you.”  You thought for a long time.  “Why?” You asked me. “Why do all this?”  “Because someday, you will become like me. Because that’s what you  are. You’re one of my kind. You’re my child.”  “Whoa,” you said, incredulous. “You mean I’m a god?”  “No. Not yet. You’re a fetus. You’re still growing. Once you’ve lived  every human life throughout all time, you will have grown enough to be  born.”  “So the whole universe,” you said, “it’s just…”  “An egg.” I answered. “Now it’s time for you to move on to your next  life.”  And I sent you on your way.'"
      ]
     },
     "execution_count": 81,
     "metadata": {},
     "output_type": "execute_result"
    }
   ],
   "source": [
    "cuento"
   ]
  },
  {
   "cell_type": "code",
   "execution_count": 83,
   "metadata": {},
   "outputs": [
    {
     "data": {
      "text/plain": [
       "5673"
      ]
     },
     "execution_count": 83,
     "metadata": {},
     "output_type": "execute_result"
    }
   ],
   "source": [
    "len(re.findall(\".\", cuento))"
   ]
  },
  {
   "cell_type": "code",
   "execution_count": 85,
   "metadata": {},
   "outputs": [
    {
     "data": {
      "text/plain": [
       "34"
      ]
     },
     "execution_count": 85,
     "metadata": {},
     "output_type": "execute_result"
    }
   ],
   "source": [
    "len(re.findall(\"\\?\", cuento))"
   ]
  },
  {
   "cell_type": "code",
   "execution_count": 87,
   "metadata": {},
   "outputs": [
    {
     "data": {
      "text/plain": [
       "4103"
      ]
     },
     "execution_count": 87,
     "metadata": {},
     "output_type": "execute_result"
    }
   ],
   "source": [
    "len(re.findall(\".\", cuento))-len(re.findall(\"\\W\", cuento))"
   ]
  },
  {
   "cell_type": "code",
   "execution_count": 89,
   "metadata": {},
   "outputs": [
    {
     "data": {
      "text/plain": [
       "4103"
      ]
     },
     "execution_count": 89,
     "metadata": {},
     "output_type": "execute_result"
    }
   ],
   "source": [
    "len(re.findall(\"\\w\", cuento))\n"
   ]
  },
  {
   "attachments": {},
   "cell_type": "markdown",
   "metadata": {},
   "source": [
    "Buscando verbos regulares en pasado"
   ]
  },
  {
   "cell_type": "code",
   "execution_count": 94,
   "metadata": {},
   "outputs": [
    {
     "data": {
      "text/plain": [
       "['tried ',\n",
       " 'shattered ',\n",
       " 'looked ',\n",
       " 'died ',\n",
       " 'looked ',\n",
       " 'looked ',\n",
       " 'followed ',\n",
       " 'stopped ',\n",
       " 'gained ',\n",
       " 'stretched ',\n",
       " 'explained ',\n",
       " 'reincarnated ',\n",
       " 'interacted ',\n",
       " 'looked ',\n",
       " 'stared ',\n",
       " 'followed ',\n",
       " 'victimized ',\n",
       " 'experienced ',\n",
       " 'experienced ',\n",
       " 'asked ',\n",
       " 'lived ']"
      ]
     },
     "execution_count": 94,
     "metadata": {},
     "output_type": "execute_result"
    }
   ],
   "source": [
    "re.findall(\"\\w+ed\\s\",cuento)"
   ]
  },
  {
   "attachments": {},
   "cell_type": "markdown",
   "metadata": {},
   "source": [
    "Buscando los verbos que sigan después de la segunda persona \"you\"\n",
    "\n",
    "Del _regex_ `[Yy]ou\\s(\\w+)`, la sección que contiene el `(\\w+)`, es lo que regresa los verbos que se encontraron"
   ]
  },
  {
   "cell_type": "code",
   "execution_count": 99,
   "metadata": {},
   "outputs": [
    {
     "data": {
      "text/plain": [
       "['were',\n",
       " 'died',\n",
       " 'left',\n",
       " 'were',\n",
       " 'met',\n",
       " 'asked',\n",
       " 'died',\n",
       " 'looked',\n",
       " 'and',\n",
       " 'asked',\n",
       " 'god',\n",
       " 'asked',\n",
       " 'said',\n",
       " 'just',\n",
       " 'looked',\n",
       " 'said',\n",
       " 'said',\n",
       " 'followed',\n",
       " 'asked',\n",
       " 'have',\n",
       " 'all',\n",
       " 'just',\n",
       " 'by',\n",
       " 'can',\n",
       " 'are',\n",
       " 'put',\n",
       " 'bring',\n",
       " 'haven',\n",
       " 'stammered',\n",
       " 'know',\n",
       " 'come',\n",
       " 'said',\n",
       " 'wouldn',\n",
       " 'said',\n",
       " 'don',\n",
       " 'persisted',\n",
       " 'in',\n",
       " 'to',\n",
       " 'mean',\n",
       " 'want',\n",
       " 'grow',\n",
       " 'stared',\n",
       " 'said',\n",
       " 'fell',\n",
       " 'victimized',\n",
       " 'were',\n",
       " 'thought',\n",
       " 'asked',\n",
       " 'will',\n",
       " 'said',\n",
       " 'mean',\n",
       " 'will',\n",
       " 'said',\n",
       " 'to',\n",
       " 'on']"
      ]
     },
     "execution_count": 99,
     "metadata": {},
     "output_type": "execute_result"
    }
   ],
   "source": [
    "re.findall(\"[Yy]ou\\s(\\w+)\",cuento)"
   ]
  },
  {
   "attachments": {},
   "cell_type": "markdown",
   "metadata": {},
   "source": [
    "- Regex puede llegar a ser usado mucho para la filtración de datos.\n",
    "- Búsqueda de patrones.\n",
    "    - No hay problemas con lenguaje.\n",
    "        - Tanto programático como \"lenguajes naturales\"."
   ]
  },
  {
   "attachments": {},
   "cell_type": "markdown",
   "metadata": {},
   "source": [
    "## Natural Language Processing"
   ]
  },
  {
   "cell_type": "code",
   "execution_count": 100,
   "metadata": {},
   "outputs": [],
   "source": [
    "import nltk"
   ]
  },
  {
   "cell_type": "code",
   "execution_count": 101,
   "metadata": {},
   "outputs": [
    {
     "name": "stdout",
     "output_type": "stream",
     "text": [
      "showing info https://raw.githubusercontent.com/nltk/nltk_data/gh-pages/index.xml\n"
     ]
    },
    {
     "data": {
      "text/plain": [
       "True"
      ]
     },
     "execution_count": 101,
     "metadata": {},
     "output_type": "execute_result"
    }
   ],
   "source": [
    "nltk.download()"
   ]
  }
 ],
 "metadata": {
  "kernelspec": {
   "display_name": "python-finanzas",
   "language": "python",
   "name": "python3"
  },
  "language_info": {
   "codemirror_mode": {
    "name": "ipython",
    "version": 3
   },
   "file_extension": ".py",
   "mimetype": "text/x-python",
   "name": "python",
   "nbconvert_exporter": "python",
   "pygments_lexer": "ipython3",
   "version": "3.9.13"
  },
  "orig_nbformat": 4
 },
 "nbformat": 4,
 "nbformat_minor": 2
}
