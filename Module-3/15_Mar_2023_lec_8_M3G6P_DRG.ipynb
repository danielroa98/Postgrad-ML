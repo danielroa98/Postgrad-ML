{
 "cells": [
  {
   "attachments": {},
   "cell_type": "markdown",
   "metadata": {},
   "source": [
    "# Temas vistos el 15 de marzo del 2022\n",
    "[![Open In Colab](https://colab.research.google.com/assets/colab-badge.svg)](https://colab.research.google.com/github/danielroa98/Postgrad-ML/blob/main/Module-2/15_Mar_2023_lec_8_M3G6P_DRG.ipynb)"
   ]
  },
  {
   "attachments": {},
   "cell_type": "markdown",
   "metadata": {},
   "source": [
    "# Library imports"
   ]
  },
  {
   "cell_type": "code",
   "execution_count": 41,
   "metadata": {},
   "outputs": [],
   "source": [
    "import pandas as pd\n",
    "import numpy as np\n",
    "import requests\n",
    "import warnings\n",
    "import os\n",
    "\n",
    "from selenium import webdriver\n",
    "from time import sleep\n",
    "# Módulos adicionales debido por actualizaciones nuevas\n",
    "from selenium.webdriver.common.by import By\n",
    "from selenium.webdriver.common.keys import Keys\n",
    "\n",
    "# Remueve los posibles warnings\n",
    "warnings.filterwarnings(\"ignore\")"
   ]
  },
  {
   "attachments": {},
   "cell_type": "markdown",
   "metadata": {},
   "source": [
    "## Selenium: Análisis de `HTML`"
   ]
  },
  {
   "attachments": {},
   "cell_type": "markdown",
   "metadata": {},
   "source": [
    "### Testing with Edge"
   ]
  },
  {
   "cell_type": "code",
   "execution_count": 2,
   "metadata": {},
   "outputs": [],
   "source": [
    "# driver = webdriver.Edge()\n",
    "# driver.get(\"https://www.wikipedia.org/\")\n"
   ]
  },
  {
   "cell_type": "code",
   "execution_count": 3,
   "metadata": {},
   "outputs": [],
   "source": [
    "# driver.close()"
   ]
  },
  {
   "attachments": {},
   "cell_type": "markdown",
   "metadata": {},
   "source": [
    "### Chrome"
   ]
  },
  {
   "cell_type": "code",
   "execution_count": 4,
   "metadata": {},
   "outputs": [],
   "source": [
    "# webdriver.Chrome()"
   ]
  },
  {
   "cell_type": "code",
   "execution_count": 5,
   "metadata": {},
   "outputs": [],
   "source": [
    "driver = webdriver.Chrome()"
   ]
  },
  {
   "cell_type": "code",
   "execution_count": 6,
   "metadata": {},
   "outputs": [],
   "source": [
    "driver.get(\"https://www.scotiabank.com.mx/scotia-fondos/terceros-distribuidores.aspx\")"
   ]
  },
  {
   "cell_type": "code",
   "execution_count": 7,
   "metadata": {},
   "outputs": [],
   "source": [
    "# Maximiza la ventana actual\n",
    "driver.maximize_window()"
   ]
  },
  {
   "attachments": {},
   "cell_type": "markdown",
   "metadata": {},
   "source": [
    "Es importante recordar, que _no_ se puede interactuar con el sitio web abierto por Selenium, esto es porque afecta el contenido del sitio y lo que se va a analizar.\n",
    "\n",
    "Asimismo, debido a que el sitio web que se está buscando puede tardar en cargarse, es recomendable usar `sleep()` para que el sitio se cargue correctamente y no ejecute los demás comandos aun sin que se haya cargado."
   ]
  },
  {
   "cell_type": "code",
   "execution_count": 8,
   "metadata": {},
   "outputs": [
    {
     "data": {
      "text/plain": [
       "'Terceros Distribuidores | Fondos de Inversión | Scotiabank México'"
      ]
     },
     "execution_count": 8,
     "metadata": {},
     "output_type": "execute_result"
    }
   ],
   "source": [
    "driver.title"
   ]
  },
  {
   "attachments": {},
   "cell_type": "markdown",
   "metadata": {},
   "source": [
    "Búsqueda por elementos de un sitio web\n",
    "\n",
    "_Elementos únicos_:\n",
    "- `driver.find_element`\n",
    "\n",
    "_Elementos múltiples_:\n",
    "- `driver.find_elements`"
   ]
  },
  {
   "cell_type": "code",
   "execution_count": 9,
   "metadata": {},
   "outputs": [
    {
     "data": {
      "text/plain": [
       "[<selenium.webdriver.remote.webelement.WebElement (session=\"b06ae68982f0612a38283df0108f049a\", element=\"cb8eb5b7-3bca-48e8-b963-3723437514b4\")>,\n",
       " <selenium.webdriver.remote.webelement.WebElement (session=\"b06ae68982f0612a38283df0108f049a\", element=\"286fae31-6598-4afe-b6d2-288829a2df39\")>,\n",
       " <selenium.webdriver.remote.webelement.WebElement (session=\"b06ae68982f0612a38283df0108f049a\", element=\"7b078e0d-a4ef-4b93-a539-f34827429bb4\")>,\n",
       " <selenium.webdriver.remote.webelement.WebElement (session=\"b06ae68982f0612a38283df0108f049a\", element=\"dbad91b5-b369-4a53-aae5-7cb8cd36f607\")>,\n",
       " <selenium.webdriver.remote.webelement.WebElement (session=\"b06ae68982f0612a38283df0108f049a\", element=\"7a6b7e6a-ccdf-4e29-af61-14fb24a8dce4\")>,\n",
       " <selenium.webdriver.remote.webelement.WebElement (session=\"b06ae68982f0612a38283df0108f049a\", element=\"6afd1282-e3f1-410b-aa02-ce832a47622e\")>,\n",
       " <selenium.webdriver.remote.webelement.WebElement (session=\"b06ae68982f0612a38283df0108f049a\", element=\"8066ef2f-ba6a-468a-92d5-9299578078bb\")>,\n",
       " <selenium.webdriver.remote.webelement.WebElement (session=\"b06ae68982f0612a38283df0108f049a\", element=\"f2ec4ac3-4763-451d-89e6-377746238cdd\")>,\n",
       " <selenium.webdriver.remote.webelement.WebElement (session=\"b06ae68982f0612a38283df0108f049a\", element=\"a65eb23d-24a2-442c-bc28-fbef5e6de7b7\")>,\n",
       " <selenium.webdriver.remote.webelement.WebElement (session=\"b06ae68982f0612a38283df0108f049a\", element=\"51f3a99f-7e4e-4349-96aa-612edffa1a38\")>,\n",
       " <selenium.webdriver.remote.webelement.WebElement (session=\"b06ae68982f0612a38283df0108f049a\", element=\"f80d021a-b9b6-421a-a86a-f991c86adee7\")>,\n",
       " <selenium.webdriver.remote.webelement.WebElement (session=\"b06ae68982f0612a38283df0108f049a\", element=\"2c80f358-0c02-4fa5-9deb-0ed9c70d1bba\")>]"
      ]
     },
     "execution_count": 9,
     "metadata": {},
     "output_type": "execute_result"
    }
   ],
   "source": [
    "# Contenedor\n",
    "\n",
    "# Para obtener solo el primer elemento que aparezca\n",
    "# driver.find_element(By.CLASS_NAME, \"block-noBttm\")\n",
    "# Para obtener todos los elementos que cumplan la condición\n",
    "## Regresa una lista de objetos.\n",
    "driver.find_elements(By.CLASS_NAME, \"block-noBttm\")"
   ]
  },
  {
   "attachments": {},
   "cell_type": "markdown",
   "metadata": {},
   "source": [
    "Obtener URLs"
   ]
  },
  {
   "cell_type": "code",
   "execution_count": 10,
   "metadata": {},
   "outputs": [],
   "source": [
    "# Contenedor principal\n",
    "contenedor = driver.find_elements(By.CLASS_NAME, \"green-list\")[0]"
   ]
  },
  {
   "cell_type": "code",
   "execution_count": 11,
   "metadata": {},
   "outputs": [
    {
     "data": {
      "text/plain": [
       "'https://www.scotiabank.com.mx/scotia-fondos/deuda-plazos.aspx'"
      ]
     },
     "execution_count": 11,
     "metadata": {},
     "output_type": "execute_result"
    }
   ],
   "source": [
    "contenedor.find_elements(By.TAG_NAME, \"a\")[0].get_attribute(\"href\")"
   ]
  },
  {
   "attachments": {},
   "cell_type": "markdown",
   "metadata": {},
   "source": [
    "Obtener los links usando _list comprehension_"
   ]
  },
  {
   "cell_type": "code",
   "execution_count": 12,
   "metadata": {},
   "outputs": [],
   "source": [
    "links = [x.get_attribute(\"href\") for x in contenedor.find_elements(By.TAG_NAME, \"a\")]"
   ]
  },
  {
   "cell_type": "code",
   "execution_count": 13,
   "metadata": {},
   "outputs": [],
   "source": [
    "driver.get(links[0])"
   ]
  },
  {
   "cell_type": "code",
   "execution_count": 14,
   "metadata": {},
   "outputs": [
    {
     "data": {
      "text/plain": [
       "'Fondos de Deuda a Plazos | Fondos de Inversión | Scotiabank México'"
      ]
     },
     "execution_count": 14,
     "metadata": {},
     "output_type": "execute_result"
    }
   ],
   "source": [
    "driver.title"
   ]
  },
  {
   "cell_type": "code",
   "execution_count": 15,
   "metadata": {},
   "outputs": [
    {
     "data": {
      "text/plain": [
       "['https://www.scotiabank.com.mx/scotia-fondos/deuda-plazos/scotiag.aspx',\n",
       " 'https://www.scotiabank.com.mx/scotia-fondos/deuda-plazos/scotia1.aspx',\n",
       " 'https://www.scotiabank.com.mx/scotia-fondos/deuda-plazos/sbankcp.aspx',\n",
       " 'https://www.scotiabank.com.mx/scotia-fondos/deuda-plazos/scotia2.aspx',\n",
       " 'https://www.scotiabank.com.mx/scotia-fondos/deuda-plazos/scoti10.aspx',\n",
       " 'https://www.scotiabank.com.mx/scotia-fondos/deuda-plazos/sbankmp.aspx',\n",
       " 'https://www.scotiabank.com.mx/scotia-fondos/deuda-plazos/scotilp.aspx',\n",
       " 'https://www.scotiabank.com.mx/scotia-fondos/deuda-plazos/scotimb.aspx',\n",
       " 'https://www.scotiabank.com.mx/scotia-fondos/deuda-plazos/scotudi.aspx',\n",
       " 'https://www.scotiabank.com.mx/scotia-fondos/deuda-plazos/scot-tr.aspx',\n",
       " 'https://www.scotiabank.com.mx/scotia-fondos/deuda-plazos/scotlpg.aspx',\n",
       " 'https://www.scotiabank.com.mx/scotia-fondos/deuda-plazos/scot200.aspx']"
      ]
     },
     "execution_count": 15,
     "metadata": {},
     "output_type": "execute_result"
    }
   ],
   "source": [
    "links2 = [x.find_element(By.TAG_NAME, \"a\").get_attribute(\"href\") for x in driver.find_elements(By.CLASS_NAME, \"card-found\")]\n",
    "links2"
   ]
  },
  {
   "cell_type": "code",
   "execution_count": 16,
   "metadata": {},
   "outputs": [],
   "source": [
    "driver.get(links2[0])"
   ]
  },
  {
   "cell_type": "code",
   "execution_count": 17,
   "metadata": {},
   "outputs": [
    {
     "data": {
      "text/plain": [
       "[<selenium.webdriver.remote.webelement.WebElement (session=\"b06ae68982f0612a38283df0108f049a\", element=\"86c48605-c4b7-4861-b7a3-199df5160d8e\")>]"
      ]
     },
     "execution_count": 17,
     "metadata": {},
     "output_type": "execute_result"
    }
   ],
   "source": [
    "aux = driver.find_elements(By.CLASS_NAME, \"documents\")\n",
    "aux"
   ]
  },
  {
   "cell_type": "code",
   "execution_count": 18,
   "metadata": {},
   "outputs": [
    {
     "data": {
      "text/plain": [
       "['https://scotiabankfiles.azureedge.net/scotia-bank-mexico/spanish/pdf/personas/fondos-de-inversion/precios/Precios.pdf',\n",
       " 'https://scotiabankfiles.azureedge.net/scotia-bank-mexico/spanish/pdf/personas/fondos-de-inversion/carteras/CARTERA_SCOTIAG.pdf',\n",
       " 'https://www.scotiabank.com.mx/Personas/Inversiones/Productos/fondos-de-inversion/informacion-adicional/rendimientos-historicos.aspx',\n",
       " 'https://scotiabankfiles.azureedge.net/scotia-bank-mexico/spanish/pdf/personas/fondos-de-inversion/dici/DICI_SCOTIAG.pdf',\n",
       " 'https://scotiabankfiles.azureedge.net/scotia-bank-mexico/spanish/pdf/personas/fondos-de-inversion/carteras/CM_SCOTIAG.pdf',\n",
       " 'https://scotiabankfiles.azureedge.net/scotia-bank-mexico/pdf/scotia-fondos/prospectos/Prospecto_SCOTIAG.pdf']"
      ]
     },
     "execution_count": 18,
     "metadata": {},
     "output_type": "execute_result"
    }
   ],
   "source": [
    "a_tags = [x.get_attribute(\"href\") for x in aux[0].find_elements(By.TAG_NAME, \"a\")]\n",
    "a_tags"
   ]
  },
  {
   "attachments": {},
   "cell_type": "markdown",
   "metadata": {},
   "source": [
    "Para obtener todo el contenido en el texto que queremos, el filtro y la variable tienen que ser las mismas, pero lo que se está aplicando en el _if_ no tiene que ser la misma.\n",
    "\n",
    "En la siguiente línea de código se está usando una función `lower()` para poder realizar mejor la comparación.\n",
    "\n",
    "Es mejor manejar el texto en minúsculas debido a que se mantiene estandarizado."
   ]
  },
  {
   "cell_type": "code",
   "execution_count": 19,
   "metadata": {},
   "outputs": [],
   "source": [
    "dici = [x.get_attribute(\"href\") for x in aux[0].find_elements(By.TAG_NAME, \"a\") if \"dici\" in x.get_attribute(\"innerHTML\").lower()]"
   ]
  },
  {
   "cell_type": "code",
   "execution_count": 20,
   "metadata": {},
   "outputs": [
    {
     "data": {
      "text/plain": [
       "['https://scotiabankfiles.azureedge.net/scotia-bank-mexico/pdf/scotia-fondos/prospectos/Prospecto_SCOTIAG.pdf']"
      ]
     },
     "execution_count": 20,
     "metadata": {},
     "output_type": "execute_result"
    }
   ],
   "source": [
    "# Para buscar el \"Prospecto Semanal\"\n",
    "[x.get_attribute(\"href\") for x in aux[0].find_elements(By.TAG_NAME, \"a\") if \"prospe\" in x.get_attribute(\"innerHTML\").lower()]"
   ]
  },
  {
   "cell_type": "code",
   "execution_count": 21,
   "metadata": {},
   "outputs": [
    {
     "data": {
      "text/plain": [
       "['Precios Diarios',\n",
       " 'Cartera Semanal',\n",
       " 'Rendimientos históricos',\n",
       " 'Información Clave (DICI)',\n",
       " 'Cartera Mensual',\n",
       " 'Prospecto de Información']"
      ]
     },
     "execution_count": 21,
     "metadata": {},
     "output_type": "execute_result"
    }
   ],
   "source": [
    "[x.get_attribute(\"innerHTML\") for x in aux[0].find_elements(By.TAG_NAME, \"a\")]\n"
   ]
  },
  {
   "attachments": {},
   "cell_type": "markdown",
   "metadata": {},
   "source": [
    "Cambio de directorios para poder guardar los documentos buscados"
   ]
  },
  {
   "cell_type": "code",
   "execution_count": 22,
   "metadata": {},
   "outputs": [],
   "source": [
    "os.chdir(\"/Users/danielroa/Downloads/Links_test\")"
   ]
  },
  {
   "cell_type": "code",
   "execution_count": 23,
   "metadata": {},
   "outputs": [
    {
     "data": {
      "text/plain": [
       "<Response [200]>"
      ]
     },
     "execution_count": 23,
     "metadata": {},
     "output_type": "execute_result"
    }
   ],
   "source": [
    "page_dici = requests.get(dici[0])\n",
    "page_dici\n"
   ]
  },
  {
   "cell_type": "code",
   "execution_count": 24,
   "metadata": {},
   "outputs": [],
   "source": [
    "with open(\"dici_clase8.pdf\", \"wb\") as f:\n",
    "    f.write(page_dici.content)"
   ]
  },
  {
   "cell_type": "code",
   "execution_count": 25,
   "metadata": {},
   "outputs": [],
   "source": [
    "driver.close()"
   ]
  },
  {
   "attachments": {},
   "cell_type": "markdown",
   "metadata": {},
   "source": [
    "## Selenium - Automatizaciones"
   ]
  },
  {
   "cell_type": "code",
   "execution_count": 26,
   "metadata": {},
   "outputs": [],
   "source": [
    "driver = webdriver.Chrome()\n"
   ]
  },
  {
   "cell_type": "code",
   "execution_count": 27,
   "metadata": {},
   "outputs": [],
   "source": [
    "driver.get(\"https://www.scotiabank.com.mx/scotia-fondos/terceros-distribuidores.aspx\")"
   ]
  },
  {
   "cell_type": "code",
   "execution_count": 28,
   "metadata": {},
   "outputs": [],
   "source": [
    "# Contenedor principal\n",
    "contenedor = driver.find_elements(By.CLASS_NAME, \"green-list\")[0]\n"
   ]
  },
  {
   "cell_type": "code",
   "execution_count": 29,
   "metadata": {},
   "outputs": [
    {
     "data": {
      "text/plain": [
       "['https://www.scotiabank.com.mx/scotia-fondos/deuda-plazos.aspx',\n",
       " 'https://www.scotiabank.com.mx/scotia-fondos/acciones-internacionales.aspx',\n",
       " 'https://www.scotiabank.com.mx/scotia-fondos/estrategicos.aspx',\n",
       " 'https://www.scotiabank.com.mx/scotia-fondos/perspectivas.aspx',\n",
       " 'https://www.scotiabank.com.mx/scotia-fondos/futuro-retiro.aspx',\n",
       " 'https://www.scotiabank.com.mx/scotia-fondos/acciones-mexico.aspx',\n",
       " 'https://www.scotiabank.com.mx/scotia-fondos/acciones-internacionales.aspx']"
      ]
     },
     "execution_count": 29,
     "metadata": {},
     "output_type": "execute_result"
    }
   ],
   "source": [
    "links = [x.get_attribute(\"href\") for x in contenedor.find_elements(By.TAG_NAME, \"a\")]\n",
    "links"
   ]
  },
  {
   "cell_type": "code",
   "execution_count": 30,
   "metadata": {},
   "outputs": [],
   "source": [
    "driver.get(links[0])"
   ]
  },
  {
   "attachments": {},
   "cell_type": "markdown",
   "metadata": {},
   "source": [
    "Regresar una página atrás"
   ]
  },
  {
   "cell_type": "code",
   "execution_count": 31,
   "metadata": {},
   "outputs": [],
   "source": [
    "driver.back()"
   ]
  },
  {
   "cell_type": "markdown",
   "metadata": {},
   "source": [
    "Volver a una página "
   ]
  },
  {
   "cell_type": "code",
   "execution_count": 32,
   "metadata": {},
   "outputs": [],
   "source": [
    "driver.forward()"
   ]
  },
  {
   "attachments": {},
   "cell_type": "markdown",
   "metadata": {},
   "source": [
    "Abrir una pestaña nueva"
   ]
  },
  {
   "cell_type": "code",
   "execution_count": 33,
   "metadata": {},
   "outputs": [],
   "source": [
    "driver.execute_script(\"window.open('');\")"
   ]
  },
  {
   "attachments": {},
   "cell_type": "markdown",
   "metadata": {},
   "source": [
    "#### Para cambiar entre pestañas"
   ]
  },
  {
   "attachments": {},
   "cell_type": "markdown",
   "metadata": {},
   "source": [
    "La lista está ordenada por el orden en el que se abrieron las pestañas"
   ]
  },
  {
   "cell_type": "code",
   "execution_count": 34,
   "metadata": {},
   "outputs": [
    {
     "data": {
      "text/plain": [
       "['E62C60BD5B7E5CAE30A0AF2DC46EFBE9', '8C7A9148CBFF142DDA8E5BE9CE201FE1']"
      ]
     },
     "execution_count": 34,
     "metadata": {},
     "output_type": "execute_result"
    }
   ],
   "source": [
    "driver.window_handles"
   ]
  },
  {
   "cell_type": "code",
   "execution_count": 35,
   "metadata": {},
   "outputs": [],
   "source": [
    "driver.switch_to.window(driver.window_handles[1])"
   ]
  },
  {
   "cell_type": "code",
   "execution_count": 36,
   "metadata": {},
   "outputs": [],
   "source": [
    "driver.get(\"https://www.google.com\")"
   ]
  },
  {
   "attachments": {},
   "cell_type": "markdown",
   "metadata": {},
   "source": [
    "Es recomendable usar múltiples `driver`s si es que queremos estar obteniendo datos o manejando datos entre múltiples pestañas."
   ]
  },
  {
   "cell_type": "code",
   "execution_count": 53,
   "metadata": {},
   "outputs": [],
   "source": [
    "driver2 = webdriver.Chrome()"
   ]
  },
  {
   "cell_type": "code",
   "execution_count": 54,
   "metadata": {},
   "outputs": [],
   "source": [
    "driver2.maximize_window()"
   ]
  },
  {
   "cell_type": "code",
   "execution_count": 55,
   "metadata": {},
   "outputs": [],
   "source": [
    "driver2.get(\"https://www.google.com/\")\n"
   ]
  },
  {
   "cell_type": "code",
   "execution_count": 56,
   "metadata": {},
   "outputs": [
    {
     "data": {
      "text/plain": [
       "[<selenium.webdriver.remote.webelement.WebElement (session=\"bd76db3a46e7a98c2b05c720e64b5423\", element=\"d7918d42-f32a-4b23-a5d9-daf0445aef6c\")>]"
      ]
     },
     "execution_count": 56,
     "metadata": {},
     "output_type": "execute_result"
    }
   ],
   "source": [
    "driver2.find_elements(By.CLASS_NAME, \"gLFyf\")\n"
   ]
  },
  {
   "attachments": {},
   "cell_type": "markdown",
   "metadata": {},
   "source": [
    "Usando `Keys` para poder llenar campos"
   ]
  },
  {
   "cell_type": "code",
   "execution_count": 57,
   "metadata": {},
   "outputs": [],
   "source": [
    "driver2.find_elements(By.CLASS_NAME, \"gLFyf\")[0].send_keys(\"python\")\n"
   ]
  },
  {
   "cell_type": "code",
   "execution_count": 65,
   "metadata": {},
   "outputs": [],
   "source": [
    "driver2.find_elements(By.CLASS_NAME, \"gNO89b\")[0].click()\n",
    "# driver.find_elements(By.NAME, \"btnK\")[0].click()\n"
   ]
  },
  {
   "attachments": {},
   "cell_type": "markdown",
   "metadata": {},
   "source": [
    "Las páginas dinámicas no despliegan todo el HTML, entonces es mas recomendable utilizar Selenium para poder mantener la interacción."
   ]
  },
  {
   "attachments": {},
   "cell_type": "markdown",
   "metadata": {},
   "source": [
    "# Regex"
   ]
  },
  {
   "cell_type": "code",
   "execution_count": 67,
   "metadata": {},
   "outputs": [],
   "source": [
    "import re"
   ]
  },
  {
   "cell_type": "code",
   "execution_count": 71,
   "metadata": {},
   "outputs": [],
   "source": [
    "poema = \"El universo se investiga a sí mismo. \\\n",
    "    Y la vida es la forma que emplea el universo para su investigación. \\\n",
    "    La flecha se da vuelta y se clava en sí misma. \\\n",
    "    Y el hombre es la punta de la flecha. \\\n",
    "    El hombre se clava en el hombre, pero el blanco de la flecha no es el hombre. \\\n",
    "    Un laberinto sólo se encuentra en otro laberinto.\\\n",
    "    El universal estado\"\n"
   ]
  },
  {
   "cell_type": "code",
   "execution_count": 75,
   "metadata": {},
   "outputs": [
    {
     "data": {
      "text/plain": [
       "['El', 'El', 'El']"
      ]
     },
     "execution_count": 75,
     "metadata": {},
     "output_type": "execute_result"
    }
   ],
   "source": [
    "re.findall(\"El\", poema)"
   ]
  },
  {
   "cell_type": "code",
   "execution_count": null,
   "metadata": {},
   "outputs": [],
   "source": []
  }
 ],
 "metadata": {
  "kernelspec": {
   "display_name": "python-finanzas",
   "language": "python",
   "name": "python3"
  },
  "language_info": {
   "codemirror_mode": {
    "name": "ipython",
    "version": 3
   },
   "file_extension": ".py",
   "mimetype": "text/x-python",
   "name": "python",
   "nbconvert_exporter": "python",
   "pygments_lexer": "ipython3",
   "version": "3.9.13"
  },
  "orig_nbformat": 4
 },
 "nbformat": 4,
 "nbformat_minor": 2
}
