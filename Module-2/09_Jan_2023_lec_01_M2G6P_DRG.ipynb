{
 "cells": [
  {
   "attachments": {},
   "cell_type": "markdown",
   "metadata": {},
   "source": [
    "# Temas vistos el 9 de enero del 2022\n",
    "[![Open In Colab](https://colab.research.google.com/assets/colab-badge.svg)](https://colab.research.google.com/github/danielroa98/Postgrad-ML/blob/main/Module-2/09_Jan_2023_lec_01_M2G6P_DRG.ipynb)"
   ]
  },
  {
   "cell_type": "code",
   "execution_count": 2,
   "metadata": {},
   "outputs": [],
   "source": [
    "import numpy as np\n",
    "import pandas as pd\n",
    "import matplotlib.pyplot as plt"
   ]
  },
  {
   "cell_type": "code",
   "execution_count": 3,
   "metadata": {},
   "outputs": [],
   "source": [
    "# Para gráficas grandes\n",
    "plt.rcParams['figure.figsize'] = (14,10)"
   ]
  },
  {
   "cell_type": "code",
   "execution_count": 4,
   "metadata": {},
   "outputs": [
    {
     "name": "stdout",
     "output_type": "stream",
     "text": [
      "5.5 es de tipo <class 'float'>\n",
      "(5.5+0j) es de tipo <class 'complex'>\n"
     ]
    }
   ],
   "source": [
    "a = 5.5\n",
    "print(f\"{a} es de tipo {type(a)}\")\n",
    "\n",
    "a = complex(5.5)\n",
    "print(f\"{a} es de tipo {type(a)}\")"
   ]
  },
  {
   "cell_type": "code",
   "execution_count": 7,
   "metadata": {},
   "outputs": [
    {
     "name": "stdout",
     "output_type": "stream",
     "text": [
      "[ 3.4  1.4  0.5 10.4  0. ]\n",
      "[0. 1. 2. 3. 4.]\n",
      "[1 1 1 1 1]\n",
      "[0 0 0 0 0]\n",
      "[ 0.   2.5  5.   7.5 10. ]\n",
      "[[0]\n",
      " [1]\n",
      " [2]]\n",
      "[0 1 2]\n",
      "[[0 1 2]]\n"
     ]
    }
   ],
   "source": [
    "# Creación manual de un vector\n",
    "## Se añade un dtype para indicar el tipo de dato\n",
    "x = np.array([3.4, 1.4, 0.5, 10.4, 0.0], dtype=float)\n",
    "print(x)\n",
    "\n",
    "# Creación de un vector de 0 a 5 con incrementos de 1\n",
    "## dtype indica el tipo de dato que queremos\n",
    "x = np.arange(0, 5, dtype=float)\n",
    "print(x)\n",
    "\n",
    "x = np.ones(5, dtype=int)\n",
    "print(x)\n",
    "\n",
    "x = np.zeros(5, dtype=int)\n",
    "print(x)\n",
    "\n",
    "x = np.linspace(0, 10, 5)\n",
    "print(x)\n",
    "\n",
    "# Creación de un vector columna\n",
    "## Realmente es una matriz de 3x1\n",
    "x_col = np.array([\n",
    "    [0],\n",
    "    [1],\n",
    "    [2]\n",
    "])\n",
    "print(x_col)\n",
    "\n",
    "# Creación de un vector fila\n",
    "x_row = np.array([0, 1, 2])\n",
    "print(x_row)\n",
    "\n",
    "# Transposing a column\n",
    "print(x_col.T)"
   ]
  },
  {
   "cell_type": "code",
   "execution_count": 8,
   "metadata": {},
   "outputs": [],
   "source": [
    "%matplotlib inline"
   ]
  },
  {
   "attachments": {},
   "cell_type": "markdown",
   "metadata": {},
   "source": [
    "### TODO: complete notes"
   ]
  },
  {
   "attachments": {},
   "cell_type": "markdown",
   "metadata": {},
   "source": [
    "## Ejercicios"
   ]
  },
  {
   "attachments": {},
   "cell_type": "markdown",
   "metadata": {},
   "source": [
    "1) Calcula el valor promedio de un vector arbitrario usando el producto punto"
   ]
  },
  {
   "cell_type": "code",
   "execution_count": 10,
   "metadata": {},
   "outputs": [
    {
     "name": "stdout",
     "output_type": "stream",
     "text": [
      "3.0\n"
     ]
    }
   ],
   "source": [
    "x = np.array([1,2,3,4,5])\n",
    "\n",
    "print((x @ np.ones(len(x))) / (len(x)))"
   ]
  },
  {
   "attachments": {},
   "cell_type": "markdown",
   "metadata": {},
   "source": [
    "2) Calcula el valor presente de una serie de flujos anuales de $100 por 15 años, suponiendo una tasa anual constante del 8% (anualidad vencida)."
   ]
  },
  {
   "cell_type": "code",
   "execution_count": null,
   "metadata": {},
   "outputs": [],
   "source": []
  }
 ],
 "metadata": {
  "kernelspec": {
   "display_name": "python-finanzas",
   "language": "python",
   "name": "python3"
  },
  "language_info": {
   "codemirror_mode": {
    "name": "ipython",
    "version": 3
   },
   "file_extension": ".py",
   "mimetype": "text/x-python",
   "name": "python",
   "nbconvert_exporter": "python",
   "pygments_lexer": "ipython3",
   "version": "3.9.13"
  },
  "orig_nbformat": 4,
  "vscode": {
   "interpreter": {
    "hash": "5e537b2ac24baf7be5bbe3eabdc05dfdbd26f37eb166ba5dd50ffe701cf16451"
   }
  }
 },
 "nbformat": 4,
 "nbformat_minor": 2
}
