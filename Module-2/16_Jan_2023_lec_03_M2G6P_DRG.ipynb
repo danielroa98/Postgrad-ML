{
 "cells": [
  {
   "attachments": {},
   "cell_type": "markdown",
   "metadata": {},
   "source": [
    "# Temas vistos el 16 de enero del 2022\n",
    "[![Open In Colab](https://colab.research.google.com/assets/colab-badge.svg)](https://colab.research.google.com/github/danielroa98/Postgrad-ML/blob/main/Module-2/16_Jan_2023_lec_03_M2G6P_DRG.ipynb)"
   ]
  },
  {
   "attachments": {},
   "cell_type": "markdown",
   "metadata": {},
   "source": [
    "Ver notas en Notion acerca de Probabilidad"
   ]
  },
  {
   "cell_type": "code",
   "execution_count": 1,
   "metadata": {},
   "outputs": [],
   "source": [
    "import pandas as pd\n",
    "import numpy as np\n",
    "import matplotlib.pyplot as plt"
   ]
  },
  {
   "cell_type": "code",
   "execution_count": 2,
   "metadata": {},
   "outputs": [
    {
     "name": "stdout",
     "output_type": "stream",
     "text": [
      "[1, 2, 3, 4, 5, 6]\n",
      "[1 2 3 4 5 6]\n",
      "{1, 2, 3, 4, 5}\n"
     ]
    }
   ],
   "source": [
    "# Usando una lista de datos\n",
    "Omega = [1, 2, 3, 4, 5, 6]\n",
    "print(Omega)\n",
    "\n",
    "# Usando un arreglo\n",
    "Omega = np.array([1, 2, 3, 4, 5, 6])\n",
    "print(Omega)\n",
    "\n",
    "muestra = [1, 1, 3, 5, 4, 2, 2, 2, 5, 2, 5]\n",
    "\n",
    "# El comando \"set\" viene por default en la librería estándar de Python,\n",
    "# convierte una muestra en un subconjunto.\n",
    "# Esto es usado para obtener el posible espacio muestral.\n",
    "Omega = set(muestra)\n",
    "print(Omega)\n"
   ]
  },
  {
   "cell_type": "code",
   "execution_count": 8,
   "metadata": {},
   "outputs": [
    {
     "name": "stdout",
     "output_type": "stream",
     "text": [
      "A:  {3, 4}\n",
      "A^c:  {1, 2, 4, 5, 6}\n"
     ]
    }
   ],
   "source": [
    "Omega = set([1, 2, 3, 4, 5, 6])\n",
    "\n",
    "# El dado cae en 3 o 4\n",
    "A = set([3]).union([4])\n",
    "print(\"A: \", A)\n",
    "\n",
    "# El dado no cae en 3\n",
    "A = set({3})\n",
    "print(\"A^c: \", Omega-A)\n"
   ]
  },
  {
   "cell_type": "code",
   "execution_count": 6,
   "metadata": {},
   "outputs": [
    {
     "name": "stdout",
     "output_type": "stream",
     "text": [
      "Omega siendo 2, implica que P(Omega) debe tener 4 elementos\n",
      "Omega siendo 6, implica que P(Omega) debe tener 64 elementos\n",
      "Omega siendo 20, implica que P(Omega) debe tener 1048576 elementos\n"
     ]
    }
   ],
   "source": [
    "# Tirar una moneda\n",
    "Omega = set([0, 1])\n",
    "print(f\"Omega siendo {len(Omega)}, implica que P(Omega) debe tener {2**len(Omega)} elementos\")\n",
    "\n",
    "# Se tira un dado\n",
    "Omega = set([1, 2, 3, 4, 5, 6])\n",
    "print(f\"Omega siendo {len(Omega)}, implica que P(Omega) debe tener {2**len(Omega)} elementos\")\n",
    "\n",
    "# El rating crediticio de un activo financiero\n",
    "Omega = set(range(20))\n",
    "print(f\"Omega siendo {len(Omega)}, implica que P(Omega) debe tener {2**len(Omega)} elementos\")\n"
   ]
  },
  {
   "cell_type": "code",
   "execution_count": 9,
   "metadata": {},
   "outputs": [
    {
     "name": "stdout",
     "output_type": "stream",
     "text": [
      "La probabilidad de observar el conjunto {1, 6}, es 0.3333\n"
     ]
    }
   ],
   "source": [
    "def uniforme_discreta(A, omega):\n",
    "\tP = len(A)/len(Omega)\n",
    "\treturn P\n",
    "\n",
    "\n",
    "Omega = set([1, 2, 3, 4, 5, 6])\n",
    "A = set({1, 6})\n",
    "P = uniforme_discreta(A, Omega)\n",
    "print(f\"La probabilidad de observar el conjunto {A}, es {round(P,4)}\")\n"
   ]
  }
 ],
 "metadata": {
  "kernelspec": {
   "display_name": "python-finanzas",
   "language": "python",
   "name": "python3"
  },
  "language_info": {
   "codemirror_mode": {
    "name": "ipython",
    "version": 3
   },
   "file_extension": ".py",
   "mimetype": "text/x-python",
   "name": "python",
   "nbconvert_exporter": "python",
   "pygments_lexer": "ipython3",
   "version": "3.9.13"
  },
  "orig_nbformat": 4,
  "vscode": {
   "interpreter": {
    "hash": "5e537b2ac24baf7be5bbe3eabdc05dfdbd26f37eb166ba5dd50ffe701cf16451"
   }
  }
 },
 "nbformat": 4,
 "nbformat_minor": 2
}
