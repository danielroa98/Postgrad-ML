{
 "cells": [
  {
   "attachments": {},
   "cell_type": "markdown",
   "metadata": {},
   "source": [
    "# Temas vistos el 01 de febrero del 2022\n",
    "[![Open In Colab](https://colab.research.google.com/assets/colab-badge.svg)](https://colab.research.google.com/github/danielroa98/Postgrad-ML/blob/main/Module-2/01_Feb_2023_lec_08_M2G6P_DRG.ipynb)"
   ]
  },
  {
   "cell_type": "code",
   "execution_count": 1,
   "metadata": {},
   "outputs": [],
   "source": [
    "import numpy as np\n",
    "import pandas as pd\n",
    "import seaborn as sns\n",
    "import scipy.stats as stats\n",
    "\n",
    "import matplotlib.pyplot as plt\n",
    "\n",
    "\n",
    "sns.set_theme()\n",
    "plt.rcParams[\"figure.figsize\"] = (12, 8)\n"
   ]
  },
  {
   "attachments": {},
   "cell_type": "markdown",
   "metadata": {},
   "source": [
    "## Precisión y Entropía"
   ]
  },
  {
   "attachments": {},
   "cell_type": "markdown",
   "metadata": {},
   "source": [
    "Cálculo de tasas de predicción del modelo del clima"
   ]
  },
  {
   "cell_type": "code",
   "execution_count": 4,
   "metadata": {},
   "outputs": [
    {
     "name": "stdout",
     "output_type": "stream",
     "text": [
      "Reportero nuevo: 7\n",
      "Reportero original: 5.8\n"
     ]
    }
   ],
   "source": [
    "reporteroOriginal = (1*3) + (.4*7)\n",
    "reporteroNuevo = (0*3)+(1*7)\n",
    "print(f\"Reportero nuevo: {round(reporteroNuevo, 2)}\\nReportero original: {round(reporteroOriginal,2)}\")"
   ]
  },
  {
   "attachments": {},
   "cell_type": "markdown",
   "metadata": {},
   "source": [
    "Check class notes"
   ]
  }
 ],
 "metadata": {
  "kernelspec": {
   "display_name": "python-finanzas",
   "language": "python",
   "name": "python3"
  },
  "language_info": {
   "codemirror_mode": {
    "name": "ipython",
    "version": 3
   },
   "file_extension": ".py",
   "mimetype": "text/x-python",
   "name": "python",
   "nbconvert_exporter": "python",
   "pygments_lexer": "ipython3",
   "version": "3.9.13"
  },
  "orig_nbformat": 4,
  "vscode": {
   "interpreter": {
    "hash": "5e537b2ac24baf7be5bbe3eabdc05dfdbd26f37eb166ba5dd50ffe701cf16451"
   }
  }
 },
 "nbformat": 4,
 "nbformat_minor": 2
}
