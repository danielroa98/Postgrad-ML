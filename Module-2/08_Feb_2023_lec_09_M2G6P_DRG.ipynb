{
 "cells": [
  {
   "attachments": {},
   "cell_type": "markdown",
   "metadata": {},
   "source": [
    "# Temas vistos el 08 de febrero del 2022\n",
    "[![Open In Colab](https://colab.research.google.com/assets/colab-badge.svg)](https://colab.research.google.com/github/danielroa98/Postgrad-ML/blob/main/Module-2/08_Feb_2023_lec_09_M2G6P_DRG.ipynb)"
   ]
  },
  {
   "cell_type": "code",
   "execution_count": 9,
   "metadata": {},
   "outputs": [],
   "source": [
    "import numpy as np\n",
    "import pandas as pd\n",
    "import seaborn as sns\n",
    "import matplotlib.pyplot as plt\n",
    "\n",
    "import scipy.stats as stats\n",
    "\n",
    "sns.set_theme() # Graficos mas agradables\n",
    "plt.rcParams[\"figure.figsize\"] = (10,6) # para graficos grandes"
   ]
  },
  {
   "attachments": {},
   "cell_type": "markdown",
   "metadata": {},
   "source": [
    "Calculo de la entropía en experimentos aleatorios clásicos, usando `Numpy`."
   ]
  },
  {
   "cell_type": "code",
   "execution_count": 2,
   "metadata": {},
   "outputs": [
    {
     "name": "stdout",
     "output_type": "stream",
     "text": [
      "Entropía al lanzar un dado 0.86\n",
      "La entropía de una moneda es 1.0\n"
     ]
    }
   ],
   "source": [
    "# Entropía de un dado\n",
    "p = 1/6\n",
    "h = -(np.log2(p)*p)*2\n",
    "print(f\"Entropía al lanzar un dado {round(h,2)}\")\n",
    "\n",
    "# Entropía al lanzar una moneda\n",
    "p = 0.5\n",
    "h = - (np.log2(p) * p) *2\n",
    "print(f\"La entropía de una moneda es {round(h,2)}\")"
   ]
  },
  {
   "attachments": {},
   "cell_type": "markdown",
   "metadata": {},
   "source": [
    "Calculo de la entropía en experimentos aleatorios clásicos, usando `Scikit`.\n",
    "\n",
    "Se usa base 2 porque es la base _tradicional_."
   ]
  },
  {
   "cell_type": "code",
   "execution_count": 4,
   "metadata": {},
   "outputs": [
    {
     "name": "stdout",
     "output_type": "stream",
     "text": [
      "Entropía al lanzar un dado 2.58\n",
      "La entropía de un dado cargado es 2.16\n"
     ]
    }
   ],
   "source": [
    "p = [1/6.0]*6\n",
    "h = stats.entropy(p, base=2)\n",
    "print(f\"Entropía al lanzar un dado {round(h,2)}\")\n",
    "\n",
    "p = [0.5, 0.5/5, 0.5/5, 0.5/5, 0.5/5, 0.5/5]\n",
    "h = stats.entropy(p, base=2)\n",
    "print(f\"La entropía de un dado cargado es {round(h,2)}\")\n"
   ]
  },
  {
   "attachments": {},
   "cell_type": "markdown",
   "metadata": {},
   "source": [
    "Cálculo de la entropía de distribuciones teóricas"
   ]
  },
  {
   "cell_type": "code",
   "execution_count": 5,
   "metadata": {},
   "outputs": [
    {
     "name": "stdout",
     "output_type": "stream",
     "text": [
      "La entropía es 1.4189385332046727\n"
     ]
    }
   ],
   "source": [
    "# Distribución normal\n",
    "H_NE = stats.norm.entropy(loc=0, scale=1)\n",
    "print(f\"La entropía es {H_NE}\")"
   ]
  },
  {
   "cell_type": "code",
   "execution_count": 10,
   "metadata": {},
   "outputs": [
    {
     "data": {
      "text/plain": [
       "[<matplotlib.lines.Line2D at 0x7fcda97cd730>]"
      ]
     },
     "execution_count": 10,
     "metadata": {},
     "output_type": "execute_result"
    },
    {
     "data": {
      "image/png": "[encoded data removed]",
      "text/plain": [
       "<Figure size 1000x600 with 1 Axes>"
      ]
     },
     "metadata": {},
     "output_type": "display_data"
    }
   ],
   "source": [
    "mu_space = np.linspace(-100, 100, 1000)\n",
    "H_N_SPACE = np.array([])\n",
    "\n",
    "for mu in mu_space:\n",
    "    # La varianza es fija\n",
    "    H_temp = H_NE = stats.norm.entropy(loc=mu, scale=1)\n",
    "    H_N_SPACE = np.append(H_N_SPACE, H_temp)\n",
    "\n",
    "plt.plot(mu_space, H_N_SPACE)\n"
   ]
  }
 ],
 "metadata": {
  "kernelspec": {
   "display_name": "python-finanzas",
   "language": "python",
   "name": "python3"
  },
  "language_info": {
   "codemirror_mode": {
    "name": "ipython",
    "version": 3
   },
   "file_extension": ".py",
   "mimetype": "text/x-python",
   "name": "python",
   "nbconvert_exporter": "python",
   "pygments_lexer": "ipython3",
   "version": "3.9.13"
  },
  "orig_nbformat": 4,
  "vscode": {
   "interpreter": {
    "hash": "5e537b2ac24baf7be5bbe3eabdc05dfdbd26f37eb166ba5dd50ffe701cf16451"
   }
  }
 },
 "nbformat": 4,
 "nbformat_minor": 2
}
