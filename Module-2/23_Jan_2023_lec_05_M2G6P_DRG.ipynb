{
 "cells": [
  {
   "attachments": {},
   "cell_type": "markdown",
   "metadata": {},
   "source": [
    "# Temas vistos el 23 de enero del 2022\n",
    "[![Open In Colab](https://colab.research.google.com/assets/colab-badge.svg)](https://colab.research.google.com/github/danielroa98/Postgrad-ML/blob/main/Module-2/23_Jan_2023_lec_05_M2G6P_DRG.ipynb)"
   ]
  },
  {
   "cell_type": "code",
   "execution_count": 1,
   "metadata": {},
   "outputs": [],
   "source": [
    "import numpy as np\n",
    "import pandas as pd"
   ]
  },
  {
   "attachments": {},
   "cell_type": "markdown",
   "metadata": {},
   "source": [
    "Ejercicio: ¿cúal es la esperanza de un dado?"
   ]
  },
  {
   "cell_type": "code",
   "execution_count": 3,
   "metadata": {},
   "outputs": [
    {
     "name": "stdout",
     "output_type": "stream",
     "text": [
      "La esperanza es: 3.5\n"
     ]
    }
   ],
   "source": [
    "def esperanza(X, omega, P):\n",
    "    E = 0\n",
    "    for w in omega:\n",
    "        E += X(w) * P(w, omega)\n",
    "    return E\n",
    "\n",
    "def VA_trivial(w):\n",
    "    return w\n",
    "\n",
    "def P_Unif_Disc(w, omega):\n",
    "    if(type(w) != list) & (type(w) != set):\n",
    "        l_w = 1\n",
    "    else:\n",
    "        l_w = len(w)\n",
    "    if(type(w) != list)|(type(omega)!=set):\n",
    "        l_0 = len(omega)\n",
    "    else:\n",
    "        l_0 = len(omega)\n",
    "    return l_w/l_0\n",
    "    \n",
    "omega = [1,2,3,4,5,6]\n",
    "E = esperanza(VA_trivial, omega, P_Unif_Disc)\n",
    "print(f\"La esperanza es: {E}\")"
   ]
  },
  {
   "attachments": {},
   "cell_type": "markdown",
   "metadata": {},
   "source": [
    "¿Cuál es la esperanza de tirar un dado de 6 caras cuando está cargado en el 6?"
   ]
  },
  {
   "cell_type": "code",
   "execution_count": 4,
   "metadata": {},
   "outputs": [
    {
     "name": "stdout",
     "output_type": "stream",
     "text": [
      "La esperanza es 4.0\n"
     ]
    }
   ],
   "source": [
    "P_load = {1: 2/15, 2: 2/15, 3: 2/15, 4: 2/15, 5: 2/15, 6: 1/3}\n",
    "\n",
    "def esperanza(X, omega, P):\n",
    "    E = 0\n",
    "    for w in omega:\n",
    "        E += X(w) * P[w]\n",
    "    return E\n",
    "\n",
    "E = esperanza(VA_trivial, omega, P_load)\n",
    "print(f\"La esperanza es {E}\")"
   ]
  },
  {
   "cell_type": "code",
   "execution_count": null,
   "metadata": {},
   "outputs": [],
   "source": []
  }
 ],
 "metadata": {
  "kernelspec": {
   "display_name": "python-finanzas",
   "language": "python",
   "name": "python3"
  },
  "language_info": {
   "codemirror_mode": {
    "name": "ipython",
    "version": 3
   },
   "file_extension": ".py",
   "mimetype": "text/x-python",
   "name": "python",
   "nbconvert_exporter": "python",
   "pygments_lexer": "ipython3",
   "version": "3.9.13 (main, Oct 13 2022, 16:12:30) \n[Clang 12.0.0 ]"
  },
  "orig_nbformat": 4,
  "vscode": {
   "interpreter": {
    "hash": "5e537b2ac24baf7be5bbe3eabdc05dfdbd26f37eb166ba5dd50ffe701cf16451"
   }
  }
 },
 "nbformat": 4,
 "nbformat_minor": 2
}
