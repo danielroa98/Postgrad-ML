{
 "cells": [
  {
   "cell_type": "markdown",
   "metadata": {},
   "source": [
    "# Temas vistos el 7 de diciembre del 2022\n",
    "[![Open In Colab](https://colab.research.google.com/assets/colab-badge.svg)](https://colab.research.google.com/github/danielroa98/Postgrad-ML/blob/main/Module-1/07_Dec_2022_lec_09_M1G6P_DRG.ipynb)"
   ]
  },
  {
   "cell_type": "markdown",
   "metadata": {},
   "source": [
    "# Library imports"
   ]
  },
  {
   "cell_type": "code",
   "execution_count": 1,
   "metadata": {},
   "outputs": [],
   "source": [
    "import os\n",
    "import pandas as pd\n",
    "import numpy as np"
   ]
  },
  {
   "cell_type": "code",
   "execution_count": 2,
   "metadata": {},
   "outputs": [
    {
     "data": {
      "text/html": [
       "<div>\n",
       "<style scoped>\n",
       "    .dataframe tbody tr th:only-of-type {\n",
       "        vertical-align: middle;\n",
       "    }\n",
       "\n",
       "    .dataframe tbody tr th {\n",
       "        vertical-align: top;\n",
       "    }\n",
       "\n",
       "    .dataframe thead th {\n",
       "        text-align: right;\n",
       "    }\n",
       "</style>\n",
       "<table border=\"1\" class=\"dataframe\">\n",
       "  <thead>\n",
       "    <tr style=\"text-align: right;\">\n",
       "      <th></th>\n",
       "      <th>First Name</th>\n",
       "      <th>Gender</th>\n",
       "      <th>Start Date</th>\n",
       "      <th>Last Login Time</th>\n",
       "      <th>Salary</th>\n",
       "      <th>Bonus %</th>\n",
       "      <th>Senior Management</th>\n",
       "      <th>Team</th>\n",
       "    </tr>\n",
       "  </thead>\n",
       "  <tbody>\n",
       "    <tr>\n",
       "      <th>0</th>\n",
       "      <td>Douglas</td>\n",
       "      <td>Male</td>\n",
       "      <td>8/6/1993</td>\n",
       "      <td>12:42 PM</td>\n",
       "      <td>97308</td>\n",
       "      <td>6.945</td>\n",
       "      <td>True</td>\n",
       "      <td>Marketing</td>\n",
       "    </tr>\n",
       "    <tr>\n",
       "      <th>1</th>\n",
       "      <td>Thomas</td>\n",
       "      <td>Male</td>\n",
       "      <td>3/31/1996</td>\n",
       "      <td>6:53 AM</td>\n",
       "      <td>61933</td>\n",
       "      <td>4.170</td>\n",
       "      <td>True</td>\n",
       "      <td>NaN</td>\n",
       "    </tr>\n",
       "    <tr>\n",
       "      <th>2</th>\n",
       "      <td>Maria</td>\n",
       "      <td>Female</td>\n",
       "      <td>4/23/1993</td>\n",
       "      <td>11:17 AM</td>\n",
       "      <td>130590</td>\n",
       "      <td>11.858</td>\n",
       "      <td>False</td>\n",
       "      <td>Finance</td>\n",
       "    </tr>\n",
       "    <tr>\n",
       "      <th>3</th>\n",
       "      <td>Jerry</td>\n",
       "      <td>Male</td>\n",
       "      <td>3/4/2005</td>\n",
       "      <td>1:00 PM</td>\n",
       "      <td>138705</td>\n",
       "      <td>9.340</td>\n",
       "      <td>True</td>\n",
       "      <td>Finance</td>\n",
       "    </tr>\n",
       "    <tr>\n",
       "      <th>4</th>\n",
       "      <td>Larry</td>\n",
       "      <td>Male</td>\n",
       "      <td>1/24/1998</td>\n",
       "      <td>4:47 PM</td>\n",
       "      <td>101004</td>\n",
       "      <td>1.389</td>\n",
       "      <td>True</td>\n",
       "      <td>Client Services</td>\n",
       "    </tr>\n",
       "  </tbody>\n",
       "</table>\n",
       "</div>"
      ],
      "text/plain": [
       "  First Name  Gender Start Date Last Login Time  Salary  Bonus %  \\\n",
       "0    Douglas    Male   8/6/1993        12:42 PM   97308    6.945   \n",
       "1     Thomas    Male  3/31/1996         6:53 AM   61933    4.170   \n",
       "2      Maria  Female  4/23/1993        11:17 AM  130590   11.858   \n",
       "3      Jerry    Male   3/4/2005         1:00 PM  138705    9.340   \n",
       "4      Larry    Male  1/24/1998         4:47 PM  101004    1.389   \n",
       "\n",
       "  Senior Management             Team  \n",
       "0              True        Marketing  \n",
       "1              True              NaN  \n",
       "2             False          Finance  \n",
       "3              True          Finance  \n",
       "4              True  Client Services  "
      ]
     },
     "execution_count": 2,
     "metadata": {},
     "output_type": "execute_result"
    }
   ],
   "source": [
    "emp = pd.read_csv('./Datasets/employees_2.csv')\n",
    "emp.head()"
   ]
  },
  {
   "cell_type": "markdown",
   "metadata": {
    "tags": [
     "Pandas"
    ]
   },
   "source": [
    "# Continuation from the last [lecture](./05_Dec_2022_lec_09_M1G6P_DRG.ipynb)"
   ]
  },
  {
   "cell_type": "markdown",
   "metadata": {},
   "source": [
    "## Calculo de variables nuevas a partir de los valores de _diversas_ columnas"
   ]
  },
  {
   "cell_type": "markdown",
   "metadata": {},
   "source": []
  },
  {
   "cell_type": "markdown",
   "metadata": {},
   "source": [
    "Calcular un incremento en el bono (Bonus %) basado en las siguientes condiciones:\n",
    "1. Si el salario es menor a $90,000 y el equipo es de Marketing --> se hace un incremento del 10%\n",
    "2. Si el salario es mayor o igual a $90,000 y el equipo es de Finanzas --> se hace un incremento del 15%\n",
    "3. En otro caso, se deja el bono igual"
   ]
  },
  {
   "cell_type": "code",
   "execution_count": 3,
   "metadata": {},
   "outputs": [],
   "source": [
    "def new_bonus(employee_row):\n",
    "    if employee_row['Salary'] < 90000 and employee_row['Team'] == 'Marketing':\n",
    "        return employee_row['Bonus %']*1.1\n",
    "    elif employee_row['Salary'] >= 90000 and employee_row['Team'] == 'Finance':\n",
    "        return employee_row['Bonus %']*1.15\n",
    "    else:\n",
    "        return employee_row['Bonus %']\n"
   ]
  },
  {
   "cell_type": "markdown",
   "metadata": {},
   "source": [
    "Antes hubiera sido\n",
    "\n",
    "```python\n",
    "\n",
    "new_column = Series.apply(function)\n",
    "\n",
    "```\n",
    "\n",
    "Ahora se aplica como se ve a continuación:"
   ]
  },
  {
   "cell_type": "code",
   "execution_count": 4,
   "metadata": {},
   "outputs": [
    {
     "data": {
      "text/plain": [
       "0       6.9450\n",
       "1       4.1700\n",
       "2      13.6367\n",
       "3      10.7410\n",
       "4       1.3890\n",
       "        ...   \n",
       "995    16.6550\n",
       "996    19.6750\n",
       "997     1.4210\n",
       "998    11.9850\n",
       "999    10.1690\n",
       "Length: 1000, dtype: float64"
      ]
     },
     "execution_count": 4,
     "metadata": {},
     "output_type": "execute_result"
    }
   ],
   "source": [
    "# Además de poner 'columns' en el axis también se podría poner un 1\n",
    "emp.apply(new_bonus, axis='columns')"
   ]
  },
  {
   "cell_type": "code",
   "execution_count": 5,
   "metadata": {},
   "outputs": [
    {
     "data": {
      "text/html": [
       "<div>\n",
       "<style scoped>\n",
       "    .dataframe tbody tr th:only-of-type {\n",
       "        vertical-align: middle;\n",
       "    }\n",
       "\n",
       "    .dataframe tbody tr th {\n",
       "        vertical-align: top;\n",
       "    }\n",
       "\n",
       "    .dataframe thead th {\n",
       "        text-align: right;\n",
       "    }\n",
       "</style>\n",
       "<table border=\"1\" class=\"dataframe\">\n",
       "  <thead>\n",
       "    <tr style=\"text-align: right;\">\n",
       "      <th></th>\n",
       "      <th>First Name</th>\n",
       "      <th>Gender</th>\n",
       "      <th>Start Date</th>\n",
       "      <th>Last Login Time</th>\n",
       "      <th>Salary</th>\n",
       "      <th>Bonus %</th>\n",
       "      <th>Senior Management</th>\n",
       "      <th>Team</th>\n",
       "      <th>New_Bonus</th>\n",
       "    </tr>\n",
       "  </thead>\n",
       "  <tbody>\n",
       "    <tr>\n",
       "      <th>0</th>\n",
       "      <td>Douglas</td>\n",
       "      <td>Male</td>\n",
       "      <td>8/6/1993</td>\n",
       "      <td>12:42 PM</td>\n",
       "      <td>97308</td>\n",
       "      <td>6.945</td>\n",
       "      <td>True</td>\n",
       "      <td>Marketing</td>\n",
       "      <td>6.9450</td>\n",
       "    </tr>\n",
       "    <tr>\n",
       "      <th>1</th>\n",
       "      <td>Thomas</td>\n",
       "      <td>Male</td>\n",
       "      <td>3/31/1996</td>\n",
       "      <td>6:53 AM</td>\n",
       "      <td>61933</td>\n",
       "      <td>4.170</td>\n",
       "      <td>True</td>\n",
       "      <td>NaN</td>\n",
       "      <td>4.1700</td>\n",
       "    </tr>\n",
       "    <tr>\n",
       "      <th>2</th>\n",
       "      <td>Maria</td>\n",
       "      <td>Female</td>\n",
       "      <td>4/23/1993</td>\n",
       "      <td>11:17 AM</td>\n",
       "      <td>130590</td>\n",
       "      <td>11.858</td>\n",
       "      <td>False</td>\n",
       "      <td>Finance</td>\n",
       "      <td>13.6367</td>\n",
       "    </tr>\n",
       "    <tr>\n",
       "      <th>3</th>\n",
       "      <td>Jerry</td>\n",
       "      <td>Male</td>\n",
       "      <td>3/4/2005</td>\n",
       "      <td>1:00 PM</td>\n",
       "      <td>138705</td>\n",
       "      <td>9.340</td>\n",
       "      <td>True</td>\n",
       "      <td>Finance</td>\n",
       "      <td>10.7410</td>\n",
       "    </tr>\n",
       "    <tr>\n",
       "      <th>4</th>\n",
       "      <td>Larry</td>\n",
       "      <td>Male</td>\n",
       "      <td>1/24/1998</td>\n",
       "      <td>4:47 PM</td>\n",
       "      <td>101004</td>\n",
       "      <td>1.389</td>\n",
       "      <td>True</td>\n",
       "      <td>Client Services</td>\n",
       "      <td>1.3890</td>\n",
       "    </tr>\n",
       "  </tbody>\n",
       "</table>\n",
       "</div>"
      ],
      "text/plain": [
       "  First Name  Gender Start Date Last Login Time  Salary  Bonus %  \\\n",
       "0    Douglas    Male   8/6/1993        12:42 PM   97308    6.945   \n",
       "1     Thomas    Male  3/31/1996         6:53 AM   61933    4.170   \n",
       "2      Maria  Female  4/23/1993        11:17 AM  130590   11.858   \n",
       "3      Jerry    Male   3/4/2005         1:00 PM  138705    9.340   \n",
       "4      Larry    Male  1/24/1998         4:47 PM  101004    1.389   \n",
       "\n",
       "  Senior Management             Team  New_Bonus  \n",
       "0              True        Marketing     6.9450  \n",
       "1              True              NaN     4.1700  \n",
       "2             False          Finance    13.6367  \n",
       "3              True          Finance    10.7410  \n",
       "4              True  Client Services     1.3890  "
      ]
     },
     "execution_count": 5,
     "metadata": {},
     "output_type": "execute_result"
    }
   ],
   "source": [
    "emp['New_Bonus'] = emp.apply(new_bonus, axis='columns')\n",
    "emp.head()"
   ]
  },
  {
   "attachments": {},
   "cell_type": "markdown",
   "metadata": {},
   "source": [
    "## Método `copy()`\n",
    "\n",
    "Probablemente no se quieren sobrescribir los valores de un DataFrame, por lo tanto se crea una copia."
   ]
  },
  {
   "cell_type": "code",
   "execution_count": 6,
   "metadata": {},
   "outputs": [
    {
     "data": {
      "text/plain": [
       "0    Douglas\n",
       "1     Thomas\n",
       "2      Maria\n",
       "3      Jerry\n",
       "4      Larry\n",
       "Name: First Name, dtype: object"
      ]
     },
     "execution_count": 6,
     "metadata": {},
     "output_type": "execute_result"
    }
   ],
   "source": [
    "names = emp['First Name'].copy() # La columna original del DataFrame no cambia.\n",
    "names.head()"
   ]
  },
  {
   "attachments": {},
   "cell_type": "markdown",
   "metadata": {},
   "source": [
    "Como es una serie, se pueden obtener datos sin tener que utilizar `loc[]` ni `iloc[]`"
   ]
  },
  {
   "cell_type": "code",
   "execution_count": 7,
   "metadata": {},
   "outputs": [
    {
     "data": {
      "text/plain": [
       "1    Thomas\n",
       "2     Maria\n",
       "3     Jerry\n",
       "4     Larry\n",
       "5    Dennis\n",
       "Name: First Name, dtype: object"
      ]
     },
     "execution_count": 7,
     "metadata": {},
     "output_type": "execute_result"
    }
   ],
   "source": [
    "names[1:6]"
   ]
  },
  {
   "attachments": {},
   "cell_type": "markdown",
   "metadata": {},
   "source": [
    "## `groupby` Object\n",
    "\n",
    "1. Se crean grupos basados en valores comunes de ciertas columnas.\n",
    "2. Ideal para agrupar columnas que tienen valores repetidos."
   ]
  },
  {
   "cell_type": "code",
   "execution_count": 8,
   "metadata": {},
   "outputs": [],
   "source": [
    "# Este se convierte en un 'groupby' object\n",
    "teams = emp.groupby('Team')\n",
    "## el argumento es un string o una lista de strings\n",
    "## va a hacer un loop a través de las filas que tengan cada uno de los valores de la columna Team\n"
   ]
  },
  {
   "cell_type": "code",
   "execution_count": 9,
   "metadata": {},
   "outputs": [
    {
     "data": {
      "text/plain": [
       "pandas.core.groupby.generic.DataFrameGroupBy"
      ]
     },
     "execution_count": 9,
     "metadata": {},
     "output_type": "execute_result"
    }
   ],
   "source": [
    "type(teams)"
   ]
  },
  {
   "cell_type": "code",
   "execution_count": 10,
   "metadata": {},
   "outputs": [
    {
     "data": {
      "text/plain": [
       "10"
      ]
     },
     "execution_count": 10,
     "metadata": {},
     "output_type": "execute_result"
    }
   ],
   "source": [
    "len(teams)"
   ]
  },
  {
   "cell_type": "code",
   "execution_count": 11,
   "metadata": {},
   "outputs": [
    {
     "data": {
      "text/plain": [
       "Client Services         106\n",
       "Finance                 102\n",
       "Business Development    101\n",
       "Marketing                98\n",
       "Product                  95\n",
       "Sales                    94\n",
       "Engineering              92\n",
       "Human Resources          91\n",
       "Distribution             90\n",
       "Legal                    88\n",
       "Name: Team, dtype: int64"
      ]
     },
     "execution_count": 11,
     "metadata": {},
     "output_type": "execute_result"
    }
   ],
   "source": [
    "emp['Team'].value_counts()"
   ]
  },
  {
   "cell_type": "code",
   "execution_count": 12,
   "metadata": {},
   "outputs": [
    {
     "data": {
      "text/plain": [
       "10"
      ]
     },
     "execution_count": 12,
     "metadata": {},
     "output_type": "execute_result"
    }
   ],
   "source": [
    "emp['Team'].nunique()"
   ]
  },
  {
   "cell_type": "code",
   "execution_count": 14,
   "metadata": {},
   "outputs": [
    {
     "data": {
      "text/plain": [
       "11"
      ]
     },
     "execution_count": 14,
     "metadata": {},
     "output_type": "execute_result"
    }
   ],
   "source": [
    "emp['Team'].nunique(dropna=False)"
   ]
  },
  {
   "cell_type": "code",
   "execution_count": 15,
   "metadata": {},
   "outputs": [
    {
     "data": {
      "text/plain": [
       "array(['Marketing', nan, 'Finance', 'Client Services', 'Legal', 'Product',\n",
       "       'Engineering', 'Business Development', 'Human Resources', 'Sales',\n",
       "       'Distribution'], dtype=object)"
      ]
     },
     "execution_count": 15,
     "metadata": {},
     "output_type": "execute_result"
    }
   ],
   "source": [
    "emp['Team'].unique()"
   ]
  },
  {
   "cell_type": "code",
   "execution_count": 16,
   "metadata": {},
   "outputs": [
    {
     "data": {
      "text/plain": [
       "Team\n",
       "Business Development    101\n",
       "Client Services         106\n",
       "Distribution             90\n",
       "Engineering              92\n",
       "Finance                 102\n",
       "Human Resources          91\n",
       "Legal                    88\n",
       "Marketing                98\n",
       "Product                  95\n",
       "Sales                    94\n",
       "dtype: int64"
      ]
     },
     "execution_count": 16,
     "metadata": {},
     "output_type": "execute_result"
    }
   ],
   "source": [
    "# Se quiere ver el tamaño de cada equipo\n",
    "teams.size()"
   ]
  },
  {
   "attachments": {},
   "cell_type": "markdown",
   "metadata": {},
   "source": [
    "### Métodos para `groupby()`"
   ]
  },
  {
   "attachments": {},
   "cell_type": "markdown",
   "metadata": {},
   "source": [
    "`first()` da el primer registro dentro de cada grupo.\n",
    "\n",
    "- Por default se ordena alfabeticamente."
   ]
  },
  {
   "cell_type": "code",
   "execution_count": 17,
   "metadata": {},
   "outputs": [
    {
     "data": {
      "text/html": [
       "<div>\n",
       "<style scoped>\n",
       "    .dataframe tbody tr th:only-of-type {\n",
       "        vertical-align: middle;\n",
       "    }\n",
       "\n",
       "    .dataframe tbody tr th {\n",
       "        vertical-align: top;\n",
       "    }\n",
       "\n",
       "    .dataframe thead th {\n",
       "        text-align: right;\n",
       "    }\n",
       "</style>\n",
       "<table border=\"1\" class=\"dataframe\">\n",
       "  <thead>\n",
       "    <tr style=\"text-align: right;\">\n",
       "      <th></th>\n",
       "      <th>First Name</th>\n",
       "      <th>Gender</th>\n",
       "      <th>Start Date</th>\n",
       "      <th>Last Login Time</th>\n",
       "      <th>Salary</th>\n",
       "      <th>Bonus %</th>\n",
       "      <th>Senior Management</th>\n",
       "      <th>New_Bonus</th>\n",
       "    </tr>\n",
       "    <tr>\n",
       "      <th>Team</th>\n",
       "      <th></th>\n",
       "      <th></th>\n",
       "      <th></th>\n",
       "      <th></th>\n",
       "      <th></th>\n",
       "      <th></th>\n",
       "      <th></th>\n",
       "      <th></th>\n",
       "    </tr>\n",
       "  </thead>\n",
       "  <tbody>\n",
       "    <tr>\n",
       "      <th>Business Development</th>\n",
       "      <td>Frances</td>\n",
       "      <td>Female</td>\n",
       "      <td>8/8/2002</td>\n",
       "      <td>6:51 AM</td>\n",
       "      <td>139852</td>\n",
       "      <td>7.524</td>\n",
       "      <td>True</td>\n",
       "      <td>7.5240</td>\n",
       "    </tr>\n",
       "    <tr>\n",
       "      <th>Client Services</th>\n",
       "      <td>Larry</td>\n",
       "      <td>Male</td>\n",
       "      <td>1/24/1998</td>\n",
       "      <td>4:47 PM</td>\n",
       "      <td>101004</td>\n",
       "      <td>1.389</td>\n",
       "      <td>True</td>\n",
       "      <td>1.3890</td>\n",
       "    </tr>\n",
       "    <tr>\n",
       "      <th>Distribution</th>\n",
       "      <td>Michael</td>\n",
       "      <td>Male</td>\n",
       "      <td>10/10/2008</td>\n",
       "      <td>11:25 AM</td>\n",
       "      <td>99283</td>\n",
       "      <td>2.665</td>\n",
       "      <td>True</td>\n",
       "      <td>2.6650</td>\n",
       "    </tr>\n",
       "    <tr>\n",
       "      <th>Engineering</th>\n",
       "      <td>Angela</td>\n",
       "      <td>Female</td>\n",
       "      <td>11/22/2005</td>\n",
       "      <td>6:29 AM</td>\n",
       "      <td>95570</td>\n",
       "      <td>18.523</td>\n",
       "      <td>True</td>\n",
       "      <td>18.5230</td>\n",
       "    </tr>\n",
       "    <tr>\n",
       "      <th>Finance</th>\n",
       "      <td>Maria</td>\n",
       "      <td>Female</td>\n",
       "      <td>4/23/1993</td>\n",
       "      <td>11:17 AM</td>\n",
       "      <td>130590</td>\n",
       "      <td>11.858</td>\n",
       "      <td>False</td>\n",
       "      <td>13.6367</td>\n",
       "    </tr>\n",
       "    <tr>\n",
       "      <th>Human Resources</th>\n",
       "      <td>Brandon</td>\n",
       "      <td>Male</td>\n",
       "      <td>12/1/1980</td>\n",
       "      <td>1:08 AM</td>\n",
       "      <td>112807</td>\n",
       "      <td>17.492</td>\n",
       "      <td>True</td>\n",
       "      <td>17.4920</td>\n",
       "    </tr>\n",
       "    <tr>\n",
       "      <th>Legal</th>\n",
       "      <td>Dennis</td>\n",
       "      <td>Male</td>\n",
       "      <td>4/18/1987</td>\n",
       "      <td>1:35 AM</td>\n",
       "      <td>115163</td>\n",
       "      <td>10.125</td>\n",
       "      <td>False</td>\n",
       "      <td>10.1250</td>\n",
       "    </tr>\n",
       "    <tr>\n",
       "      <th>Marketing</th>\n",
       "      <td>Douglas</td>\n",
       "      <td>Male</td>\n",
       "      <td>8/6/1993</td>\n",
       "      <td>12:42 PM</td>\n",
       "      <td>97308</td>\n",
       "      <td>6.945</td>\n",
       "      <td>True</td>\n",
       "      <td>6.9450</td>\n",
       "    </tr>\n",
       "    <tr>\n",
       "      <th>Product</th>\n",
       "      <td>Ruby</td>\n",
       "      <td>Female</td>\n",
       "      <td>8/17/1987</td>\n",
       "      <td>4:20 PM</td>\n",
       "      <td>65476</td>\n",
       "      <td>10.012</td>\n",
       "      <td>True</td>\n",
       "      <td>10.0120</td>\n",
       "    </tr>\n",
       "    <tr>\n",
       "      <th>Sales</th>\n",
       "      <td>Gary</td>\n",
       "      <td>Male</td>\n",
       "      <td>1/27/2008</td>\n",
       "      <td>11:40 PM</td>\n",
       "      <td>109831</td>\n",
       "      <td>5.831</td>\n",
       "      <td>False</td>\n",
       "      <td>5.8310</td>\n",
       "    </tr>\n",
       "  </tbody>\n",
       "</table>\n",
       "</div>"
      ],
      "text/plain": [
       "                     First Name  Gender  Start Date Last Login Time  Salary  \\\n",
       "Team                                                                          \n",
       "Business Development    Frances  Female    8/8/2002         6:51 AM  139852   \n",
       "Client Services           Larry    Male   1/24/1998         4:47 PM  101004   \n",
       "Distribution            Michael    Male  10/10/2008        11:25 AM   99283   \n",
       "Engineering              Angela  Female  11/22/2005         6:29 AM   95570   \n",
       "Finance                   Maria  Female   4/23/1993        11:17 AM  130590   \n",
       "Human Resources         Brandon    Male   12/1/1980         1:08 AM  112807   \n",
       "Legal                    Dennis    Male   4/18/1987         1:35 AM  115163   \n",
       "Marketing               Douglas    Male    8/6/1993        12:42 PM   97308   \n",
       "Product                    Ruby  Female   8/17/1987         4:20 PM   65476   \n",
       "Sales                      Gary    Male   1/27/2008        11:40 PM  109831   \n",
       "\n",
       "                      Bonus %  Senior Management  New_Bonus  \n",
       "Team                                                         \n",
       "Business Development    7.524               True     7.5240  \n",
       "Client Services         1.389               True     1.3890  \n",
       "Distribution            2.665               True     2.6650  \n",
       "Engineering            18.523               True    18.5230  \n",
       "Finance                11.858              False    13.6367  \n",
       "Human Resources        17.492               True    17.4920  \n",
       "Legal                  10.125              False    10.1250  \n",
       "Marketing               6.945               True     6.9450  \n",
       "Product                10.012               True    10.0120  \n",
       "Sales                   5.831              False     5.8310  "
      ]
     },
     "execution_count": 17,
     "metadata": {},
     "output_type": "execute_result"
    }
   ],
   "source": [
    "teams.first()"
   ]
  },
  {
   "cell_type": "code",
   "execution_count": 18,
   "metadata": {},
   "outputs": [
    {
     "data": {
      "text/html": [
       "<div>\n",
       "<style scoped>\n",
       "    .dataframe tbody tr th:only-of-type {\n",
       "        vertical-align: middle;\n",
       "    }\n",
       "\n",
       "    .dataframe tbody tr th {\n",
       "        vertical-align: top;\n",
       "    }\n",
       "\n",
       "    .dataframe thead th {\n",
       "        text-align: right;\n",
       "    }\n",
       "</style>\n",
       "<table border=\"1\" class=\"dataframe\">\n",
       "  <thead>\n",
       "    <tr style=\"text-align: right;\">\n",
       "      <th></th>\n",
       "      <th>First Name</th>\n",
       "      <th>Gender</th>\n",
       "      <th>Start Date</th>\n",
       "      <th>Last Login Time</th>\n",
       "      <th>Salary</th>\n",
       "      <th>Bonus %</th>\n",
       "      <th>Senior Management</th>\n",
       "      <th>Team</th>\n",
       "      <th>New_Bonus</th>\n",
       "    </tr>\n",
       "  </thead>\n",
       "  <tbody>\n",
       "    <tr>\n",
       "      <th>0</th>\n",
       "      <td>Douglas</td>\n",
       "      <td>Male</td>\n",
       "      <td>8/6/1993</td>\n",
       "      <td>12:42 PM</td>\n",
       "      <td>97308</td>\n",
       "      <td>6.945</td>\n",
       "      <td>True</td>\n",
       "      <td>Marketing</td>\n",
       "      <td>6.9450</td>\n",
       "    </tr>\n",
       "    <tr>\n",
       "      <th>1</th>\n",
       "      <td>Thomas</td>\n",
       "      <td>Male</td>\n",
       "      <td>3/31/1996</td>\n",
       "      <td>6:53 AM</td>\n",
       "      <td>61933</td>\n",
       "      <td>4.170</td>\n",
       "      <td>True</td>\n",
       "      <td>NaN</td>\n",
       "      <td>4.1700</td>\n",
       "    </tr>\n",
       "    <tr>\n",
       "      <th>2</th>\n",
       "      <td>Maria</td>\n",
       "      <td>Female</td>\n",
       "      <td>4/23/1993</td>\n",
       "      <td>11:17 AM</td>\n",
       "      <td>130590</td>\n",
       "      <td>11.858</td>\n",
       "      <td>False</td>\n",
       "      <td>Finance</td>\n",
       "      <td>13.6367</td>\n",
       "    </tr>\n",
       "    <tr>\n",
       "      <th>3</th>\n",
       "      <td>Jerry</td>\n",
       "      <td>Male</td>\n",
       "      <td>3/4/2005</td>\n",
       "      <td>1:00 PM</td>\n",
       "      <td>138705</td>\n",
       "      <td>9.340</td>\n",
       "      <td>True</td>\n",
       "      <td>Finance</td>\n",
       "      <td>10.7410</td>\n",
       "    </tr>\n",
       "    <tr>\n",
       "      <th>4</th>\n",
       "      <td>Larry</td>\n",
       "      <td>Male</td>\n",
       "      <td>1/24/1998</td>\n",
       "      <td>4:47 PM</td>\n",
       "      <td>101004</td>\n",
       "      <td>1.389</td>\n",
       "      <td>True</td>\n",
       "      <td>Client Services</td>\n",
       "      <td>1.3890</td>\n",
       "    </tr>\n",
       "  </tbody>\n",
       "</table>\n",
       "</div>"
      ],
      "text/plain": [
       "  First Name  Gender Start Date Last Login Time  Salary  Bonus %  \\\n",
       "0    Douglas    Male   8/6/1993        12:42 PM   97308    6.945   \n",
       "1     Thomas    Male  3/31/1996         6:53 AM   61933    4.170   \n",
       "2      Maria  Female  4/23/1993        11:17 AM  130590   11.858   \n",
       "3      Jerry    Male   3/4/2005         1:00 PM  138705    9.340   \n",
       "4      Larry    Male  1/24/1998         4:47 PM  101004    1.389   \n",
       "\n",
       "  Senior Management             Team  New_Bonus  \n",
       "0              True        Marketing     6.9450  \n",
       "1              True              NaN     4.1700  \n",
       "2             False          Finance    13.6367  \n",
       "3              True          Finance    10.7410  \n",
       "4              True  Client Services     1.3890  "
      ]
     },
     "execution_count": 18,
     "metadata": {},
     "output_type": "execute_result"
    }
   ],
   "source": [
    "emp.head()"
   ]
  },
  {
   "attachments": {},
   "cell_type": "markdown",
   "metadata": {},
   "source": [
    "`last()` nos da la última ocurrencia dentro de cada grupo."
   ]
  },
  {
   "cell_type": "code",
   "execution_count": 19,
   "metadata": {},
   "outputs": [
    {
     "data": {
      "text/html": [
       "<div>\n",
       "<style scoped>\n",
       "    .dataframe tbody tr th:only-of-type {\n",
       "        vertical-align: middle;\n",
       "    }\n",
       "\n",
       "    .dataframe tbody tr th {\n",
       "        vertical-align: top;\n",
       "    }\n",
       "\n",
       "    .dataframe thead th {\n",
       "        text-align: right;\n",
       "    }\n",
       "</style>\n",
       "<table border=\"1\" class=\"dataframe\">\n",
       "  <thead>\n",
       "    <tr style=\"text-align: right;\">\n",
       "      <th></th>\n",
       "      <th>First Name</th>\n",
       "      <th>Gender</th>\n",
       "      <th>Start Date</th>\n",
       "      <th>Last Login Time</th>\n",
       "      <th>Salary</th>\n",
       "      <th>Bonus %</th>\n",
       "      <th>Senior Management</th>\n",
       "      <th>New_Bonus</th>\n",
       "    </tr>\n",
       "    <tr>\n",
       "      <th>Team</th>\n",
       "      <th></th>\n",
       "      <th></th>\n",
       "      <th></th>\n",
       "      <th></th>\n",
       "      <th></th>\n",
       "      <th></th>\n",
       "      <th></th>\n",
       "      <th></th>\n",
       "    </tr>\n",
       "  </thead>\n",
       "  <tbody>\n",
       "    <tr>\n",
       "      <th>Business Development</th>\n",
       "      <td>Larry</td>\n",
       "      <td>Male</td>\n",
       "      <td>4/20/2013</td>\n",
       "      <td>4:45 PM</td>\n",
       "      <td>60500</td>\n",
       "      <td>11.985</td>\n",
       "      <td>False</td>\n",
       "      <td>11.985</td>\n",
       "    </tr>\n",
       "    <tr>\n",
       "      <th>Client Services</th>\n",
       "      <td>Robin</td>\n",
       "      <td>Female</td>\n",
       "      <td>7/24/1987</td>\n",
       "      <td>1:35 PM</td>\n",
       "      <td>100765</td>\n",
       "      <td>10.982</td>\n",
       "      <td>True</td>\n",
       "      <td>10.982</td>\n",
       "    </tr>\n",
       "    <tr>\n",
       "      <th>Distribution</th>\n",
       "      <td>Henry</td>\n",
       "      <td>Female</td>\n",
       "      <td>11/23/2014</td>\n",
       "      <td>6:09 AM</td>\n",
       "      <td>132483</td>\n",
       "      <td>16.655</td>\n",
       "      <td>False</td>\n",
       "      <td>16.655</td>\n",
       "    </tr>\n",
       "    <tr>\n",
       "      <th>Engineering</th>\n",
       "      <td>Tina</td>\n",
       "      <td>Female</td>\n",
       "      <td>5/15/1997</td>\n",
       "      <td>3:53 PM</td>\n",
       "      <td>56450</td>\n",
       "      <td>19.040</td>\n",
       "      <td>True</td>\n",
       "      <td>19.040</td>\n",
       "    </tr>\n",
       "    <tr>\n",
       "      <th>Finance</th>\n",
       "      <td>Phillip</td>\n",
       "      <td>Male</td>\n",
       "      <td>1/31/1984</td>\n",
       "      <td>6:30 AM</td>\n",
       "      <td>42392</td>\n",
       "      <td>19.675</td>\n",
       "      <td>False</td>\n",
       "      <td>19.675</td>\n",
       "    </tr>\n",
       "    <tr>\n",
       "      <th>Human Resources</th>\n",
       "      <td>Alice</td>\n",
       "      <td>Female</td>\n",
       "      <td>10/5/2004</td>\n",
       "      <td>9:34 AM</td>\n",
       "      <td>47638</td>\n",
       "      <td>11.209</td>\n",
       "      <td>False</td>\n",
       "      <td>11.209</td>\n",
       "    </tr>\n",
       "    <tr>\n",
       "      <th>Legal</th>\n",
       "      <td>Justin</td>\n",
       "      <td>Male</td>\n",
       "      <td>2/10/1991</td>\n",
       "      <td>4:58 PM</td>\n",
       "      <td>38344</td>\n",
       "      <td>3.794</td>\n",
       "      <td>False</td>\n",
       "      <td>3.794</td>\n",
       "    </tr>\n",
       "    <tr>\n",
       "      <th>Marketing</th>\n",
       "      <td>George</td>\n",
       "      <td>Male</td>\n",
       "      <td>6/21/2013</td>\n",
       "      <td>5:47 PM</td>\n",
       "      <td>98874</td>\n",
       "      <td>4.479</td>\n",
       "      <td>True</td>\n",
       "      <td>4.479</td>\n",
       "    </tr>\n",
       "    <tr>\n",
       "      <th>Product</th>\n",
       "      <td>Russell</td>\n",
       "      <td>Male</td>\n",
       "      <td>5/20/2013</td>\n",
       "      <td>12:39 PM</td>\n",
       "      <td>96914</td>\n",
       "      <td>1.421</td>\n",
       "      <td>False</td>\n",
       "      <td>1.421</td>\n",
       "    </tr>\n",
       "    <tr>\n",
       "      <th>Sales</th>\n",
       "      <td>Albert</td>\n",
       "      <td>Male</td>\n",
       "      <td>5/15/2012</td>\n",
       "      <td>6:24 PM</td>\n",
       "      <td>129949</td>\n",
       "      <td>10.169</td>\n",
       "      <td>True</td>\n",
       "      <td>10.169</td>\n",
       "    </tr>\n",
       "  </tbody>\n",
       "</table>\n",
       "</div>"
      ],
      "text/plain": [
       "                     First Name  Gender  Start Date Last Login Time  Salary  \\\n",
       "Team                                                                          \n",
       "Business Development      Larry    Male   4/20/2013         4:45 PM   60500   \n",
       "Client Services           Robin  Female   7/24/1987         1:35 PM  100765   \n",
       "Distribution              Henry  Female  11/23/2014         6:09 AM  132483   \n",
       "Engineering                Tina  Female   5/15/1997         3:53 PM   56450   \n",
       "Finance                 Phillip    Male   1/31/1984         6:30 AM   42392   \n",
       "Human Resources           Alice  Female   10/5/2004         9:34 AM   47638   \n",
       "Legal                    Justin    Male   2/10/1991         4:58 PM   38344   \n",
       "Marketing                George    Male   6/21/2013         5:47 PM   98874   \n",
       "Product                 Russell    Male   5/20/2013        12:39 PM   96914   \n",
       "Sales                    Albert    Male   5/15/2012         6:24 PM  129949   \n",
       "\n",
       "                      Bonus %  Senior Management  New_Bonus  \n",
       "Team                                                         \n",
       "Business Development   11.985              False     11.985  \n",
       "Client Services        10.982               True     10.982  \n",
       "Distribution           16.655              False     16.655  \n",
       "Engineering            19.040               True     19.040  \n",
       "Finance                19.675              False     19.675  \n",
       "Human Resources        11.209              False     11.209  \n",
       "Legal                   3.794              False      3.794  \n",
       "Marketing               4.479               True      4.479  \n",
       "Product                 1.421              False      1.421  \n",
       "Sales                  10.169               True     10.169  "
      ]
     },
     "execution_count": 19,
     "metadata": {},
     "output_type": "execute_result"
    }
   ],
   "source": [
    "teams.last()"
   ]
  },
  {
   "attachments": {},
   "cell_type": "markdown",
   "metadata": {},
   "source": [
    "Un atributo del objeto `groupby` --> atributo groups"
   ]
  },
  {
   "cell_type": "code",
   "execution_count": 21,
   "metadata": {},
   "outputs": [
    {
     "data": {
      "text/plain": [
       "{'Business Development': [9, 33, 36, 38, 41, 48, 61, 64, 66, 86, 92, 99, 111, 114, 118, 120, 129, 134, 151, 155, 164, 180, 182, 203, 249, 251, 275, 279, 280, 306, 317, 324, 344, 368, 370, 401, 406, 411, 414, 419, 441, 473, 477, 478, 481, 487, 492, 498, 509, 511, 536, 537, 583, 590, 594, 596, 603, 638, 648, 666, 673, 716, 721, 733, 735, 738, 745, 746, 747, 748, 752, 772, 779, 788, 802, 810, 822, 834, 841, 852, 859, 869, 872, 893, 895, 898, 911, 916, 922, 923, 927, 928, 933, 936, 949, 950, 959, 960, 971, 973, ...], 'Client Services': [4, 18, 22, 24, 25, 28, 34, 37, 39, 47, 70, 82, 85, 95, 102, 128, 133, 145, 152, 163, 174, 184, 196, 197, 206, 207, 212, 215, 217, 227, 234, 244, 254, 265, 282, 284, 287, 291, 292, 303, 315, 325, 330, 333, 334, 359, 366, 385, 387, 389, 392, 408, 423, 432, 440, 448, 472, 489, 497, 502, 506, 524, 529, 543, 554, 560, 564, 569, 574, 577, 587, 605, 606, 621, 631, 639, 651, 655, 658, 670, 677, 679, 694, 728, 729, 742, 751, 755, 767, 782, 796, 845, 866, 877, 879, 915, 918, 920, 924, 932, ...], 'Distribution': [40, 60, 65, 76, 137, 149, 161, 177, 181, 183, 194, 224, 229, 240, 248, 260, 266, 267, 278, 288, 294, 307, 356, 362, 374, 397, 407, 416, 430, 435, 444, 470, 486, 491, 499, 501, 504, 522, 530, 542, 557, 566, 591, 597, 600, 612, 614, 616, 628, 640, 660, 662, 663, 665, 671, 683, 687, 697, 699, 700, 704, 713, 714, 756, 759, 762, 778, 792, 793, 804, 814, 818, 821, 830, 838, 840, 878, 882, 901, 902, 914, 919, 926, 931, 940, 944, 945, 946, 968, 995], 'Engineering': [8, 30, 50, 54, 58, 59, 113, 122, 138, 143, 171, 173, 175, 191, 209, 213, 214, 228, 235, 242, 245, 262, 263, 283, 300, 301, 329, 343, 352, 357, 372, 376, 381, 393, 402, 447, 456, 462, 467, 474, 475, 505, 507, 521, 541, 551, 553, 558, 561, 563, 602, 604, 608, 615, 619, 632, 633, 636, 652, 661, 680, 705, 707, 711, 712, 715, 718, 719, 724, 761, 797, 805, 808, 816, 823, 835, 871, 875, 908, 934, 935, 941, 943, 948, 956, 958, 967, 969, 980, 983, 984, 993], 'Finance': [2, 3, 7, 14, 46, 53, 56, 67, 68, 69, 83, 84, 96, 100, 103, 105, 117, 142, 153, 160, 172, 179, 190, 200, 205, 218, 219, 222, 226, 241, 268, 276, 286, 304, 311, 318, 328, 335, 341, 348, 363, 399, 405, 415, 418, 420, 425, 428, 436, 442, 458, 485, 493, 526, 540, 547, 549, 582, 595, 613, 618, 620, 642, 644, 646, 649, 650, 685, 686, 689, 691, 702, 710, 725, 731, 732, 744, 765, 773, 775, 790, 807, 809, 831, 836, 837, 847, 854, 856, 861, 880, 884, 889, 890, 891, 897, 905, 907, 954, 987, ...], 'Human Resources': [12, 16, 52, 57, 63, 75, 125, 126, 127, 130, 132, 156, 208, 211, 232, 239, 246, 255, 259, 264, 269, 270, 281, 285, 297, 299, 302, 339, 345, 346, 365, 377, 396, 398, 409, 417, 424, 426, 429, 439, 449, 453, 455, 471, 476, 483, 508, 517, 519, 525, 538, 559, 565, 572, 588, 589, 599, 637, 643, 672, 674, 695, 703, 709, 717, 720, 734, 743, 760, 766, 776, 780, 795, 801, 815, 820, 829, 833, 839, 846, 858, 863, 874, 900, 903, 904, 952, 966, 978, 982, 988], 'Legal': [5, 11, 20, 27, 29, 42, 81, 88, 89, 90, 93, 94, 106, 107, 108, 110, 116, 135, 136, 147, 162, 165, 185, 188, 192, 193, 210, 221, 223, 230, 237, 238, 256, 289, 295, 308, 310, 313, 336, 354, 355, 412, 431, 433, 450, 457, 460, 465, 469, 488, 500, 510, 516, 534, 562, 579, 584, 623, 630, 654, 664, 668, 688, 698, 701, 708, 723, 741, 749, 754, 758, 763, 791, 819, 827, 832, 844, 865, 887, 888, 910, 929, 955, 961, 976, 981, 985, 989], 'Marketing': [0, 21, 26, 43, 62, 74, 77, 97, 98, 101, 104, 112, 119, 140, 150, 158, 159, 168, 187, 201, 204, 216, 220, 252, 271, 274, 293, 298, 305, 309, 319, 327, 331, 353, 379, 400, 403, 413, 446, 451, 452, 454, 459, 461, 464, 468, 484, 490, 496, 503, 531, 535, 544, 550, 556, 568, 571, 581, 585, 586, 601, 611, 617, 625, 627, 629, 645, 656, 659, 667, 675, 676, 696, 722, 730, 740, 769, 785, 798, 811, 813, 817, 824, 860, 867, 870, 876, 881, 883, 894, 899, 913, 930, 942, 947, 986, 991, 994], 'Product': [6, 15, 17, 19, 31, 44, 55, 72, 79, 115, 121, 123, 124, 131, 141, 146, 154, 157, 169, 176, 178, 195, 198, 231, 236, 243, 247, 261, 272, 273, 316, 322, 326, 332, 338, 342, 358, 364, 369, 378, 383, 384, 388, 394, 422, 463, 482, 514, 518, 527, 528, 532, 533, 545, 546, 552, 555, 570, 575, 576, 578, 598, 610, 653, 678, 681, 682, 736, 737, 750, 757, 770, 771, 783, 786, 789, 799, 800, 803, 812, 828, 842, 848, 849, 857, 868, 885, 909, 917, 953, 962, 970, 977, 979, 997], 'Sales': [13, 35, 45, 49, 51, 71, 73, 78, 80, 87, 144, 148, 166, 167, 170, 186, 189, 202, 225, 233, 250, 253, 257, 277, 296, 312, 320, 321, 323, 337, 340, 347, 349, 350, 351, 360, 361, 371, 373, 375, 380, 386, 390, 391, 395, 404, 410, 421, 427, 437, 443, 466, 480, 494, 495, 515, 523, 539, 548, 592, 593, 607, 609, 622, 624, 641, 657, 690, 692, 693, 727, 739, 764, 768, 777, 784, 787, 806, 825, 843, 862, 873, 886, 892, 896, 906, 921, 925, 957, 963, 964, 972, 975, 999]}"
      ]
     },
     "execution_count": 21,
     "metadata": {},
     "output_type": "execute_result"
    }
   ],
   "source": [
    "teams.groups\n",
    "## Los índices regresados son del DataFrame original\n",
    "### ver el siguiente bloque como referencia"
   ]
  },
  {
   "cell_type": "code",
   "execution_count": 26,
   "metadata": {},
   "outputs": [
    {
     "data": {
      "text/html": [
       "<div>\n",
       "<style scoped>\n",
       "    .dataframe tbody tr th:only-of-type {\n",
       "        vertical-align: middle;\n",
       "    }\n",
       "\n",
       "    .dataframe tbody tr th {\n",
       "        vertical-align: top;\n",
       "    }\n",
       "\n",
       "    .dataframe thead th {\n",
       "        text-align: right;\n",
       "    }\n",
       "</style>\n",
       "<table border=\"1\" class=\"dataframe\">\n",
       "  <thead>\n",
       "    <tr style=\"text-align: right;\">\n",
       "      <th></th>\n",
       "      <th>First Name</th>\n",
       "      <th>Gender</th>\n",
       "      <th>Start Date</th>\n",
       "      <th>Last Login Time</th>\n",
       "      <th>Salary</th>\n",
       "      <th>Bonus %</th>\n",
       "      <th>Senior Management</th>\n",
       "      <th>Team</th>\n",
       "      <th>New_Bonus</th>\n",
       "    </tr>\n",
       "  </thead>\n",
       "  <tbody>\n",
       "    <tr>\n",
       "      <th>9</th>\n",
       "      <td>Frances</td>\n",
       "      <td>Female</td>\n",
       "      <td>8/8/2002</td>\n",
       "      <td>6:51 AM</td>\n",
       "      <td>139852</td>\n",
       "      <td>7.524</td>\n",
       "      <td>True</td>\n",
       "      <td>Business Development</td>\n",
       "      <td>7.524</td>\n",
       "    </tr>\n",
       "    <tr>\n",
       "      <th>33</th>\n",
       "      <td>Jean</td>\n",
       "      <td>Female</td>\n",
       "      <td>12/18/1993</td>\n",
       "      <td>9:07 AM</td>\n",
       "      <td>119082</td>\n",
       "      <td>16.180</td>\n",
       "      <td>False</td>\n",
       "      <td>Business Development</td>\n",
       "      <td>16.180</td>\n",
       "    </tr>\n",
       "    <tr>\n",
       "      <th>36</th>\n",
       "      <td>Rachel</td>\n",
       "      <td>Female</td>\n",
       "      <td>2/16/2009</td>\n",
       "      <td>8:47 PM</td>\n",
       "      <td>142032</td>\n",
       "      <td>12.599</td>\n",
       "      <td>False</td>\n",
       "      <td>Business Development</td>\n",
       "      <td>12.599</td>\n",
       "    </tr>\n",
       "    <tr>\n",
       "      <th>38</th>\n",
       "      <td>Stephanie</td>\n",
       "      <td>Female</td>\n",
       "      <td>9/13/1986</td>\n",
       "      <td>1:52 AM</td>\n",
       "      <td>36844</td>\n",
       "      <td>5.574</td>\n",
       "      <td>True</td>\n",
       "      <td>Business Development</td>\n",
       "      <td>5.574</td>\n",
       "    </tr>\n",
       "    <tr>\n",
       "      <th>41</th>\n",
       "      <td>Christine</td>\n",
       "      <td>NaN</td>\n",
       "      <td>6/28/2015</td>\n",
       "      <td>1:08 AM</td>\n",
       "      <td>66582</td>\n",
       "      <td>11.308</td>\n",
       "      <td>True</td>\n",
       "      <td>Business Development</td>\n",
       "      <td>11.308</td>\n",
       "    </tr>\n",
       "  </tbody>\n",
       "</table>\n",
       "</div>"
      ],
      "text/plain": [
       "   First Name  Gender  Start Date Last Login Time  Salary  Bonus %  \\\n",
       "9     Frances  Female    8/8/2002         6:51 AM  139852    7.524   \n",
       "33       Jean  Female  12/18/1993         9:07 AM  119082   16.180   \n",
       "36     Rachel  Female   2/16/2009         8:47 PM  142032   12.599   \n",
       "38  Stephanie  Female   9/13/1986         1:52 AM   36844    5.574   \n",
       "41  Christine     NaN   6/28/2015         1:08 AM   66582   11.308   \n",
       "\n",
       "   Senior Management                  Team  New_Bonus  \n",
       "9               True  Business Development      7.524  \n",
       "33             False  Business Development     16.180  \n",
       "36             False  Business Development     12.599  \n",
       "38              True  Business Development      5.574  \n",
       "41              True  Business Development     11.308  "
      ]
     },
     "execution_count": 26,
     "metadata": {},
     "output_type": "execute_result"
    }
   ],
   "source": [
    "emp.iloc[[9, 33, 36, 38, 41]]"
   ]
  },
  {
   "cell_type": "code",
   "execution_count": 27,
   "metadata": {},
   "outputs": [
    {
     "ename": "AttributeError",
     "evalue": "'DataFrameGroupBy' object has no attribute 'loc'",
     "output_type": "error",
     "traceback": [
      "\u001b[0;31m---------------------------------------------------------------------------\u001b[0m",
      "\u001b[0;31mAttributeError\u001b[0m                            Traceback (most recent call last)",
      "\u001b[1;32m/Users/danielroa/Programming/Postgrad-ML/Module-1/07_Dec_2022_lec_09_M1G6P_DRG.ipynb Cell 35\u001b[0m in \u001b[0;36m<cell line: 1>\u001b[0;34m()\u001b[0m\n\u001b[0;32m----> <a href='vscode-notebook-cell:/Users/danielroa/Programming/Postgrad-ML/Module-1/07_Dec_2022_lec_09_M1G6P_DRG.ipynb#X60sZmlsZQ%3D%3D?line=0'>1</a>\u001b[0m teams\u001b[39m.\u001b[39;49mloc[\u001b[39m'\u001b[39m\u001b[39mClient Services\u001b[39m\u001b[39m'\u001b[39m]\n",
      "File \u001b[0;32m~/opt/anaconda3/envs/python-finanzas/lib/python3.9/site-packages/pandas/core/groupby/groupby.py:981\u001b[0m, in \u001b[0;36mGroupBy.__getattr__\u001b[0;34m(self, attr)\u001b[0m\n\u001b[1;32m    978\u001b[0m \u001b[39mif\u001b[39;00m attr \u001b[39min\u001b[39;00m \u001b[39mself\u001b[39m\u001b[39m.\u001b[39mobj:\n\u001b[1;32m    979\u001b[0m     \u001b[39mreturn\u001b[39;00m \u001b[39mself\u001b[39m[attr]\n\u001b[0;32m--> 981\u001b[0m \u001b[39mraise\u001b[39;00m \u001b[39mAttributeError\u001b[39;00m(\n\u001b[1;32m    982\u001b[0m     \u001b[39mf\u001b[39m\u001b[39m\"\u001b[39m\u001b[39m'\u001b[39m\u001b[39m{\u001b[39;00m\u001b[39mtype\u001b[39m(\u001b[39mself\u001b[39m)\u001b[39m.\u001b[39m\u001b[39m__name__\u001b[39m\u001b[39m}\u001b[39;00m\u001b[39m'\u001b[39m\u001b[39m object has no attribute \u001b[39m\u001b[39m'\u001b[39m\u001b[39m{\u001b[39;00mattr\u001b[39m}\u001b[39;00m\u001b[39m'\u001b[39m\u001b[39m\"\u001b[39m\n\u001b[1;32m    983\u001b[0m )\n",
      "\u001b[0;31mAttributeError\u001b[0m: 'DataFrameGroupBy' object has no attribute 'loc'"
     ]
    }
   ],
   "source": [
    "teams.loc['Client Services'] ## DataFrame de tipo groupby no tiene atributo 'loc'"
   ]
  },
  {
   "attachments": {},
   "cell_type": "markdown",
   "metadata": {},
   "source": [
    "### Método `get_group()`\n",
    "\n",
    "Recordar que: la variable `teams` es la variable donde guardamos nuestro `groupby` object."
   ]
  },
  {
   "cell_type": "code",
   "execution_count": 28,
   "metadata": {},
   "outputs": [
    {
     "data": {
      "text/html": [
       "<div>\n",
       "<style scoped>\n",
       "    .dataframe tbody tr th:only-of-type {\n",
       "        vertical-align: middle;\n",
       "    }\n",
       "\n",
       "    .dataframe tbody tr th {\n",
       "        vertical-align: top;\n",
       "    }\n",
       "\n",
       "    .dataframe thead th {\n",
       "        text-align: right;\n",
       "    }\n",
       "</style>\n",
       "<table border=\"1\" class=\"dataframe\">\n",
       "  <thead>\n",
       "    <tr style=\"text-align: right;\">\n",
       "      <th></th>\n",
       "      <th>First Name</th>\n",
       "      <th>Gender</th>\n",
       "      <th>Start Date</th>\n",
       "      <th>Last Login Time</th>\n",
       "      <th>Salary</th>\n",
       "      <th>Bonus %</th>\n",
       "      <th>Senior Management</th>\n",
       "      <th>Team</th>\n",
       "      <th>New_Bonus</th>\n",
       "    </tr>\n",
       "  </thead>\n",
       "  <tbody>\n",
       "    <tr>\n",
       "      <th>2</th>\n",
       "      <td>Maria</td>\n",
       "      <td>Female</td>\n",
       "      <td>4/23/1993</td>\n",
       "      <td>11:17 AM</td>\n",
       "      <td>130590</td>\n",
       "      <td>11.858</td>\n",
       "      <td>False</td>\n",
       "      <td>Finance</td>\n",
       "      <td>13.63670</td>\n",
       "    </tr>\n",
       "    <tr>\n",
       "      <th>3</th>\n",
       "      <td>Jerry</td>\n",
       "      <td>Male</td>\n",
       "      <td>3/4/2005</td>\n",
       "      <td>1:00 PM</td>\n",
       "      <td>138705</td>\n",
       "      <td>9.340</td>\n",
       "      <td>True</td>\n",
       "      <td>Finance</td>\n",
       "      <td>10.74100</td>\n",
       "    </tr>\n",
       "    <tr>\n",
       "      <th>7</th>\n",
       "      <td>NaN</td>\n",
       "      <td>Female</td>\n",
       "      <td>7/20/2015</td>\n",
       "      <td>10:43 AM</td>\n",
       "      <td>45906</td>\n",
       "      <td>11.598</td>\n",
       "      <td>NaN</td>\n",
       "      <td>Finance</td>\n",
       "      <td>11.59800</td>\n",
       "    </tr>\n",
       "    <tr>\n",
       "      <th>14</th>\n",
       "      <td>Kimberly</td>\n",
       "      <td>Female</td>\n",
       "      <td>1/14/1999</td>\n",
       "      <td>7:13 AM</td>\n",
       "      <td>41426</td>\n",
       "      <td>14.543</td>\n",
       "      <td>True</td>\n",
       "      <td>Finance</td>\n",
       "      <td>14.54300</td>\n",
       "    </tr>\n",
       "    <tr>\n",
       "      <th>46</th>\n",
       "      <td>Bruce</td>\n",
       "      <td>Male</td>\n",
       "      <td>11/28/2009</td>\n",
       "      <td>10:47 PM</td>\n",
       "      <td>114796</td>\n",
       "      <td>6.796</td>\n",
       "      <td>False</td>\n",
       "      <td>Finance</td>\n",
       "      <td>7.81540</td>\n",
       "    </tr>\n",
       "    <tr>\n",
       "      <th>...</th>\n",
       "      <td>...</td>\n",
       "      <td>...</td>\n",
       "      <td>...</td>\n",
       "      <td>...</td>\n",
       "      <td>...</td>\n",
       "      <td>...</td>\n",
       "      <td>...</td>\n",
       "      <td>...</td>\n",
       "      <td>...</td>\n",
       "    </tr>\n",
       "    <tr>\n",
       "      <th>907</th>\n",
       "      <td>Elizabeth</td>\n",
       "      <td>Female</td>\n",
       "      <td>7/27/1998</td>\n",
       "      <td>11:12 AM</td>\n",
       "      <td>137144</td>\n",
       "      <td>10.081</td>\n",
       "      <td>False</td>\n",
       "      <td>Finance</td>\n",
       "      <td>11.59315</td>\n",
       "    </tr>\n",
       "    <tr>\n",
       "      <th>954</th>\n",
       "      <td>Joe</td>\n",
       "      <td>Male</td>\n",
       "      <td>1/19/1980</td>\n",
       "      <td>4:06 PM</td>\n",
       "      <td>119667</td>\n",
       "      <td>1.148</td>\n",
       "      <td>True</td>\n",
       "      <td>Finance</td>\n",
       "      <td>1.32020</td>\n",
       "    </tr>\n",
       "    <tr>\n",
       "      <th>987</th>\n",
       "      <td>Gloria</td>\n",
       "      <td>Female</td>\n",
       "      <td>12/8/2014</td>\n",
       "      <td>5:08 AM</td>\n",
       "      <td>136709</td>\n",
       "      <td>10.331</td>\n",
       "      <td>True</td>\n",
       "      <td>Finance</td>\n",
       "      <td>11.88065</td>\n",
       "    </tr>\n",
       "    <tr>\n",
       "      <th>992</th>\n",
       "      <td>Anthony</td>\n",
       "      <td>Male</td>\n",
       "      <td>10/16/2011</td>\n",
       "      <td>8:35 AM</td>\n",
       "      <td>112769</td>\n",
       "      <td>11.625</td>\n",
       "      <td>True</td>\n",
       "      <td>Finance</td>\n",
       "      <td>13.36875</td>\n",
       "    </tr>\n",
       "    <tr>\n",
       "      <th>996</th>\n",
       "      <td>Phillip</td>\n",
       "      <td>Male</td>\n",
       "      <td>1/31/1984</td>\n",
       "      <td>6:30 AM</td>\n",
       "      <td>42392</td>\n",
       "      <td>19.675</td>\n",
       "      <td>False</td>\n",
       "      <td>Finance</td>\n",
       "      <td>19.67500</td>\n",
       "    </tr>\n",
       "  </tbody>\n",
       "</table>\n",
       "<p>102 rows × 9 columns</p>\n",
       "</div>"
      ],
      "text/plain": [
       "    First Name  Gender  Start Date Last Login Time  Salary  Bonus %  \\\n",
       "2        Maria  Female   4/23/1993        11:17 AM  130590   11.858   \n",
       "3        Jerry    Male    3/4/2005         1:00 PM  138705    9.340   \n",
       "7          NaN  Female   7/20/2015        10:43 AM   45906   11.598   \n",
       "14    Kimberly  Female   1/14/1999         7:13 AM   41426   14.543   \n",
       "46       Bruce    Male  11/28/2009        10:47 PM  114796    6.796   \n",
       "..         ...     ...         ...             ...     ...      ...   \n",
       "907  Elizabeth  Female   7/27/1998        11:12 AM  137144   10.081   \n",
       "954        Joe    Male   1/19/1980         4:06 PM  119667    1.148   \n",
       "987     Gloria  Female   12/8/2014         5:08 AM  136709   10.331   \n",
       "992    Anthony    Male  10/16/2011         8:35 AM  112769   11.625   \n",
       "996    Phillip    Male   1/31/1984         6:30 AM   42392   19.675   \n",
       "\n",
       "    Senior Management     Team  New_Bonus  \n",
       "2               False  Finance   13.63670  \n",
       "3                True  Finance   10.74100  \n",
       "7                 NaN  Finance   11.59800  \n",
       "14               True  Finance   14.54300  \n",
       "46              False  Finance    7.81540  \n",
       "..                ...      ...        ...  \n",
       "907             False  Finance   11.59315  \n",
       "954              True  Finance    1.32020  \n",
       "987              True  Finance   11.88065  \n",
       "992              True  Finance   13.36875  \n",
       "996             False  Finance   19.67500  \n",
       "\n",
       "[102 rows x 9 columns]"
      ]
     },
     "execution_count": 28,
     "metadata": {},
     "output_type": "execute_result"
    }
   ],
   "source": [
    "teams.get_group('Finance')"
   ]
  },
  {
   "attachments": {},
   "cell_type": "markdown",
   "metadata": {},
   "source": [
    "Antes se hubiera escrito algo así:"
   ]
  },
  {
   "cell_type": "code",
   "execution_count": 29,
   "metadata": {},
   "outputs": [
    {
     "data": {
      "text/html": [
       "<div>\n",
       "<style scoped>\n",
       "    .dataframe tbody tr th:only-of-type {\n",
       "        vertical-align: middle;\n",
       "    }\n",
       "\n",
       "    .dataframe tbody tr th {\n",
       "        vertical-align: top;\n",
       "    }\n",
       "\n",
       "    .dataframe thead th {\n",
       "        text-align: right;\n",
       "    }\n",
       "</style>\n",
       "<table border=\"1\" class=\"dataframe\">\n",
       "  <thead>\n",
       "    <tr style=\"text-align: right;\">\n",
       "      <th></th>\n",
       "      <th>First Name</th>\n",
       "      <th>Gender</th>\n",
       "      <th>Start Date</th>\n",
       "      <th>Last Login Time</th>\n",
       "      <th>Salary</th>\n",
       "      <th>Bonus %</th>\n",
       "      <th>Senior Management</th>\n",
       "      <th>Team</th>\n",
       "      <th>New_Bonus</th>\n",
       "    </tr>\n",
       "  </thead>\n",
       "  <tbody>\n",
       "    <tr>\n",
       "      <th>2</th>\n",
       "      <td>Maria</td>\n",
       "      <td>Female</td>\n",
       "      <td>4/23/1993</td>\n",
       "      <td>11:17 AM</td>\n",
       "      <td>130590</td>\n",
       "      <td>11.858</td>\n",
       "      <td>False</td>\n",
       "      <td>Finance</td>\n",
       "      <td>13.63670</td>\n",
       "    </tr>\n",
       "    <tr>\n",
       "      <th>3</th>\n",
       "      <td>Jerry</td>\n",
       "      <td>Male</td>\n",
       "      <td>3/4/2005</td>\n",
       "      <td>1:00 PM</td>\n",
       "      <td>138705</td>\n",
       "      <td>9.340</td>\n",
       "      <td>True</td>\n",
       "      <td>Finance</td>\n",
       "      <td>10.74100</td>\n",
       "    </tr>\n",
       "    <tr>\n",
       "      <th>7</th>\n",
       "      <td>NaN</td>\n",
       "      <td>Female</td>\n",
       "      <td>7/20/2015</td>\n",
       "      <td>10:43 AM</td>\n",
       "      <td>45906</td>\n",
       "      <td>11.598</td>\n",
       "      <td>NaN</td>\n",
       "      <td>Finance</td>\n",
       "      <td>11.59800</td>\n",
       "    </tr>\n",
       "    <tr>\n",
       "      <th>14</th>\n",
       "      <td>Kimberly</td>\n",
       "      <td>Female</td>\n",
       "      <td>1/14/1999</td>\n",
       "      <td>7:13 AM</td>\n",
       "      <td>41426</td>\n",
       "      <td>14.543</td>\n",
       "      <td>True</td>\n",
       "      <td>Finance</td>\n",
       "      <td>14.54300</td>\n",
       "    </tr>\n",
       "    <tr>\n",
       "      <th>46</th>\n",
       "      <td>Bruce</td>\n",
       "      <td>Male</td>\n",
       "      <td>11/28/2009</td>\n",
       "      <td>10:47 PM</td>\n",
       "      <td>114796</td>\n",
       "      <td>6.796</td>\n",
       "      <td>False</td>\n",
       "      <td>Finance</td>\n",
       "      <td>7.81540</td>\n",
       "    </tr>\n",
       "    <tr>\n",
       "      <th>...</th>\n",
       "      <td>...</td>\n",
       "      <td>...</td>\n",
       "      <td>...</td>\n",
       "      <td>...</td>\n",
       "      <td>...</td>\n",
       "      <td>...</td>\n",
       "      <td>...</td>\n",
       "      <td>...</td>\n",
       "      <td>...</td>\n",
       "    </tr>\n",
       "    <tr>\n",
       "      <th>907</th>\n",
       "      <td>Elizabeth</td>\n",
       "      <td>Female</td>\n",
       "      <td>7/27/1998</td>\n",
       "      <td>11:12 AM</td>\n",
       "      <td>137144</td>\n",
       "      <td>10.081</td>\n",
       "      <td>False</td>\n",
       "      <td>Finance</td>\n",
       "      <td>11.59315</td>\n",
       "    </tr>\n",
       "    <tr>\n",
       "      <th>954</th>\n",
       "      <td>Joe</td>\n",
       "      <td>Male</td>\n",
       "      <td>1/19/1980</td>\n",
       "      <td>4:06 PM</td>\n",
       "      <td>119667</td>\n",
       "      <td>1.148</td>\n",
       "      <td>True</td>\n",
       "      <td>Finance</td>\n",
       "      <td>1.32020</td>\n",
       "    </tr>\n",
       "    <tr>\n",
       "      <th>987</th>\n",
       "      <td>Gloria</td>\n",
       "      <td>Female</td>\n",
       "      <td>12/8/2014</td>\n",
       "      <td>5:08 AM</td>\n",
       "      <td>136709</td>\n",
       "      <td>10.331</td>\n",
       "      <td>True</td>\n",
       "      <td>Finance</td>\n",
       "      <td>11.88065</td>\n",
       "    </tr>\n",
       "    <tr>\n",
       "      <th>992</th>\n",
       "      <td>Anthony</td>\n",
       "      <td>Male</td>\n",
       "      <td>10/16/2011</td>\n",
       "      <td>8:35 AM</td>\n",
       "      <td>112769</td>\n",
       "      <td>11.625</td>\n",
       "      <td>True</td>\n",
       "      <td>Finance</td>\n",
       "      <td>13.36875</td>\n",
       "    </tr>\n",
       "    <tr>\n",
       "      <th>996</th>\n",
       "      <td>Phillip</td>\n",
       "      <td>Male</td>\n",
       "      <td>1/31/1984</td>\n",
       "      <td>6:30 AM</td>\n",
       "      <td>42392</td>\n",
       "      <td>19.675</td>\n",
       "      <td>False</td>\n",
       "      <td>Finance</td>\n",
       "      <td>19.67500</td>\n",
       "    </tr>\n",
       "  </tbody>\n",
       "</table>\n",
       "<p>102 rows × 9 columns</p>\n",
       "</div>"
      ],
      "text/plain": [
       "    First Name  Gender  Start Date Last Login Time  Salary  Bonus %  \\\n",
       "2        Maria  Female   4/23/1993        11:17 AM  130590   11.858   \n",
       "3        Jerry    Male    3/4/2005         1:00 PM  138705    9.340   \n",
       "7          NaN  Female   7/20/2015        10:43 AM   45906   11.598   \n",
       "14    Kimberly  Female   1/14/1999         7:13 AM   41426   14.543   \n",
       "46       Bruce    Male  11/28/2009        10:47 PM  114796    6.796   \n",
       "..         ...     ...         ...             ...     ...      ...   \n",
       "907  Elizabeth  Female   7/27/1998        11:12 AM  137144   10.081   \n",
       "954        Joe    Male   1/19/1980         4:06 PM  119667    1.148   \n",
       "987     Gloria  Female   12/8/2014         5:08 AM  136709   10.331   \n",
       "992    Anthony    Male  10/16/2011         8:35 AM  112769   11.625   \n",
       "996    Phillip    Male   1/31/1984         6:30 AM   42392   19.675   \n",
       "\n",
       "    Senior Management     Team  New_Bonus  \n",
       "2               False  Finance   13.63670  \n",
       "3                True  Finance   10.74100  \n",
       "7                 NaN  Finance   11.59800  \n",
       "14               True  Finance   14.54300  \n",
       "46              False  Finance    7.81540  \n",
       "..                ...      ...        ...  \n",
       "907             False  Finance   11.59315  \n",
       "954              True  Finance    1.32020  \n",
       "987              True  Finance   11.88065  \n",
       "992              True  Finance   13.36875  \n",
       "996             False  Finance   19.67500  \n",
       "\n",
       "[102 rows x 9 columns]"
      ]
     },
     "execution_count": 29,
     "metadata": {},
     "output_type": "execute_result"
    }
   ],
   "source": [
    "emp[emp['Team'] == 'Finance']"
   ]
  },
  {
   "attachments": {},
   "cell_type": "markdown",
   "metadata": {},
   "source": [
    "### Otros métodos para objetos `groupby()`"
   ]
  },
  {
   "attachments": {},
   "cell_type": "markdown",
   "metadata": {},
   "source": [
    "Lo que hace `sum()` es detectar valores numéricos y hace sumas para cada grupo."
   ]
  },
  {
   "cell_type": "code",
   "execution_count": 30,
   "metadata": {},
   "outputs": [
    {
     "name": "stderr",
     "output_type": "stream",
     "text": [
      "/var/folders/6b/ddjkk4l908n5cwpnvhllb3fc0000gn/T/ipykernel_16338/871006991.py:1: FutureWarning: The default value of numeric_only in DataFrameGroupBy.sum is deprecated. In a future version, numeric_only will default to False. Either specify numeric_only or select only columns which should be valid for the function.\n",
      "  teams.sum()\n"
     ]
    },
    {
     "data": {
      "text/html": [
       "<div>\n",
       "<style scoped>\n",
       "    .dataframe tbody tr th:only-of-type {\n",
       "        vertical-align: middle;\n",
       "    }\n",
       "\n",
       "    .dataframe tbody tr th {\n",
       "        vertical-align: top;\n",
       "    }\n",
       "\n",
       "    .dataframe thead th {\n",
       "        text-align: right;\n",
       "    }\n",
       "</style>\n",
       "<table border=\"1\" class=\"dataframe\">\n",
       "  <thead>\n",
       "    <tr style=\"text-align: right;\">\n",
       "      <th></th>\n",
       "      <th>Salary</th>\n",
       "      <th>Bonus %</th>\n",
       "      <th>New_Bonus</th>\n",
       "    </tr>\n",
       "    <tr>\n",
       "      <th>Team</th>\n",
       "      <th></th>\n",
       "      <th></th>\n",
       "      <th></th>\n",
       "    </tr>\n",
       "  </thead>\n",
       "  <tbody>\n",
       "    <tr>\n",
       "      <th>Business Development</th>\n",
       "      <td>9278498</td>\n",
       "      <td>1067.810</td>\n",
       "      <td>1067.8100</td>\n",
       "    </tr>\n",
       "    <tr>\n",
       "      <th>Client Services</th>\n",
       "      <td>9351789</td>\n",
       "      <td>1112.481</td>\n",
       "      <td>1112.4810</td>\n",
       "    </tr>\n",
       "    <tr>\n",
       "      <th>Distribution</th>\n",
       "      <td>7965042</td>\n",
       "      <td>865.408</td>\n",
       "      <td>865.4080</td>\n",
       "    </tr>\n",
       "    <tr>\n",
       "      <th>Engineering</th>\n",
       "      <td>8672766</td>\n",
       "      <td>962.595</td>\n",
       "      <td>962.5950</td>\n",
       "    </tr>\n",
       "    <tr>\n",
       "      <th>Finance</th>\n",
       "      <td>9406387</td>\n",
       "      <td>1039.061</td>\n",
       "      <td>1111.3562</td>\n",
       "    </tr>\n",
       "    <tr>\n",
       "      <th>Human Resources</th>\n",
       "      <td>8275952</td>\n",
       "      <td>909.443</td>\n",
       "      <td>909.4430</td>\n",
       "    </tr>\n",
       "    <tr>\n",
       "      <th>Legal</th>\n",
       "      <td>7858718</td>\n",
       "      <td>908.409</td>\n",
       "      <td>908.4090</td>\n",
       "    </tr>\n",
       "    <tr>\n",
       "      <th>Marketing</th>\n",
       "      <td>8862688</td>\n",
       "      <td>1014.638</td>\n",
       "      <td>1068.8044</td>\n",
       "    </tr>\n",
       "    <tr>\n",
       "      <th>Product</th>\n",
       "      <td>8423223</td>\n",
       "      <td>930.191</td>\n",
       "      <td>930.1910</td>\n",
       "    </tr>\n",
       "    <tr>\n",
       "      <th>Sales</th>\n",
       "      <td>8664303</td>\n",
       "      <td>950.990</td>\n",
       "      <td>950.9900</td>\n",
       "    </tr>\n",
       "  </tbody>\n",
       "</table>\n",
       "</div>"
      ],
      "text/plain": [
       "                       Salary   Bonus %  New_Bonus\n",
       "Team                                              \n",
       "Business Development  9278498  1067.810  1067.8100\n",
       "Client Services       9351789  1112.481  1112.4810\n",
       "Distribution          7965042   865.408   865.4080\n",
       "Engineering           8672766   962.595   962.5950\n",
       "Finance               9406387  1039.061  1111.3562\n",
       "Human Resources       8275952   909.443   909.4430\n",
       "Legal                 7858718   908.409   908.4090\n",
       "Marketing             8862688  1014.638  1068.8044\n",
       "Product               8423223   930.191   930.1910\n",
       "Sales                 8664303   950.990   950.9900"
      ]
     },
     "execution_count": 30,
     "metadata": {},
     "output_type": "execute_result"
    }
   ],
   "source": [
    "teams.sum()"
   ]
  },
  {
   "attachments": {},
   "cell_type": "markdown",
   "metadata": {},
   "source": [
    "Esto se puede manejar como si fuese un DataFrame, por lo tanto se puede invocar por columnas."
   ]
  },
  {
   "cell_type": "code",
   "execution_count": 31,
   "metadata": {},
   "outputs": [
    {
     "name": "stderr",
     "output_type": "stream",
     "text": [
      "/var/folders/6b/ddjkk4l908n5cwpnvhllb3fc0000gn/T/ipykernel_16338/700647215.py:1: FutureWarning: The default value of numeric_only in DataFrameGroupBy.sum is deprecated. In a future version, numeric_only will default to False. Either specify numeric_only or select only columns which should be valid for the function.\n",
      "  teams.sum()['Salary']\n"
     ]
    },
    {
     "data": {
      "text/plain": [
       "Team\n",
       "Business Development    9278498\n",
       "Client Services         9351789\n",
       "Distribution            7965042\n",
       "Engineering             8672766\n",
       "Finance                 9406387\n",
       "Human Resources         8275952\n",
       "Legal                   7858718\n",
       "Marketing               8862688\n",
       "Product                 8423223\n",
       "Sales                   8664303\n",
       "Name: Salary, dtype: int64"
      ]
     },
     "execution_count": 31,
     "metadata": {},
     "output_type": "execute_result"
    }
   ],
   "source": [
    "teams.sum()['Salary']"
   ]
  },
  {
   "attachments": {},
   "cell_type": "markdown",
   "metadata": {},
   "source": [
    "Se quiere ver la suma del salario del equipo de 'Marketing'"
   ]
  },
  {
   "cell_type": "code",
   "execution_count": 32,
   "metadata": {},
   "outputs": [
    {
     "data": {
      "text/plain": [
       "8862688"
      ]
     },
     "execution_count": 32,
     "metadata": {},
     "output_type": "execute_result"
    }
   ],
   "source": [
    "teams.get_group('Marketing')['Salary'].sum()\n",
    "## df['col'], donde df = teams.get_group('Marketing')['Salary'].sum()"
   ]
  },
  {
   "cell_type": "code",
   "execution_count": 34,
   "metadata": {},
   "outputs": [
    {
     "name": "stderr",
     "output_type": "stream",
     "text": [
      "/var/folders/6b/ddjkk4l908n5cwpnvhllb3fc0000gn/T/ipykernel_16338/3205509325.py:1: FutureWarning: The default value of numeric_only in DataFrameGroupBy.mean is deprecated. In a future version, numeric_only will default to False. Either specify numeric_only or select only columns which should be valid for the function.\n",
      "  teams.mean()\n"
     ]
    },
    {
     "data": {
      "text/html": [
       "<div>\n",
       "<style scoped>\n",
       "    .dataframe tbody tr th:only-of-type {\n",
       "        vertical-align: middle;\n",
       "    }\n",
       "\n",
       "    .dataframe tbody tr th {\n",
       "        vertical-align: top;\n",
       "    }\n",
       "\n",
       "    .dataframe thead th {\n",
       "        text-align: right;\n",
       "    }\n",
       "</style>\n",
       "<table border=\"1\" class=\"dataframe\">\n",
       "  <thead>\n",
       "    <tr style=\"text-align: right;\">\n",
       "      <th></th>\n",
       "      <th>Salary</th>\n",
       "      <th>Bonus %</th>\n",
       "      <th>New_Bonus</th>\n",
       "    </tr>\n",
       "    <tr>\n",
       "      <th>Team</th>\n",
       "      <th></th>\n",
       "      <th></th>\n",
       "      <th></th>\n",
       "    </tr>\n",
       "  </thead>\n",
       "  <tbody>\n",
       "    <tr>\n",
       "      <th>Business Development</th>\n",
       "      <td>91866.316832</td>\n",
       "      <td>10.572376</td>\n",
       "      <td>10.572376</td>\n",
       "    </tr>\n",
       "    <tr>\n",
       "      <th>Client Services</th>\n",
       "      <td>88224.424528</td>\n",
       "      <td>10.495104</td>\n",
       "      <td>10.495104</td>\n",
       "    </tr>\n",
       "    <tr>\n",
       "      <th>Distribution</th>\n",
       "      <td>88500.466667</td>\n",
       "      <td>9.615644</td>\n",
       "      <td>9.615644</td>\n",
       "    </tr>\n",
       "    <tr>\n",
       "      <th>Engineering</th>\n",
       "      <td>94269.195652</td>\n",
       "      <td>10.462989</td>\n",
       "      <td>10.462989</td>\n",
       "    </tr>\n",
       "    <tr>\n",
       "      <th>Finance</th>\n",
       "      <td>92219.480392</td>\n",
       "      <td>10.186873</td>\n",
       "      <td>10.895649</td>\n",
       "    </tr>\n",
       "    <tr>\n",
       "      <th>Human Resources</th>\n",
       "      <td>90944.527473</td>\n",
       "      <td>9.993879</td>\n",
       "      <td>9.993879</td>\n",
       "    </tr>\n",
       "    <tr>\n",
       "      <th>Legal</th>\n",
       "      <td>89303.613636</td>\n",
       "      <td>10.322830</td>\n",
       "      <td>10.322830</td>\n",
       "    </tr>\n",
       "    <tr>\n",
       "      <th>Marketing</th>\n",
       "      <td>90435.591837</td>\n",
       "      <td>10.353449</td>\n",
       "      <td>10.906167</td>\n",
       "    </tr>\n",
       "    <tr>\n",
       "      <th>Product</th>\n",
       "      <td>88665.505263</td>\n",
       "      <td>9.791484</td>\n",
       "      <td>9.791484</td>\n",
       "    </tr>\n",
       "    <tr>\n",
       "      <th>Sales</th>\n",
       "      <td>92173.436170</td>\n",
       "      <td>10.116915</td>\n",
       "      <td>10.116915</td>\n",
       "    </tr>\n",
       "  </tbody>\n",
       "</table>\n",
       "</div>"
      ],
      "text/plain": [
       "                            Salary    Bonus %  New_Bonus\n",
       "Team                                                    \n",
       "Business Development  91866.316832  10.572376  10.572376\n",
       "Client Services       88224.424528  10.495104  10.495104\n",
       "Distribution          88500.466667   9.615644   9.615644\n",
       "Engineering           94269.195652  10.462989  10.462989\n",
       "Finance               92219.480392  10.186873  10.895649\n",
       "Human Resources       90944.527473   9.993879   9.993879\n",
       "Legal                 89303.613636  10.322830  10.322830\n",
       "Marketing             90435.591837  10.353449  10.906167\n",
       "Product               88665.505263   9.791484   9.791484\n",
       "Sales                 92173.436170  10.116915  10.116915"
      ]
     },
     "execution_count": 34,
     "metadata": {},
     "output_type": "execute_result"
    }
   ],
   "source": [
    "teams.mean()"
   ]
  },
  {
   "attachments": {},
   "cell_type": "markdown",
   "metadata": {},
   "source": [
    "Si se quiere agrupar por más de una variable --> se le pasa una lista"
   ]
  },
  {
   "cell_type": "code",
   "execution_count": 35,
   "metadata": {},
   "outputs": [
    {
     "data": {
      "text/html": [
       "<div>\n",
       "<style scoped>\n",
       "    .dataframe tbody tr th:only-of-type {\n",
       "        vertical-align: middle;\n",
       "    }\n",
       "\n",
       "    .dataframe tbody tr th {\n",
       "        vertical-align: top;\n",
       "    }\n",
       "\n",
       "    .dataframe thead th {\n",
       "        text-align: right;\n",
       "    }\n",
       "</style>\n",
       "<table border=\"1\" class=\"dataframe\">\n",
       "  <thead>\n",
       "    <tr style=\"text-align: right;\">\n",
       "      <th></th>\n",
       "      <th>First Name</th>\n",
       "      <th>Gender</th>\n",
       "      <th>Start Date</th>\n",
       "      <th>Last Login Time</th>\n",
       "      <th>Salary</th>\n",
       "      <th>Bonus %</th>\n",
       "      <th>Senior Management</th>\n",
       "      <th>Team</th>\n",
       "      <th>New_Bonus</th>\n",
       "    </tr>\n",
       "  </thead>\n",
       "  <tbody>\n",
       "    <tr>\n",
       "      <th>0</th>\n",
       "      <td>Douglas</td>\n",
       "      <td>Male</td>\n",
       "      <td>8/6/1993</td>\n",
       "      <td>12:42 PM</td>\n",
       "      <td>97308</td>\n",
       "      <td>6.945</td>\n",
       "      <td>True</td>\n",
       "      <td>Marketing</td>\n",
       "      <td>6.945</td>\n",
       "    </tr>\n",
       "    <tr>\n",
       "      <th>1</th>\n",
       "      <td>Thomas</td>\n",
       "      <td>Male</td>\n",
       "      <td>3/31/1996</td>\n",
       "      <td>6:53 AM</td>\n",
       "      <td>61933</td>\n",
       "      <td>4.170</td>\n",
       "      <td>True</td>\n",
       "      <td>NaN</td>\n",
       "      <td>4.170</td>\n",
       "    </tr>\n",
       "  </tbody>\n",
       "</table>\n",
       "</div>"
      ],
      "text/plain": [
       "  First Name Gender Start Date Last Login Time  Salary  Bonus %  \\\n",
       "0    Douglas   Male   8/6/1993        12:42 PM   97308    6.945   \n",
       "1     Thomas   Male  3/31/1996         6:53 AM   61933    4.170   \n",
       "\n",
       "  Senior Management       Team  New_Bonus  \n",
       "0              True  Marketing      6.945  \n",
       "1              True        NaN      4.170  "
      ]
     },
     "execution_count": 35,
     "metadata": {},
     "output_type": "execute_result"
    }
   ],
   "source": [
    "emp.head(2)"
   ]
  },
  {
   "cell_type": "code",
   "execution_count": 38,
   "metadata": {},
   "outputs": [],
   "source": [
    "team_mgmt = emp.groupby(['Team','Senior Management'], dropna=False)\n"
   ]
  },
  {
   "cell_type": "code",
   "execution_count": 39,
   "metadata": {},
   "outputs": [
    {
     "data": {
      "text/plain": [
       "Team                  Senior Management\n",
       "Business Development  False                45\n",
       "                      True                 54\n",
       "                      NaN                   2\n",
       "Client Services       False                58\n",
       "                      True                 42\n",
       "                      NaN                   6\n",
       "Distribution          False                39\n",
       "                      True                 38\n",
       "                      NaN                  13\n",
       "Engineering           False                37\n",
       "                      True                 49\n",
       "                      NaN                   6\n",
       "Finance               False                51\n",
       "                      True                 46\n",
       "                      NaN                   5\n",
       "Human Resources       False                40\n",
       "                      True                 45\n",
       "                      NaN                   6\n",
       "Legal                 False                45\n",
       "                      True                 41\n",
       "                      NaN                   2\n",
       "Marketing             False                42\n",
       "                      True                 49\n",
       "                      NaN                   7\n",
       "Product               False                54\n",
       "                      True                 38\n",
       "                      NaN                   3\n",
       "Sales                 False                38\n",
       "                      True                 48\n",
       "                      NaN                   8\n",
       "NaN                   False                16\n",
       "                      True                 18\n",
       "                      NaN                   9\n",
       "dtype: int64"
      ]
     },
     "execution_count": 39,
     "metadata": {},
     "output_type": "execute_result"
    }
   ],
   "source": [
    "team_mgmt.size()\n",
    "## Se puede ver como una tabla dinámica en Excel."
   ]
  },
  {
   "attachments": {},
   "cell_type": "markdown",
   "metadata": {},
   "source": [
    "Esto se puede convertir a un _DataFrame_ debido a que es una serie multi-índice."
   ]
  },
  {
   "cell_type": "code",
   "execution_count": 44,
   "metadata": {},
   "outputs": [
    {
     "data": {
      "text/html": [
       "<div>\n",
       "<style scoped>\n",
       "    .dataframe tbody tr th:only-of-type {\n",
       "        vertical-align: middle;\n",
       "    }\n",
       "\n",
       "    .dataframe tbody tr th {\n",
       "        vertical-align: top;\n",
       "    }\n",
       "\n",
       "    .dataframe thead th {\n",
       "        text-align: right;\n",
       "    }\n",
       "</style>\n",
       "<table border=\"1\" class=\"dataframe\">\n",
       "  <thead>\n",
       "    <tr style=\"text-align: right;\">\n",
       "      <th></th>\n",
       "      <th></th>\n",
       "      <th>Counting</th>\n",
       "    </tr>\n",
       "    <tr>\n",
       "      <th>Team</th>\n",
       "      <th>Senior Management</th>\n",
       "      <th></th>\n",
       "    </tr>\n",
       "  </thead>\n",
       "  <tbody>\n",
       "    <tr>\n",
       "      <th rowspan=\"3\" valign=\"top\">Business Development</th>\n",
       "      <th>False</th>\n",
       "      <td>45</td>\n",
       "    </tr>\n",
       "    <tr>\n",
       "      <th>True</th>\n",
       "      <td>54</td>\n",
       "    </tr>\n",
       "    <tr>\n",
       "      <th>NaN</th>\n",
       "      <td>2</td>\n",
       "    </tr>\n",
       "    <tr>\n",
       "      <th rowspan=\"2\" valign=\"top\">Client Services</th>\n",
       "      <th>False</th>\n",
       "      <td>58</td>\n",
       "    </tr>\n",
       "    <tr>\n",
       "      <th>True</th>\n",
       "      <td>42</td>\n",
       "    </tr>\n",
       "  </tbody>\n",
       "</table>\n",
       "</div>"
      ],
      "text/plain": [
       "                                        Counting\n",
       "Team                 Senior Management          \n",
       "Business Development False                    45\n",
       "                     True                     54\n",
       "                     NaN                       2\n",
       "Client Services      False                    58\n",
       "                     True                     42"
      ]
     },
     "execution_count": 44,
     "metadata": {},
     "output_type": "execute_result"
    }
   ],
   "source": [
    "emp2 = pd.DataFrame(team_mgmt.size(), columns=['Counting'])\n",
    "emp2.head()"
   ]
  },
  {
   "cell_type": "code",
   "execution_count": 45,
   "metadata": {},
   "outputs": [
    {
     "data": {
      "text/plain": [
       "MultiIndex([('Business Development', False),\n",
       "            ('Business Development',  True),\n",
       "            ('Business Development',   nan),\n",
       "            (     'Client Services', False),\n",
       "            (     'Client Services',  True),\n",
       "            (     'Client Services',   nan),\n",
       "            (        'Distribution', False),\n",
       "            (        'Distribution',  True),\n",
       "            (        'Distribution',   nan),\n",
       "            (         'Engineering', False),\n",
       "            (         'Engineering',  True),\n",
       "            (         'Engineering',   nan),\n",
       "            (             'Finance', False),\n",
       "            (             'Finance',  True),\n",
       "            (             'Finance',   nan),\n",
       "            (     'Human Resources', False),\n",
       "            (     'Human Resources',  True),\n",
       "            (     'Human Resources',   nan),\n",
       "            (               'Legal', False),\n",
       "            (               'Legal',  True),\n",
       "            (               'Legal',   nan),\n",
       "            (           'Marketing', False),\n",
       "            (           'Marketing',  True),\n",
       "            (           'Marketing',   nan),\n",
       "            (             'Product', False),\n",
       "            (             'Product',  True),\n",
       "            (             'Product',   nan),\n",
       "            (               'Sales', False),\n",
       "            (               'Sales',  True),\n",
       "            (               'Sales',   nan),\n",
       "            (                   nan, False),\n",
       "            (                   nan,  True),\n",
       "            (                   nan,   nan)],\n",
       "           names=['Team', 'Senior Management'])"
      ]
     },
     "execution_count": 45,
     "metadata": {},
     "output_type": "execute_result"
    }
   ],
   "source": [
    "emp2.index"
   ]
  },
  {
   "cell_type": "code",
   "execution_count": 43,
   "metadata": {},
   "outputs": [
    {
     "data": {
      "text/html": [
       "<div>\n",
       "<style scoped>\n",
       "    .dataframe tbody tr th:only-of-type {\n",
       "        vertical-align: middle;\n",
       "    }\n",
       "\n",
       "    .dataframe tbody tr th {\n",
       "        vertical-align: top;\n",
       "    }\n",
       "\n",
       "    .dataframe thead th {\n",
       "        text-align: right;\n",
       "    }\n",
       "</style>\n",
       "<table border=\"1\" class=\"dataframe\">\n",
       "  <thead>\n",
       "    <tr style=\"text-align: right;\">\n",
       "      <th></th>\n",
       "      <th>Team</th>\n",
       "      <th>Senior Management</th>\n",
       "      <th>Counting</th>\n",
       "    </tr>\n",
       "  </thead>\n",
       "  <tbody>\n",
       "    <tr>\n",
       "      <th>0</th>\n",
       "      <td>Business Development</td>\n",
       "      <td>False</td>\n",
       "      <td>45</td>\n",
       "    </tr>\n",
       "    <tr>\n",
       "      <th>1</th>\n",
       "      <td>Business Development</td>\n",
       "      <td>True</td>\n",
       "      <td>54</td>\n",
       "    </tr>\n",
       "    <tr>\n",
       "      <th>2</th>\n",
       "      <td>Business Development</td>\n",
       "      <td>NaN</td>\n",
       "      <td>2</td>\n",
       "    </tr>\n",
       "    <tr>\n",
       "      <th>3</th>\n",
       "      <td>Client Services</td>\n",
       "      <td>False</td>\n",
       "      <td>58</td>\n",
       "    </tr>\n",
       "    <tr>\n",
       "      <th>4</th>\n",
       "      <td>Client Services</td>\n",
       "      <td>True</td>\n",
       "      <td>42</td>\n",
       "    </tr>\n",
       "  </tbody>\n",
       "</table>\n",
       "</div>"
      ],
      "text/plain": [
       "                   Team Senior Management  Counting\n",
       "0  Business Development             False        45\n",
       "1  Business Development              True        54\n",
       "2  Business Development               NaN         2\n",
       "3       Client Services             False        58\n",
       "4       Client Services              True        42"
      ]
     },
     "execution_count": 43,
     "metadata": {},
     "output_type": "execute_result"
    }
   ],
   "source": [
    "emp2.reset_index(inplace=True)\n",
    "emp2.head()"
   ]
  },
  {
   "attachments": {},
   "cell_type": "markdown",
   "metadata": {},
   "source": [
    "## Método `agg()`"
   ]
  },
  {
   "cell_type": "code",
   "execution_count": 46,
   "metadata": {},
   "outputs": [
    {
     "data": {
      "text/html": [
       "<div>\n",
       "<style scoped>\n",
       "    .dataframe tbody tr th:only-of-type {\n",
       "        vertical-align: middle;\n",
       "    }\n",
       "\n",
       "    .dataframe tbody tr th {\n",
       "        vertical-align: top;\n",
       "    }\n",
       "\n",
       "    .dataframe thead th {\n",
       "        text-align: right;\n",
       "    }\n",
       "</style>\n",
       "<table border=\"1\" class=\"dataframe\">\n",
       "  <thead>\n",
       "    <tr style=\"text-align: right;\">\n",
       "      <th></th>\n",
       "      <th>First Name</th>\n",
       "      <th>Gender</th>\n",
       "      <th>Start Date</th>\n",
       "      <th>Last Login Time</th>\n",
       "      <th>Salary</th>\n",
       "      <th>Bonus %</th>\n",
       "      <th>Senior Management</th>\n",
       "      <th>Team</th>\n",
       "      <th>New_Bonus</th>\n",
       "    </tr>\n",
       "  </thead>\n",
       "  <tbody>\n",
       "    <tr>\n",
       "      <th>0</th>\n",
       "      <td>Douglas</td>\n",
       "      <td>Male</td>\n",
       "      <td>8/6/1993</td>\n",
       "      <td>12:42 PM</td>\n",
       "      <td>97308</td>\n",
       "      <td>6.945</td>\n",
       "      <td>True</td>\n",
       "      <td>Marketing</td>\n",
       "      <td>6.9450</td>\n",
       "    </tr>\n",
       "    <tr>\n",
       "      <th>1</th>\n",
       "      <td>Thomas</td>\n",
       "      <td>Male</td>\n",
       "      <td>3/31/1996</td>\n",
       "      <td>6:53 AM</td>\n",
       "      <td>61933</td>\n",
       "      <td>4.170</td>\n",
       "      <td>True</td>\n",
       "      <td>NaN</td>\n",
       "      <td>4.1700</td>\n",
       "    </tr>\n",
       "    <tr>\n",
       "      <th>2</th>\n",
       "      <td>Maria</td>\n",
       "      <td>Female</td>\n",
       "      <td>4/23/1993</td>\n",
       "      <td>11:17 AM</td>\n",
       "      <td>130590</td>\n",
       "      <td>11.858</td>\n",
       "      <td>False</td>\n",
       "      <td>Finance</td>\n",
       "      <td>13.6367</td>\n",
       "    </tr>\n",
       "    <tr>\n",
       "      <th>3</th>\n",
       "      <td>Jerry</td>\n",
       "      <td>Male</td>\n",
       "      <td>3/4/2005</td>\n",
       "      <td>1:00 PM</td>\n",
       "      <td>138705</td>\n",
       "      <td>9.340</td>\n",
       "      <td>True</td>\n",
       "      <td>Finance</td>\n",
       "      <td>10.7410</td>\n",
       "    </tr>\n",
       "    <tr>\n",
       "      <th>4</th>\n",
       "      <td>Larry</td>\n",
       "      <td>Male</td>\n",
       "      <td>1/24/1998</td>\n",
       "      <td>4:47 PM</td>\n",
       "      <td>101004</td>\n",
       "      <td>1.389</td>\n",
       "      <td>True</td>\n",
       "      <td>Client Services</td>\n",
       "      <td>1.3890</td>\n",
       "    </tr>\n",
       "  </tbody>\n",
       "</table>\n",
       "</div>"
      ],
      "text/plain": [
       "  First Name  Gender Start Date Last Login Time  Salary  Bonus %  \\\n",
       "0    Douglas    Male   8/6/1993        12:42 PM   97308    6.945   \n",
       "1     Thomas    Male  3/31/1996         6:53 AM   61933    4.170   \n",
       "2      Maria  Female  4/23/1993        11:17 AM  130590   11.858   \n",
       "3      Jerry    Male   3/4/2005         1:00 PM  138705    9.340   \n",
       "4      Larry    Male  1/24/1998         4:47 PM  101004    1.389   \n",
       "\n",
       "  Senior Management             Team  New_Bonus  \n",
       "0              True        Marketing     6.9450  \n",
       "1              True              NaN     4.1700  \n",
       "2             False          Finance    13.6367  \n",
       "3              True          Finance    10.7410  \n",
       "4              True  Client Services     1.3890  "
      ]
     },
     "execution_count": 46,
     "metadata": {},
     "output_type": "execute_result"
    }
   ],
   "source": [
    "emp.head()"
   ]
  },
  {
   "cell_type": "code",
   "execution_count": 48,
   "metadata": {},
   "outputs": [
    {
     "data": {
      "text/html": [
       "<div>\n",
       "<style scoped>\n",
       "    .dataframe tbody tr th:only-of-type {\n",
       "        vertical-align: middle;\n",
       "    }\n",
       "\n",
       "    .dataframe tbody tr th {\n",
       "        vertical-align: top;\n",
       "    }\n",
       "\n",
       "    .dataframe thead th {\n",
       "        text-align: right;\n",
       "    }\n",
       "</style>\n",
       "<table border=\"1\" class=\"dataframe\">\n",
       "  <thead>\n",
       "    <tr style=\"text-align: right;\">\n",
       "      <th></th>\n",
       "      <th>First Name</th>\n",
       "      <th>Gender</th>\n",
       "      <th>Start Date</th>\n",
       "      <th>Last Login Time</th>\n",
       "      <th>Salary</th>\n",
       "      <th>Bonus %</th>\n",
       "      <th>Senior Management</th>\n",
       "      <th>Team</th>\n",
       "    </tr>\n",
       "  </thead>\n",
       "  <tbody>\n",
       "    <tr>\n",
       "      <th>0</th>\n",
       "      <td>Douglas</td>\n",
       "      <td>Male</td>\n",
       "      <td>8/6/1993</td>\n",
       "      <td>12:42 PM</td>\n",
       "      <td>97308</td>\n",
       "      <td>6.945</td>\n",
       "      <td>True</td>\n",
       "      <td>Marketing</td>\n",
       "    </tr>\n",
       "    <tr>\n",
       "      <th>1</th>\n",
       "      <td>Thomas</td>\n",
       "      <td>Male</td>\n",
       "      <td>3/31/1996</td>\n",
       "      <td>6:53 AM</td>\n",
       "      <td>61933</td>\n",
       "      <td>4.170</td>\n",
       "      <td>True</td>\n",
       "      <td>NaN</td>\n",
       "    </tr>\n",
       "    <tr>\n",
       "      <th>2</th>\n",
       "      <td>Maria</td>\n",
       "      <td>Female</td>\n",
       "      <td>4/23/1993</td>\n",
       "      <td>11:17 AM</td>\n",
       "      <td>130590</td>\n",
       "      <td>11.858</td>\n",
       "      <td>False</td>\n",
       "      <td>Finance</td>\n",
       "    </tr>\n",
       "    <tr>\n",
       "      <th>3</th>\n",
       "      <td>Jerry</td>\n",
       "      <td>Male</td>\n",
       "      <td>3/4/2005</td>\n",
       "      <td>1:00 PM</td>\n",
       "      <td>138705</td>\n",
       "      <td>9.340</td>\n",
       "      <td>True</td>\n",
       "      <td>Finance</td>\n",
       "    </tr>\n",
       "    <tr>\n",
       "      <th>4</th>\n",
       "      <td>Larry</td>\n",
       "      <td>Male</td>\n",
       "      <td>1/24/1998</td>\n",
       "      <td>4:47 PM</td>\n",
       "      <td>101004</td>\n",
       "      <td>1.389</td>\n",
       "      <td>True</td>\n",
       "      <td>Client Services</td>\n",
       "    </tr>\n",
       "  </tbody>\n",
       "</table>\n",
       "</div>"
      ],
      "text/plain": [
       "  First Name  Gender Start Date Last Login Time  Salary  Bonus %  \\\n",
       "0    Douglas    Male   8/6/1993        12:42 PM   97308    6.945   \n",
       "1     Thomas    Male  3/31/1996         6:53 AM   61933    4.170   \n",
       "2      Maria  Female  4/23/1993        11:17 AM  130590   11.858   \n",
       "3      Jerry    Male   3/4/2005         1:00 PM  138705    9.340   \n",
       "4      Larry    Male  1/24/1998         4:47 PM  101004    1.389   \n",
       "\n",
       "  Senior Management             Team  \n",
       "0              True        Marketing  \n",
       "1              True              NaN  \n",
       "2             False          Finance  \n",
       "3              True          Finance  \n",
       "4              True  Client Services  "
      ]
     },
     "execution_count": 48,
     "metadata": {},
     "output_type": "execute_result"
    }
   ],
   "source": [
    "emp.pop('New_Bonus')\n",
    "emp.head()"
   ]
  },
  {
   "cell_type": "code",
   "execution_count": 49,
   "metadata": {},
   "outputs": [
    {
     "name": "stderr",
     "output_type": "stream",
     "text": [
      "/var/folders/6b/ddjkk4l908n5cwpnvhllb3fc0000gn/T/ipykernel_16338/3464800743.py:3: FutureWarning: The default value of numeric_only in DataFrameGroupBy.sum is deprecated. In a future version, numeric_only will default to False. Either specify numeric_only or select only columns which should be valid for the function.\n",
      "  teams.sum()\n"
     ]
    },
    {
     "data": {
      "text/html": [
       "<div>\n",
       "<style scoped>\n",
       "    .dataframe tbody tr th:only-of-type {\n",
       "        vertical-align: middle;\n",
       "    }\n",
       "\n",
       "    .dataframe tbody tr th {\n",
       "        vertical-align: top;\n",
       "    }\n",
       "\n",
       "    .dataframe thead th {\n",
       "        text-align: right;\n",
       "    }\n",
       "</style>\n",
       "<table border=\"1\" class=\"dataframe\">\n",
       "  <thead>\n",
       "    <tr style=\"text-align: right;\">\n",
       "      <th></th>\n",
       "      <th>Salary</th>\n",
       "      <th>Bonus %</th>\n",
       "      <th>New_Bonus</th>\n",
       "    </tr>\n",
       "    <tr>\n",
       "      <th>Team</th>\n",
       "      <th></th>\n",
       "      <th></th>\n",
       "      <th></th>\n",
       "    </tr>\n",
       "  </thead>\n",
       "  <tbody>\n",
       "    <tr>\n",
       "      <th>Business Development</th>\n",
       "      <td>9278498</td>\n",
       "      <td>1067.810</td>\n",
       "      <td>1067.8100</td>\n",
       "    </tr>\n",
       "    <tr>\n",
       "      <th>Client Services</th>\n",
       "      <td>9351789</td>\n",
       "      <td>1112.481</td>\n",
       "      <td>1112.4810</td>\n",
       "    </tr>\n",
       "    <tr>\n",
       "      <th>Distribution</th>\n",
       "      <td>7965042</td>\n",
       "      <td>865.408</td>\n",
       "      <td>865.4080</td>\n",
       "    </tr>\n",
       "    <tr>\n",
       "      <th>Engineering</th>\n",
       "      <td>8672766</td>\n",
       "      <td>962.595</td>\n",
       "      <td>962.5950</td>\n",
       "    </tr>\n",
       "    <tr>\n",
       "      <th>Finance</th>\n",
       "      <td>9406387</td>\n",
       "      <td>1039.061</td>\n",
       "      <td>1111.3562</td>\n",
       "    </tr>\n",
       "    <tr>\n",
       "      <th>Human Resources</th>\n",
       "      <td>8275952</td>\n",
       "      <td>909.443</td>\n",
       "      <td>909.4430</td>\n",
       "    </tr>\n",
       "    <tr>\n",
       "      <th>Legal</th>\n",
       "      <td>7858718</td>\n",
       "      <td>908.409</td>\n",
       "      <td>908.4090</td>\n",
       "    </tr>\n",
       "    <tr>\n",
       "      <th>Marketing</th>\n",
       "      <td>8862688</td>\n",
       "      <td>1014.638</td>\n",
       "      <td>1068.8044</td>\n",
       "    </tr>\n",
       "    <tr>\n",
       "      <th>Product</th>\n",
       "      <td>8423223</td>\n",
       "      <td>930.191</td>\n",
       "      <td>930.1910</td>\n",
       "    </tr>\n",
       "    <tr>\n",
       "      <th>Sales</th>\n",
       "      <td>8664303</td>\n",
       "      <td>950.990</td>\n",
       "      <td>950.9900</td>\n",
       "    </tr>\n",
       "  </tbody>\n",
       "</table>\n",
       "</div>"
      ],
      "text/plain": [
       "                       Salary   Bonus %  New_Bonus\n",
       "Team                                              \n",
       "Business Development  9278498  1067.810  1067.8100\n",
       "Client Services       9351789  1112.481  1112.4810\n",
       "Distribution          7965042   865.408   865.4080\n",
       "Engineering           8672766   962.595   962.5950\n",
       "Finance               9406387  1039.061  1111.3562\n",
       "Human Resources       8275952   909.443   909.4430\n",
       "Legal                 7858718   908.409   908.4090\n",
       "Marketing             8862688  1014.638  1068.8044\n",
       "Product               8423223   930.191   930.1910\n",
       "Sales                 8664303   950.990   950.9900"
      ]
     },
     "execution_count": 49,
     "metadata": {},
     "output_type": "execute_result"
    }
   ],
   "source": [
    "# Misma operación para \"todas\"* las columnas\n",
    "## *No cuenta strings\n",
    "teams.sum()"
   ]
  },
  {
   "attachments": {},
   "cell_type": "markdown",
   "metadata": {},
   "source": [
    "Para aggregate, se utilizan dictionaries para definir las operaciones y las columnas en las que se llevarán a cabo."
   ]
  },
  {
   "cell_type": "code",
   "execution_count": 50,
   "metadata": {},
   "outputs": [
    {
     "data": {
      "text/html": [
       "<div>\n",
       "<style scoped>\n",
       "    .dataframe tbody tr th:only-of-type {\n",
       "        vertical-align: middle;\n",
       "    }\n",
       "\n",
       "    .dataframe tbody tr th {\n",
       "        vertical-align: top;\n",
       "    }\n",
       "\n",
       "    .dataframe thead th {\n",
       "        text-align: right;\n",
       "    }\n",
       "</style>\n",
       "<table border=\"1\" class=\"dataframe\">\n",
       "  <thead>\n",
       "    <tr style=\"text-align: right;\">\n",
       "      <th></th>\n",
       "      <th>Salary</th>\n",
       "      <th>Bonus %</th>\n",
       "    </tr>\n",
       "    <tr>\n",
       "      <th>Team</th>\n",
       "      <th></th>\n",
       "      <th></th>\n",
       "    </tr>\n",
       "  </thead>\n",
       "  <tbody>\n",
       "    <tr>\n",
       "      <th>Business Development</th>\n",
       "      <td>9278498</td>\n",
       "      <td>10.572376</td>\n",
       "    </tr>\n",
       "    <tr>\n",
       "      <th>Client Services</th>\n",
       "      <td>9351789</td>\n",
       "      <td>10.495104</td>\n",
       "    </tr>\n",
       "    <tr>\n",
       "      <th>Distribution</th>\n",
       "      <td>7965042</td>\n",
       "      <td>9.615644</td>\n",
       "    </tr>\n",
       "    <tr>\n",
       "      <th>Engineering</th>\n",
       "      <td>8672766</td>\n",
       "      <td>10.462989</td>\n",
       "    </tr>\n",
       "    <tr>\n",
       "      <th>Finance</th>\n",
       "      <td>9406387</td>\n",
       "      <td>10.186873</td>\n",
       "    </tr>\n",
       "    <tr>\n",
       "      <th>Human Resources</th>\n",
       "      <td>8275952</td>\n",
       "      <td>9.993879</td>\n",
       "    </tr>\n",
       "    <tr>\n",
       "      <th>Legal</th>\n",
       "      <td>7858718</td>\n",
       "      <td>10.322830</td>\n",
       "    </tr>\n",
       "    <tr>\n",
       "      <th>Marketing</th>\n",
       "      <td>8862688</td>\n",
       "      <td>10.353449</td>\n",
       "    </tr>\n",
       "    <tr>\n",
       "      <th>Product</th>\n",
       "      <td>8423223</td>\n",
       "      <td>9.791484</td>\n",
       "    </tr>\n",
       "    <tr>\n",
       "      <th>Sales</th>\n",
       "      <td>8664303</td>\n",
       "      <td>10.116915</td>\n",
       "    </tr>\n",
       "  </tbody>\n",
       "</table>\n",
       "</div>"
      ],
      "text/plain": [
       "                       Salary    Bonus %\n",
       "Team                                    \n",
       "Business Development  9278498  10.572376\n",
       "Client Services       9351789  10.495104\n",
       "Distribution          7965042   9.615644\n",
       "Engineering           8672766  10.462989\n",
       "Finance               9406387  10.186873\n",
       "Human Resources       8275952   9.993879\n",
       "Legal                 7858718  10.322830\n",
       "Marketing             8862688  10.353449\n",
       "Product               8423223   9.791484\n",
       "Sales                 8664303  10.116915"
      ]
     },
     "execution_count": 50,
     "metadata": {},
     "output_type": "execute_result"
    }
   ],
   "source": [
    "teams.agg({'Salary':'sum','Bonus %':'mean'})"
   ]
  },
  {
   "attachments": {},
   "cell_type": "markdown",
   "metadata": {
    "tags": [
     "Note"
    ]
   },
   "source": [
    "#### Nota: También funciona para _DataFrames_."
   ]
  },
  {
   "cell_type": "code",
   "execution_count": 51,
   "metadata": {
    "tags": [
     "Note"
    ]
   },
   "outputs": [
    {
     "data": {
      "text/plain": [
       "Salary     9.066218e+07\n",
       "Bonus %    1.020756e+01\n",
       "dtype: float64"
      ]
     },
     "execution_count": 51,
     "metadata": {},
     "output_type": "execute_result"
    }
   ],
   "source": [
    "emp.agg({'Salary':'sum','Bonus %':'mean'})"
   ]
  },
  {
   "attachments": {},
   "cell_type": "markdown",
   "metadata": {},
   "source": [
    "#### Continuation"
   ]
  },
  {
   "cell_type": "code",
   "execution_count": 52,
   "metadata": {},
   "outputs": [
    {
     "data": {
      "text/html": [
       "<div>\n",
       "<style scoped>\n",
       "    .dataframe tbody tr th:only-of-type {\n",
       "        vertical-align: middle;\n",
       "    }\n",
       "\n",
       "    .dataframe tbody tr th {\n",
       "        vertical-align: top;\n",
       "    }\n",
       "\n",
       "    .dataframe thead tr th {\n",
       "        text-align: left;\n",
       "    }\n",
       "\n",
       "    .dataframe thead tr:last-of-type th {\n",
       "        text-align: right;\n",
       "    }\n",
       "</style>\n",
       "<table border=\"1\" class=\"dataframe\">\n",
       "  <thead>\n",
       "    <tr>\n",
       "      <th></th>\n",
       "      <th colspan=\"2\" halign=\"left\">Salary</th>\n",
       "      <th>Bonus %</th>\n",
       "    </tr>\n",
       "    <tr>\n",
       "      <th></th>\n",
       "      <th>sum</th>\n",
       "      <th>mean</th>\n",
       "      <th>mean</th>\n",
       "    </tr>\n",
       "    <tr>\n",
       "      <th>Team</th>\n",
       "      <th></th>\n",
       "      <th></th>\n",
       "      <th></th>\n",
       "    </tr>\n",
       "  </thead>\n",
       "  <tbody>\n",
       "    <tr>\n",
       "      <th>Business Development</th>\n",
       "      <td>9278498</td>\n",
       "      <td>91866.316832</td>\n",
       "      <td>10.572376</td>\n",
       "    </tr>\n",
       "    <tr>\n",
       "      <th>Client Services</th>\n",
       "      <td>9351789</td>\n",
       "      <td>88224.424528</td>\n",
       "      <td>10.495104</td>\n",
       "    </tr>\n",
       "    <tr>\n",
       "      <th>Distribution</th>\n",
       "      <td>7965042</td>\n",
       "      <td>88500.466667</td>\n",
       "      <td>9.615644</td>\n",
       "    </tr>\n",
       "    <tr>\n",
       "      <th>Engineering</th>\n",
       "      <td>8672766</td>\n",
       "      <td>94269.195652</td>\n",
       "      <td>10.462989</td>\n",
       "    </tr>\n",
       "    <tr>\n",
       "      <th>Finance</th>\n",
       "      <td>9406387</td>\n",
       "      <td>92219.480392</td>\n",
       "      <td>10.186873</td>\n",
       "    </tr>\n",
       "    <tr>\n",
       "      <th>Human Resources</th>\n",
       "      <td>8275952</td>\n",
       "      <td>90944.527473</td>\n",
       "      <td>9.993879</td>\n",
       "    </tr>\n",
       "    <tr>\n",
       "      <th>Legal</th>\n",
       "      <td>7858718</td>\n",
       "      <td>89303.613636</td>\n",
       "      <td>10.322830</td>\n",
       "    </tr>\n",
       "    <tr>\n",
       "      <th>Marketing</th>\n",
       "      <td>8862688</td>\n",
       "      <td>90435.591837</td>\n",
       "      <td>10.353449</td>\n",
       "    </tr>\n",
       "    <tr>\n",
       "      <th>Product</th>\n",
       "      <td>8423223</td>\n",
       "      <td>88665.505263</td>\n",
       "      <td>9.791484</td>\n",
       "    </tr>\n",
       "    <tr>\n",
       "      <th>Sales</th>\n",
       "      <td>8664303</td>\n",
       "      <td>92173.436170</td>\n",
       "      <td>10.116915</td>\n",
       "    </tr>\n",
       "  </tbody>\n",
       "</table>\n",
       "</div>"
      ],
      "text/plain": [
       "                       Salary                  Bonus %\n",
       "                          sum          mean       mean\n",
       "Team                                                  \n",
       "Business Development  9278498  91866.316832  10.572376\n",
       "Client Services       9351789  88224.424528  10.495104\n",
       "Distribution          7965042  88500.466667   9.615644\n",
       "Engineering           8672766  94269.195652  10.462989\n",
       "Finance               9406387  92219.480392  10.186873\n",
       "Human Resources       8275952  90944.527473   9.993879\n",
       "Legal                 7858718  89303.613636  10.322830\n",
       "Marketing             8862688  90435.591837  10.353449\n",
       "Product               8423223  88665.505263   9.791484\n",
       "Sales                 8664303  92173.436170  10.116915"
      ]
     },
     "execution_count": 52,
     "metadata": {},
     "output_type": "execute_result"
    }
   ],
   "source": [
    "teams.agg({\n",
    "    'Salary':['sum','mean'],\n",
    "    'Bonus %':'mean'\n",
    "})"
   ]
  },
  {
   "cell_type": "code",
   "execution_count": 53,
   "metadata": {},
   "outputs": [],
   "source": [
    "emp3 = teams.agg({\n",
    "    'Salary': ['sum', 'mean'],\n",
    "    'Bonus %': 'mean'\n",
    "})\n"
   ]
  },
  {
   "cell_type": "code",
   "execution_count": 55,
   "metadata": {},
   "outputs": [
    {
     "data": {
      "text/html": [
       "<div>\n",
       "<style scoped>\n",
       "    .dataframe tbody tr th:only-of-type {\n",
       "        vertical-align: middle;\n",
       "    }\n",
       "\n",
       "    .dataframe tbody tr th {\n",
       "        vertical-align: top;\n",
       "    }\n",
       "\n",
       "    .dataframe thead tr th {\n",
       "        text-align: left;\n",
       "    }\n",
       "</style>\n",
       "<table border=\"1\" class=\"dataframe\">\n",
       "  <thead>\n",
       "    <tr>\n",
       "      <th></th>\n",
       "      <th>Team</th>\n",
       "      <th colspan=\"2\" halign=\"left\">Salary</th>\n",
       "      <th>Bonus %</th>\n",
       "    </tr>\n",
       "    <tr>\n",
       "      <th></th>\n",
       "      <th></th>\n",
       "      <th>sum</th>\n",
       "      <th>mean</th>\n",
       "      <th>mean</th>\n",
       "    </tr>\n",
       "  </thead>\n",
       "  <tbody>\n",
       "    <tr>\n",
       "      <th>0</th>\n",
       "      <td>Business Development</td>\n",
       "      <td>9278498</td>\n",
       "      <td>91866.316832</td>\n",
       "      <td>10.572376</td>\n",
       "    </tr>\n",
       "    <tr>\n",
       "      <th>1</th>\n",
       "      <td>Client Services</td>\n",
       "      <td>9351789</td>\n",
       "      <td>88224.424528</td>\n",
       "      <td>10.495104</td>\n",
       "    </tr>\n",
       "    <tr>\n",
       "      <th>2</th>\n",
       "      <td>Distribution</td>\n",
       "      <td>7965042</td>\n",
       "      <td>88500.466667</td>\n",
       "      <td>9.615644</td>\n",
       "    </tr>\n",
       "    <tr>\n",
       "      <th>3</th>\n",
       "      <td>Engineering</td>\n",
       "      <td>8672766</td>\n",
       "      <td>94269.195652</td>\n",
       "      <td>10.462989</td>\n",
       "    </tr>\n",
       "    <tr>\n",
       "      <th>4</th>\n",
       "      <td>Finance</td>\n",
       "      <td>9406387</td>\n",
       "      <td>92219.480392</td>\n",
       "      <td>10.186873</td>\n",
       "    </tr>\n",
       "    <tr>\n",
       "      <th>5</th>\n",
       "      <td>Human Resources</td>\n",
       "      <td>8275952</td>\n",
       "      <td>90944.527473</td>\n",
       "      <td>9.993879</td>\n",
       "    </tr>\n",
       "    <tr>\n",
       "      <th>6</th>\n",
       "      <td>Legal</td>\n",
       "      <td>7858718</td>\n",
       "      <td>89303.613636</td>\n",
       "      <td>10.322830</td>\n",
       "    </tr>\n",
       "    <tr>\n",
       "      <th>7</th>\n",
       "      <td>Marketing</td>\n",
       "      <td>8862688</td>\n",
       "      <td>90435.591837</td>\n",
       "      <td>10.353449</td>\n",
       "    </tr>\n",
       "    <tr>\n",
       "      <th>8</th>\n",
       "      <td>Product</td>\n",
       "      <td>8423223</td>\n",
       "      <td>88665.505263</td>\n",
       "      <td>9.791484</td>\n",
       "    </tr>\n",
       "    <tr>\n",
       "      <th>9</th>\n",
       "      <td>Sales</td>\n",
       "      <td>8664303</td>\n",
       "      <td>92173.436170</td>\n",
       "      <td>10.116915</td>\n",
       "    </tr>\n",
       "  </tbody>\n",
       "</table>\n",
       "</div>"
      ],
      "text/plain": [
       "                   Team   Salary                  Bonus %\n",
       "                             sum          mean       mean\n",
       "0  Business Development  9278498  91866.316832  10.572376\n",
       "1       Client Services  9351789  88224.424528  10.495104\n",
       "2          Distribution  7965042  88500.466667   9.615644\n",
       "3           Engineering  8672766  94269.195652  10.462989\n",
       "4               Finance  9406387  92219.480392  10.186873\n",
       "5       Human Resources  8275952  90944.527473   9.993879\n",
       "6                 Legal  7858718  89303.613636  10.322830\n",
       "7             Marketing  8862688  90435.591837  10.353449\n",
       "8               Product  8423223  88665.505263   9.791484\n",
       "9                 Sales  8664303  92173.436170  10.116915"
      ]
     },
     "execution_count": 55,
     "metadata": {},
     "output_type": "execute_result"
    }
   ],
   "source": [
    "emp3.reset_index()"
   ]
  },
  {
   "cell_type": "code",
   "execution_count": 58,
   "metadata": {},
   "outputs": [
    {
     "name": "stderr",
     "output_type": "stream",
     "text": [
      "/var/folders/6b/ddjkk4l908n5cwpnvhllb3fc0000gn/T/ipykernel_16338/344479231.py:1: FutureWarning: ['First Name', 'Gender', 'Start Date', 'Last Login Time'] did not aggregate successfully. If any error is raised this will raise in a future version of pandas. Drop these columns/ops to avoid this warning.\n",
      "  teams.agg(['size','sum','mean'])\n"
     ]
    },
    {
     "data": {
      "text/html": [
       "<div>\n",
       "<style scoped>\n",
       "    .dataframe tbody tr th:only-of-type {\n",
       "        vertical-align: middle;\n",
       "    }\n",
       "\n",
       "    .dataframe tbody tr th {\n",
       "        vertical-align: top;\n",
       "    }\n",
       "\n",
       "    .dataframe thead tr th {\n",
       "        text-align: left;\n",
       "    }\n",
       "\n",
       "    .dataframe thead tr:last-of-type th {\n",
       "        text-align: right;\n",
       "    }\n",
       "</style>\n",
       "<table border=\"1\" class=\"dataframe\">\n",
       "  <thead>\n",
       "    <tr>\n",
       "      <th></th>\n",
       "      <th colspan=\"3\" halign=\"left\">Salary</th>\n",
       "      <th colspan=\"3\" halign=\"left\">Bonus %</th>\n",
       "      <th colspan=\"3\" halign=\"left\">Senior Management</th>\n",
       "      <th colspan=\"3\" halign=\"left\">New_Bonus</th>\n",
       "    </tr>\n",
       "    <tr>\n",
       "      <th></th>\n",
       "      <th>size</th>\n",
       "      <th>sum</th>\n",
       "      <th>mean</th>\n",
       "      <th>size</th>\n",
       "      <th>sum</th>\n",
       "      <th>mean</th>\n",
       "      <th>size</th>\n",
       "      <th>sum</th>\n",
       "      <th>mean</th>\n",
       "      <th>size</th>\n",
       "      <th>sum</th>\n",
       "      <th>mean</th>\n",
       "    </tr>\n",
       "    <tr>\n",
       "      <th>Team</th>\n",
       "      <th></th>\n",
       "      <th></th>\n",
       "      <th></th>\n",
       "      <th></th>\n",
       "      <th></th>\n",
       "      <th></th>\n",
       "      <th></th>\n",
       "      <th></th>\n",
       "      <th></th>\n",
       "      <th></th>\n",
       "      <th></th>\n",
       "      <th></th>\n",
       "    </tr>\n",
       "  </thead>\n",
       "  <tbody>\n",
       "    <tr>\n",
       "      <th>Business Development</th>\n",
       "      <td>101</td>\n",
       "      <td>9278498</td>\n",
       "      <td>91866.316832</td>\n",
       "      <td>101</td>\n",
       "      <td>1067.810</td>\n",
       "      <td>10.572376</td>\n",
       "      <td>101</td>\n",
       "      <td>54</td>\n",
       "      <td>0.545455</td>\n",
       "      <td>101</td>\n",
       "      <td>1067.8100</td>\n",
       "      <td>10.572376</td>\n",
       "    </tr>\n",
       "    <tr>\n",
       "      <th>Client Services</th>\n",
       "      <td>106</td>\n",
       "      <td>9351789</td>\n",
       "      <td>88224.424528</td>\n",
       "      <td>106</td>\n",
       "      <td>1112.481</td>\n",
       "      <td>10.495104</td>\n",
       "      <td>106</td>\n",
       "      <td>42</td>\n",
       "      <td>0.420000</td>\n",
       "      <td>106</td>\n",
       "      <td>1112.4810</td>\n",
       "      <td>10.495104</td>\n",
       "    </tr>\n",
       "    <tr>\n",
       "      <th>Distribution</th>\n",
       "      <td>90</td>\n",
       "      <td>7965042</td>\n",
       "      <td>88500.466667</td>\n",
       "      <td>90</td>\n",
       "      <td>865.408</td>\n",
       "      <td>9.615644</td>\n",
       "      <td>90</td>\n",
       "      <td>38</td>\n",
       "      <td>0.493506</td>\n",
       "      <td>90</td>\n",
       "      <td>865.4080</td>\n",
       "      <td>9.615644</td>\n",
       "    </tr>\n",
       "    <tr>\n",
       "      <th>Engineering</th>\n",
       "      <td>92</td>\n",
       "      <td>8672766</td>\n",
       "      <td>94269.195652</td>\n",
       "      <td>92</td>\n",
       "      <td>962.595</td>\n",
       "      <td>10.462989</td>\n",
       "      <td>92</td>\n",
       "      <td>49</td>\n",
       "      <td>0.569767</td>\n",
       "      <td>92</td>\n",
       "      <td>962.5950</td>\n",
       "      <td>10.462989</td>\n",
       "    </tr>\n",
       "    <tr>\n",
       "      <th>Finance</th>\n",
       "      <td>102</td>\n",
       "      <td>9406387</td>\n",
       "      <td>92219.480392</td>\n",
       "      <td>102</td>\n",
       "      <td>1039.061</td>\n",
       "      <td>10.186873</td>\n",
       "      <td>102</td>\n",
       "      <td>46</td>\n",
       "      <td>0.474227</td>\n",
       "      <td>102</td>\n",
       "      <td>1111.3562</td>\n",
       "      <td>10.895649</td>\n",
       "    </tr>\n",
       "    <tr>\n",
       "      <th>Human Resources</th>\n",
       "      <td>91</td>\n",
       "      <td>8275952</td>\n",
       "      <td>90944.527473</td>\n",
       "      <td>91</td>\n",
       "      <td>909.443</td>\n",
       "      <td>9.993879</td>\n",
       "      <td>91</td>\n",
       "      <td>45</td>\n",
       "      <td>0.529412</td>\n",
       "      <td>91</td>\n",
       "      <td>909.4430</td>\n",
       "      <td>9.993879</td>\n",
       "    </tr>\n",
       "    <tr>\n",
       "      <th>Legal</th>\n",
       "      <td>88</td>\n",
       "      <td>7858718</td>\n",
       "      <td>89303.613636</td>\n",
       "      <td>88</td>\n",
       "      <td>908.409</td>\n",
       "      <td>10.322830</td>\n",
       "      <td>88</td>\n",
       "      <td>41</td>\n",
       "      <td>0.476744</td>\n",
       "      <td>88</td>\n",
       "      <td>908.4090</td>\n",
       "      <td>10.322830</td>\n",
       "    </tr>\n",
       "    <tr>\n",
       "      <th>Marketing</th>\n",
       "      <td>98</td>\n",
       "      <td>8862688</td>\n",
       "      <td>90435.591837</td>\n",
       "      <td>98</td>\n",
       "      <td>1014.638</td>\n",
       "      <td>10.353449</td>\n",
       "      <td>98</td>\n",
       "      <td>49</td>\n",
       "      <td>0.538462</td>\n",
       "      <td>98</td>\n",
       "      <td>1068.8044</td>\n",
       "      <td>10.906167</td>\n",
       "    </tr>\n",
       "    <tr>\n",
       "      <th>Product</th>\n",
       "      <td>95</td>\n",
       "      <td>8423223</td>\n",
       "      <td>88665.505263</td>\n",
       "      <td>95</td>\n",
       "      <td>930.191</td>\n",
       "      <td>9.791484</td>\n",
       "      <td>95</td>\n",
       "      <td>38</td>\n",
       "      <td>0.413043</td>\n",
       "      <td>95</td>\n",
       "      <td>930.1910</td>\n",
       "      <td>9.791484</td>\n",
       "    </tr>\n",
       "    <tr>\n",
       "      <th>Sales</th>\n",
       "      <td>94</td>\n",
       "      <td>8664303</td>\n",
       "      <td>92173.436170</td>\n",
       "      <td>94</td>\n",
       "      <td>950.990</td>\n",
       "      <td>10.116915</td>\n",
       "      <td>94</td>\n",
       "      <td>48</td>\n",
       "      <td>0.558140</td>\n",
       "      <td>94</td>\n",
       "      <td>950.9900</td>\n",
       "      <td>10.116915</td>\n",
       "    </tr>\n",
       "  </tbody>\n",
       "</table>\n",
       "</div>"
      ],
      "text/plain": [
       "                     Salary                        Bonus %            \\\n",
       "                       size      sum          mean    size       sum   \n",
       "Team                                                                   \n",
       "Business Development    101  9278498  91866.316832     101  1067.810   \n",
       "Client Services         106  9351789  88224.424528     106  1112.481   \n",
       "Distribution             90  7965042  88500.466667      90   865.408   \n",
       "Engineering              92  8672766  94269.195652      92   962.595   \n",
       "Finance                 102  9406387  92219.480392     102  1039.061   \n",
       "Human Resources          91  8275952  90944.527473      91   909.443   \n",
       "Legal                    88  7858718  89303.613636      88   908.409   \n",
       "Marketing                98  8862688  90435.591837      98  1014.638   \n",
       "Product                  95  8423223  88665.505263      95   930.191   \n",
       "Sales                    94  8664303  92173.436170      94   950.990   \n",
       "\n",
       "                                Senior Management               New_Bonus  \\\n",
       "                           mean              size sum      mean      size   \n",
       "Team                                                                        \n",
       "Business Development  10.572376               101  54  0.545455       101   \n",
       "Client Services       10.495104               106  42  0.420000       106   \n",
       "Distribution           9.615644                90  38  0.493506        90   \n",
       "Engineering           10.462989                92  49  0.569767        92   \n",
       "Finance               10.186873               102  46  0.474227       102   \n",
       "Human Resources        9.993879                91  45  0.529412        91   \n",
       "Legal                 10.322830                88  41  0.476744        88   \n",
       "Marketing             10.353449                98  49  0.538462        98   \n",
       "Product                9.791484                95  38  0.413043        95   \n",
       "Sales                 10.116915                94  48  0.558140        94   \n",
       "\n",
       "                                            \n",
       "                            sum       mean  \n",
       "Team                                        \n",
       "Business Development  1067.8100  10.572376  \n",
       "Client Services       1112.4810  10.495104  \n",
       "Distribution           865.4080   9.615644  \n",
       "Engineering            962.5950  10.462989  \n",
       "Finance               1111.3562  10.895649  \n",
       "Human Resources        909.4430   9.993879  \n",
       "Legal                  908.4090  10.322830  \n",
       "Marketing             1068.8044  10.906167  \n",
       "Product                930.1910   9.791484  \n",
       "Sales                  950.9900  10.116915  "
      ]
     },
     "execution_count": 58,
     "metadata": {},
     "output_type": "execute_result"
    }
   ],
   "source": [
    "teams.agg(['size','sum','mean'])"
   ]
  },
  {
   "attachments": {},
   "cell_type": "markdown",
   "metadata": {},
   "source": [
    "### Cómo iterar sobre un objeto `groupby`"
   ]
  },
  {
   "attachments": {},
   "cell_type": "markdown",
   "metadata": {},
   "source": [
    "Queremos un DataFrame con el salario mas alto de cada equipo"
   ]
  },
  {
   "cell_type": "code",
   "execution_count": 62,
   "metadata": {},
   "outputs": [
    {
     "data": {
      "text/html": [
       "<div>\n",
       "<style scoped>\n",
       "    .dataframe tbody tr th:only-of-type {\n",
       "        vertical-align: middle;\n",
       "    }\n",
       "\n",
       "    .dataframe tbody tr th {\n",
       "        vertical-align: top;\n",
       "    }\n",
       "\n",
       "    .dataframe thead th {\n",
       "        text-align: right;\n",
       "    }\n",
       "</style>\n",
       "<table border=\"1\" class=\"dataframe\">\n",
       "  <thead>\n",
       "    <tr style=\"text-align: right;\">\n",
       "      <th></th>\n",
       "      <th>First Name</th>\n",
       "      <th>Gender</th>\n",
       "      <th>Start Date</th>\n",
       "      <th>Last Login Time</th>\n",
       "      <th>Salary</th>\n",
       "      <th>Bonus %</th>\n",
       "      <th>Senior Management</th>\n",
       "      <th>Team</th>\n",
       "    </tr>\n",
       "  </thead>\n",
       "  <tbody>\n",
       "  </tbody>\n",
       "</table>\n",
       "</div>"
      ],
      "text/plain": [
       "Empty DataFrame\n",
       "Columns: [First Name, Gender, Start Date, Last Login Time, Salary, Bonus %, Senior Management, Team]\n",
       "Index: []"
      ]
     },
     "execution_count": 62,
     "metadata": {},
     "output_type": "execute_result"
    }
   ],
   "source": [
    "df_aux = pd.DataFrame(columns=emp.columns)\n",
    "df_aux"
   ]
  },
  {
   "cell_type": "code",
   "execution_count": 63,
   "metadata": {},
   "outputs": [
    {
     "name": "stderr",
     "output_type": "stream",
     "text": [
      "/var/folders/6b/ddjkk4l908n5cwpnvhllb3fc0000gn/T/ipykernel_16338/3005351152.py:3: FutureWarning: The frame.append method is deprecated and will be removed from pandas in a future version. Use pandas.concat instead.\n",
      "  df_aux = df_aux.append(highest_gp_salary)\n",
      "/var/folders/6b/ddjkk4l908n5cwpnvhllb3fc0000gn/T/ipykernel_16338/3005351152.py:3: FutureWarning: The frame.append method is deprecated and will be removed from pandas in a future version. Use pandas.concat instead.\n",
      "  df_aux = df_aux.append(highest_gp_salary)\n",
      "/var/folders/6b/ddjkk4l908n5cwpnvhllb3fc0000gn/T/ipykernel_16338/3005351152.py:3: FutureWarning: The frame.append method is deprecated and will be removed from pandas in a future version. Use pandas.concat instead.\n",
      "  df_aux = df_aux.append(highest_gp_salary)\n",
      "/var/folders/6b/ddjkk4l908n5cwpnvhllb3fc0000gn/T/ipykernel_16338/3005351152.py:3: FutureWarning: The frame.append method is deprecated and will be removed from pandas in a future version. Use pandas.concat instead.\n",
      "  df_aux = df_aux.append(highest_gp_salary)\n",
      "/var/folders/6b/ddjkk4l908n5cwpnvhllb3fc0000gn/T/ipykernel_16338/3005351152.py:3: FutureWarning: The frame.append method is deprecated and will be removed from pandas in a future version. Use pandas.concat instead.\n",
      "  df_aux = df_aux.append(highest_gp_salary)\n",
      "/var/folders/6b/ddjkk4l908n5cwpnvhllb3fc0000gn/T/ipykernel_16338/3005351152.py:3: FutureWarning: The frame.append method is deprecated and will be removed from pandas in a future version. Use pandas.concat instead.\n",
      "  df_aux = df_aux.append(highest_gp_salary)\n",
      "/var/folders/6b/ddjkk4l908n5cwpnvhllb3fc0000gn/T/ipykernel_16338/3005351152.py:3: FutureWarning: The frame.append method is deprecated and will be removed from pandas in a future version. Use pandas.concat instead.\n",
      "  df_aux = df_aux.append(highest_gp_salary)\n",
      "/var/folders/6b/ddjkk4l908n5cwpnvhllb3fc0000gn/T/ipykernel_16338/3005351152.py:3: FutureWarning: The frame.append method is deprecated and will be removed from pandas in a future version. Use pandas.concat instead.\n",
      "  df_aux = df_aux.append(highest_gp_salary)\n",
      "/var/folders/6b/ddjkk4l908n5cwpnvhllb3fc0000gn/T/ipykernel_16338/3005351152.py:3: FutureWarning: The frame.append method is deprecated and will be removed from pandas in a future version. Use pandas.concat instead.\n",
      "  df_aux = df_aux.append(highest_gp_salary)\n",
      "/var/folders/6b/ddjkk4l908n5cwpnvhllb3fc0000gn/T/ipykernel_16338/3005351152.py:3: FutureWarning: The frame.append method is deprecated and will be removed from pandas in a future version. Use pandas.concat instead.\n",
      "  df_aux = df_aux.append(highest_gp_salary)\n"
     ]
    }
   ],
   "source": [
    "# Dentro de cada groupby hay un conjunto de \"pares\", es decir que cada \"par\" está compuesto por el valor con el que se hizo el groupby al igual que el DataFrame que lo acompaña.\n",
    "for team, df in teams:\n",
    "    highest_gp_salary = df.nlargest(1,'Salary')\n",
    "    df_aux = df_aux.append(highest_gp_salary)"
   ]
  },
  {
   "cell_type": "code",
   "execution_count": 64,
   "metadata": {},
   "outputs": [
    {
     "data": {
      "text/html": [
       "<div>\n",
       "<style scoped>\n",
       "    .dataframe tbody tr th:only-of-type {\n",
       "        vertical-align: middle;\n",
       "    }\n",
       "\n",
       "    .dataframe tbody tr th {\n",
       "        vertical-align: top;\n",
       "    }\n",
       "\n",
       "    .dataframe thead th {\n",
       "        text-align: right;\n",
       "    }\n",
       "</style>\n",
       "<table border=\"1\" class=\"dataframe\">\n",
       "  <thead>\n",
       "    <tr style=\"text-align: right;\">\n",
       "      <th></th>\n",
       "      <th>First Name</th>\n",
       "      <th>Gender</th>\n",
       "      <th>Start Date</th>\n",
       "      <th>Last Login Time</th>\n",
       "      <th>Salary</th>\n",
       "      <th>Bonus %</th>\n",
       "      <th>Senior Management</th>\n",
       "      <th>Team</th>\n",
       "    </tr>\n",
       "  </thead>\n",
       "  <tbody>\n",
       "    <tr>\n",
       "      <th>721</th>\n",
       "      <td>Harold</td>\n",
       "      <td>Male</td>\n",
       "      <td>4/16/2010</td>\n",
       "      <td>5:13 AM</td>\n",
       "      <td>147417</td>\n",
       "      <td>11.626</td>\n",
       "      <td>True</td>\n",
       "      <td>Business Development</td>\n",
       "    </tr>\n",
       "    <tr>\n",
       "      <th>287</th>\n",
       "      <td>Lois</td>\n",
       "      <td>Female</td>\n",
       "      <td>11/9/2011</td>\n",
       "      <td>7:06 AM</td>\n",
       "      <td>147183</td>\n",
       "      <td>9.999</td>\n",
       "      <td>True</td>\n",
       "      <td>Client Services</td>\n",
       "    </tr>\n",
       "    <tr>\n",
       "      <th>793</th>\n",
       "      <td>Andrea</td>\n",
       "      <td>Female</td>\n",
       "      <td>7/22/1999</td>\n",
       "      <td>9:25 AM</td>\n",
       "      <td>149105</td>\n",
       "      <td>13.707</td>\n",
       "      <td>True</td>\n",
       "      <td>Distribution</td>\n",
       "    </tr>\n",
       "    <tr>\n",
       "      <th>541</th>\n",
       "      <td>Ruby</td>\n",
       "      <td>Female</td>\n",
       "      <td>5/1/1999</td>\n",
       "      <td>3:36 AM</td>\n",
       "      <td>147362</td>\n",
       "      <td>7.851</td>\n",
       "      <td>True</td>\n",
       "      <td>Engineering</td>\n",
       "    </tr>\n",
       "    <tr>\n",
       "      <th>644</th>\n",
       "      <td>Katherine</td>\n",
       "      <td>Female</td>\n",
       "      <td>8/13/1996</td>\n",
       "      <td>12:21 AM</td>\n",
       "      <td>149908</td>\n",
       "      <td>18.912</td>\n",
       "      <td>False</td>\n",
       "      <td>Finance</td>\n",
       "    </tr>\n",
       "    <tr>\n",
       "      <th>429</th>\n",
       "      <td>Rose</td>\n",
       "      <td>Female</td>\n",
       "      <td>5/28/2015</td>\n",
       "      <td>8:40 AM</td>\n",
       "      <td>149903</td>\n",
       "      <td>5.630</td>\n",
       "      <td>False</td>\n",
       "      <td>Human Resources</td>\n",
       "    </tr>\n",
       "    <tr>\n",
       "      <th>981</th>\n",
       "      <td>James</td>\n",
       "      <td>Male</td>\n",
       "      <td>1/15/1993</td>\n",
       "      <td>5:19 PM</td>\n",
       "      <td>148985</td>\n",
       "      <td>19.280</td>\n",
       "      <td>False</td>\n",
       "      <td>Legal</td>\n",
       "    </tr>\n",
       "    <tr>\n",
       "      <th>740</th>\n",
       "      <td>Russell</td>\n",
       "      <td>NaN</td>\n",
       "      <td>5/9/2009</td>\n",
       "      <td>11:59 AM</td>\n",
       "      <td>149456</td>\n",
       "      <td>3.533</td>\n",
       "      <td>False</td>\n",
       "      <td>Marketing</td>\n",
       "    </tr>\n",
       "    <tr>\n",
       "      <th>828</th>\n",
       "      <td>Cynthia</td>\n",
       "      <td>Female</td>\n",
       "      <td>7/12/2006</td>\n",
       "      <td>8:55 AM</td>\n",
       "      <td>149684</td>\n",
       "      <td>7.864</td>\n",
       "      <td>False</td>\n",
       "      <td>Product</td>\n",
       "    </tr>\n",
       "    <tr>\n",
       "      <th>186</th>\n",
       "      <td>NaN</td>\n",
       "      <td>Female</td>\n",
       "      <td>2/23/2005</td>\n",
       "      <td>9:50 PM</td>\n",
       "      <td>149654</td>\n",
       "      <td>1.825</td>\n",
       "      <td>NaN</td>\n",
       "      <td>Sales</td>\n",
       "    </tr>\n",
       "  </tbody>\n",
       "</table>\n",
       "</div>"
      ],
      "text/plain": [
       "    First Name  Gender Start Date Last Login Time  Salary  Bonus %  \\\n",
       "721     Harold    Male  4/16/2010         5:13 AM  147417   11.626   \n",
       "287       Lois  Female  11/9/2011         7:06 AM  147183    9.999   \n",
       "793     Andrea  Female  7/22/1999         9:25 AM  149105   13.707   \n",
       "541       Ruby  Female   5/1/1999         3:36 AM  147362    7.851   \n",
       "644  Katherine  Female  8/13/1996        12:21 AM  149908   18.912   \n",
       "429       Rose  Female  5/28/2015         8:40 AM  149903    5.630   \n",
       "981      James    Male  1/15/1993         5:19 PM  148985   19.280   \n",
       "740    Russell     NaN   5/9/2009        11:59 AM  149456    3.533   \n",
       "828    Cynthia  Female  7/12/2006         8:55 AM  149684    7.864   \n",
       "186        NaN  Female  2/23/2005         9:50 PM  149654    1.825   \n",
       "\n",
       "    Senior Management                  Team  \n",
       "721              True  Business Development  \n",
       "287              True       Client Services  \n",
       "793              True          Distribution  \n",
       "541              True           Engineering  \n",
       "644             False               Finance  \n",
       "429             False       Human Resources  \n",
       "981             False                 Legal  \n",
       "740             False             Marketing  \n",
       "828             False               Product  \n",
       "186               NaN                 Sales  "
      ]
     },
     "execution_count": 64,
     "metadata": {},
     "output_type": "execute_result"
    }
   ],
   "source": [
    "df_aux"
   ]
  },
  {
   "attachments": {},
   "cell_type": "markdown",
   "metadata": {
    "tags": [
     "Numpy"
    ]
   },
   "source": [
    "# Numpy\n",
    "\n",
    "Librería que se utiliza principalmente para trabajar con arreglos de números. También cuenta con funciones que permiten trabajar con Álgebra Lineal y Mátrices."
   ]
  },
  {
   "attachments": {},
   "cell_type": "markdown",
   "metadata": {},
   "source": [
    "Definir una matriz de 2 renglones por 3 columnas."
   ]
  },
  {
   "cell_type": "code",
   "execution_count": 65,
   "metadata": {
    "tags": []
   },
   "outputs": [
    {
     "data": {
      "text/plain": [
       "array([[1, 2, 3],\n",
       "       [4, 5, 6]])"
      ]
     },
     "execution_count": 65,
     "metadata": {},
     "output_type": "execute_result"
    }
   ],
   "source": [
    "arr1 = np.array(\n",
    "    [[1, 2, 3],\n",
    "     [4, 5, 6]]\n",
    ")\n",
    "arr1\n"
   ]
  },
  {
   "attachments": {},
   "cell_type": "markdown",
   "metadata": {},
   "source": [
    "Una de las principales ventajas de Numpy es el poder usar vectorización de funciones aplicadas a un __np.array__, i.e: poder aplicar una función a cada renglón sin la necesidad de usar un loop, lo cual lo hace más eficiente."
   ]
  },
  {
   "cell_type": "code",
   "execution_count": 67,
   "metadata": {},
   "outputs": [
    {
     "name": "stdout",
     "output_type": "stream",
     "text": [
      "262 µs ± 58 µs per loop (mean ± std. dev. of 7 runs, 5 loops each)\n"
     ]
    }
   ],
   "source": [
    "%%timeit -n 5\n",
    "sum([i**2 for i in range(1000)])"
   ]
  },
  {
   "attachments": {},
   "cell_type": "markdown",
   "metadata": {},
   "source": [
    "np.arrange puede ser visto como un _range()_ clásico de Python, pero el _arrange_ puede fraccionar los steps, mientras que en el _range_ solo se puede con valores enteros."
   ]
  },
  {
   "cell_type": "code",
   "execution_count": 68,
   "metadata": {},
   "outputs": [
    {
     "name": "stdout",
     "output_type": "stream",
     "text": [
      "The slowest run took 22.26 times longer than the fastest. This could mean that an intermediate result is being cached.\n",
      "38.4 µs ± 32.2 µs per loop (mean ± std. dev. of 7 runs, 5 loops each)\n"
     ]
    }
   ],
   "source": [
    "%%timeit -n 5\n",
    "(np.arange(1000)**2).sum()"
   ]
  },
  {
   "cell_type": "code",
   "execution_count": 69,
   "metadata": {},
   "outputs": [
    {
     "data": {
      "text/plain": [
       "(2, 3)"
      ]
     },
     "execution_count": 69,
     "metadata": {},
     "output_type": "execute_result"
    }
   ],
   "source": [
    "arr1.shape"
   ]
  },
  {
   "cell_type": "code",
   "execution_count": 70,
   "metadata": {},
   "outputs": [
    {
     "data": {
      "text/plain": [
       "array([[1, 2, 3],\n",
       "       [4, 5, 6]])"
      ]
     },
     "execution_count": 70,
     "metadata": {},
     "output_type": "execute_result"
    }
   ],
   "source": [
    "arr1"
   ]
  },
  {
   "cell_type": "code",
   "execution_count": 71,
   "metadata": {},
   "outputs": [
    {
     "data": {
      "text/plain": [
       "array([1, 2, 3])"
      ]
     },
     "execution_count": 71,
     "metadata": {},
     "output_type": "execute_result"
    }
   ],
   "source": [
    "arr1[0]"
   ]
  },
  {
   "cell_type": "code",
   "execution_count": 73,
   "metadata": {},
   "outputs": [
    {
     "data": {
      "text/plain": [
       "array([4, 5, 6])"
      ]
     },
     "execution_count": 73,
     "metadata": {},
     "output_type": "execute_result"
    }
   ],
   "source": [
    "arr1[1]"
   ]
  },
  {
   "cell_type": "code",
   "execution_count": 74,
   "metadata": {},
   "outputs": [
    {
     "data": {
      "text/plain": [
       "array([[1, 2, 3, 4],\n",
       "       [4, 5, 6, 5],\n",
       "       [7, 8, 9, 0],\n",
       "       [3, 4, 5, 6]])"
      ]
     },
     "execution_count": 74,
     "metadata": {},
     "output_type": "execute_result"
    }
   ],
   "source": [
    "arr2 = np.array([\n",
    "    [1, 2, 3, 4],\n",
    "    [4, 5, 6, 5],\n",
    "    [7, 8, 9, 0],\n",
    "    [3, 4, 5, 6]\n",
    "])\n",
    "arr2"
   ]
  },
  {
   "cell_type": "code",
   "execution_count": 75,
   "metadata": {},
   "outputs": [
    {
     "data": {
      "text/plain": [
       "(4, 4)"
      ]
     },
     "execution_count": 75,
     "metadata": {},
     "output_type": "execute_result"
    }
   ],
   "source": [
    "arr2.shape"
   ]
  },
  {
   "attachments": {},
   "cell_type": "markdown",
   "metadata": {
    "tags": [
     "Numpy",
     "operations"
    ]
   },
   "source": [
    "## Operaciones principales con arreglos de Numpy"
   ]
  },
  {
   "cell_type": "code",
   "execution_count": 76,
   "metadata": {},
   "outputs": [],
   "source": [
    "a1 = np.array([\n",
    "    [2,4,6],\n",
    "    [2,5,1]\n",
    "])"
   ]
  },
  {
   "attachments": {},
   "cell_type": "markdown",
   "metadata": {},
   "source": [
    "### Broadcasting operations"
   ]
  },
  {
   "attachments": {},
   "cell_type": "markdown",
   "metadata": {},
   "source": [
    "La suma de un escalar a cada elemento del array"
   ]
  },
  {
   "cell_type": "code",
   "execution_count": 77,
   "metadata": {},
   "outputs": [
    {
     "data": {
      "text/plain": [
       "array([[3, 5, 7],\n",
       "       [3, 6, 2]])"
      ]
     },
     "execution_count": 77,
     "metadata": {},
     "output_type": "execute_result"
    }
   ],
   "source": [
    "a1 + 1"
   ]
  },
  {
   "attachments": {},
   "cell_type": "markdown",
   "metadata": {},
   "source": [
    "También se puede incrementar una variable.\n",
    "\n",
    "- A diferencia de lo de arriba, al utilizar `+=` se asigna el valor a la variable."
   ]
  },
  {
   "cell_type": "code",
   "execution_count": 78,
   "metadata": {},
   "outputs": [
    {
     "data": {
      "text/plain": [
       "array([[3, 5, 7],\n",
       "       [3, 6, 2]])"
      ]
     },
     "execution_count": 78,
     "metadata": {},
     "output_type": "execute_result"
    }
   ],
   "source": [
    "a1 += 1\n",
    "a1"
   ]
  },
  {
   "attachments": {},
   "cell_type": "markdown",
   "metadata": {},
   "source": [
    "Elevando al cuadrado cada elemento del array"
   ]
  },
  {
   "cell_type": "code",
   "execution_count": 79,
   "metadata": {},
   "outputs": [
    {
     "data": {
      "text/plain": [
       "array([[ 9, 25, 49],\n",
       "       [ 9, 36,  4]])"
      ]
     },
     "execution_count": 79,
     "metadata": {},
     "output_type": "execute_result"
    }
   ],
   "source": [
    "a1**2"
   ]
  },
  {
   "attachments": {},
   "cell_type": "markdown",
   "metadata": {},
   "source": [
    "Multiplicar entrada por entrada."
   ]
  },
  {
   "cell_type": "code",
   "execution_count": 80,
   "metadata": {},
   "outputs": [
    {
     "data": {
      "text/plain": [
       "array([[ 9, 25, 49],\n",
       "       [ 9, 36,  4]])"
      ]
     },
     "execution_count": 80,
     "metadata": {},
     "output_type": "execute_result"
    }
   ],
   "source": [
    "a1*a1"
   ]
  },
  {
   "cell_type": "markdown",
   "metadata": {},
   "source": [
    "Comparación lógica\n",
    "- Es entrada por entrada"
   ]
  },
  {
   "cell_type": "code",
   "execution_count": 81,
   "metadata": {},
   "outputs": [
    {
     "data": {
      "text/plain": [
       "array([[ True, False, False],\n",
       "       [ True, False,  True]])"
      ]
     },
     "execution_count": 81,
     "metadata": {},
     "output_type": "execute_result"
    }
   ],
   "source": [
    "a1 <= 3"
   ]
  },
  {
   "attachments": {},
   "cell_type": "markdown",
   "metadata": {},
   "source": [
    "### `np.arrange` y `np.linspace`"
   ]
  },
  {
   "attachments": {},
   "cell_type": "markdown",
   "metadata": {},
   "source": [
    "Podemos crear rangos de números [a,b] usando la función `arange`, la cual es la versión análoga de `range`  en Python."
   ]
  },
  {
   "cell_type": "code",
   "execution_count": 83,
   "metadata": {},
   "outputs": [
    {
     "data": {
      "text/plain": [
       "array([0, 1, 2, 3, 4, 5, 6, 7, 8, 9])"
      ]
     },
     "execution_count": 83,
     "metadata": {},
     "output_type": "execute_result"
    }
   ],
   "source": [
    "np.arange(10)"
   ]
  },
  {
   "attachments": {},
   "cell_type": "markdown",
   "metadata": {},
   "source": [
    "En el `range` clásico de Python solo hay enteros en el _step_, en Numpy si se pueden usar _steps_ fraccionarios.\n",
    "- El límite superior __no es inclusivo__."
   ]
  },
  {
   "cell_type": "code",
   "execution_count": 84,
   "metadata": {},
   "outputs": [
    {
     "data": {
      "text/plain": [
       "array([ 1. ,  1.5,  2. ,  2.5,  3. ,  3.5,  4. ,  4.5,  5. ,  5.5,  6. ,\n",
       "        6.5,  7. ,  7.5,  8. ,  8.5,  9. ,  9.5, 10. , 10.5])"
      ]
     },
     "execution_count": 84,
     "metadata": {},
     "output_type": "execute_result"
    }
   ],
   "source": [
    "np.arange(1,11,0.5)"
   ]
  },
  {
   "attachments": {},
   "cell_type": "markdown",
   "metadata": {},
   "source": [
    "Se puede usar la función `linspace()` cuando deseamso un arreglo de $n$ elementos entre $a$ y $b$ (inclusivo); $a < b$"
   ]
  },
  {
   "attachments": {},
   "cell_type": "markdown",
   "metadata": {},
   "source": [
    "En `linspace()` se tienen los siguientes valores dentro\n",
    "`linspace(start, stop, number of buckets)`"
   ]
  },
  {
   "cell_type": "code",
   "execution_count": 85,
   "metadata": {},
   "outputs": [
    {
     "data": {
      "text/plain": [
       "array([ 2.        ,  2.42105263,  2.84210526,  3.26315789,  3.68421053,\n",
       "        4.10526316,  4.52631579,  4.94736842,  5.36842105,  5.78947368,\n",
       "        6.21052632,  6.63157895,  7.05263158,  7.47368421,  7.89473684,\n",
       "        8.31578947,  8.73684211,  9.15789474,  9.57894737, 10.        ])"
      ]
     },
     "execution_count": 85,
     "metadata": {},
     "output_type": "execute_result"
    }
   ],
   "source": [
    "a, b = 2, 10\n",
    "np.linspace(a,b,20)"
   ]
  },
  {
   "attachments": {},
   "cell_type": "markdown",
   "metadata": {},
   "source": [
    "### Índices"
   ]
  },
  {
   "cell_type": "code",
   "execution_count": 88,
   "metadata": {},
   "outputs": [
    {
     "data": {
      "text/plain": [
       "array([[ 0,  1,  2],\n",
       "       [ 3,  4,  5],\n",
       "       [ 6,  7,  8],\n",
       "       [ 9, 10, 11],\n",
       "       [12, 13, 14],\n",
       "       [15, 16, 17],\n",
       "       [18, 19, 20],\n",
       "       [21, 22, 23],\n",
       "       [24, 25, 26],\n",
       "       [27, 28, 29]])"
      ]
     },
     "execution_count": 88,
     "metadata": {},
     "output_type": "execute_result"
    }
   ],
   "source": [
    "arr = np.arange(30).reshape(10,3)\n",
    "arr"
   ]
  },
  {
   "attachments": {},
   "cell_type": "markdown",
   "metadata": {},
   "source": [
    "Seleccionar la primera fila"
   ]
  },
  {
   "cell_type": "code",
   "execution_count": 89,
   "metadata": {},
   "outputs": [
    {
     "data": {
      "text/plain": [
       "array([0, 1, 2])"
      ]
     },
     "execution_count": 89,
     "metadata": {},
     "output_type": "execute_result"
    }
   ],
   "source": [
    "arr[0]"
   ]
  },
  {
   "attachments": {},
   "cell_type": "markdown",
   "metadata": {},
   "source": [
    "Primer renglón, todas las columnas"
   ]
  },
  {
   "cell_type": "code",
   "execution_count": 90,
   "metadata": {},
   "outputs": [
    {
     "data": {
      "text/plain": [
       "array([0, 1, 2])"
      ]
     },
     "execution_count": 90,
     "metadata": {},
     "output_type": "execute_result"
    }
   ],
   "source": [
    "arr[0,:]"
   ]
  },
  {
   "attachments": {},
   "cell_type": "markdown",
   "metadata": {},
   "source": [
    "Segunda columna"
   ]
  },
  {
   "cell_type": "code",
   "execution_count": 91,
   "metadata": {},
   "outputs": [
    {
     "data": {
      "text/plain": [
       "array([ 1,  4,  7, 10, 13, 16, 19, 22, 25, 28])"
      ]
     },
     "execution_count": 91,
     "metadata": {},
     "output_type": "execute_result"
    }
   ],
   "source": [
    "arr[:,1]"
   ]
  },
  {
   "attachments": {},
   "cell_type": "markdown",
   "metadata": {},
   "source": [
    "Todos los renglones, desde la columna especificada"
   ]
  },
  {
   "cell_type": "code",
   "execution_count": 92,
   "metadata": {},
   "outputs": [
    {
     "data": {
      "text/plain": [
       "array([[ 1,  2],\n",
       "       [ 4,  5],\n",
       "       [ 7,  8],\n",
       "       [10, 11],\n",
       "       [13, 14],\n",
       "       [16, 17],\n",
       "       [19, 20],\n",
       "       [22, 23],\n",
       "       [25, 26],\n",
       "       [28, 29]])"
      ]
     },
     "execution_count": 92,
     "metadata": {},
     "output_type": "execute_result"
    }
   ],
   "source": [
    "arr[:,1:]"
   ]
  },
  {
   "attachments": {},
   "cell_type": "markdown",
   "metadata": {},
   "source": [
    "Extrae la primer y tercer columna"
   ]
  },
  {
   "cell_type": "code",
   "execution_count": 93,
   "metadata": {},
   "outputs": [
    {
     "data": {
      "text/plain": [
       "array([[ 0,  2],\n",
       "       [ 3,  5],\n",
       "       [ 6,  8],\n",
       "       [ 9, 11],\n",
       "       [12, 14],\n",
       "       [15, 17],\n",
       "       [18, 20],\n",
       "       [21, 23],\n",
       "       [24, 26],\n",
       "       [27, 29]])"
      ]
     },
     "execution_count": 93,
     "metadata": {},
     "output_type": "execute_result"
    }
   ],
   "source": [
    "arr[:,[0,2]]"
   ]
  },
  {
   "attachments": {},
   "cell_type": "markdown",
   "metadata": {},
   "source": [
    "Podemos utilizar índices para encontrar elementos"
   ]
  },
  {
   "cell_type": "code",
   "execution_count": 94,
   "metadata": {},
   "outputs": [
    {
     "data": {
      "text/plain": [
       "2"
      ]
     },
     "execution_count": 94,
     "metadata": {},
     "output_type": "execute_result"
    }
   ],
   "source": [
    "row, col = 0,2\n",
    "arr[row, col]"
   ]
  },
  {
   "attachments": {},
   "cell_type": "markdown",
   "metadata": {},
   "source": [
    "Podemos encontrar mas de un elemento (-2, 1) y (1, -1):"
   ]
  },
  {
   "cell_type": "code",
   "execution_count": 95,
   "metadata": {},
   "outputs": [
    {
     "data": {
      "text/plain": [
       "array([25, 29])"
      ]
     },
     "execution_count": 95,
     "metadata": {},
     "output_type": "execute_result"
    }
   ],
   "source": [
    "rows, cols = [-2,-1], [1,-1]\n",
    "arr[rows, cols]"
   ]
  },
  {
   "attachments": {},
   "cell_type": "markdown",
   "metadata": {},
   "source": [
    "Equivalente a `arr[[0,-1],_]`"
   ]
  },
  {
   "cell_type": "code",
   "execution_count": 96,
   "metadata": {},
   "outputs": [
    {
     "data": {
      "text/plain": [
       "array([[ 0,  1,  2],\n",
       "       [27, 28, 29]])"
      ]
     },
     "execution_count": 96,
     "metadata": {},
     "output_type": "execute_result"
    }
   ],
   "source": [
    "arr[[0,-1]]"
   ]
  },
  {
   "attachments": {},
   "cell_type": "markdown",
   "metadata": {},
   "source": [
    "Se pueden asignar varios valores de la misma dimensión a la que se le hizo la selección"
   ]
  },
  {
   "cell_type": "code",
   "execution_count": 97,
   "metadata": {},
   "outputs": [
    {
     "data": {
      "text/plain": [
       "array([[ 0,  1,  2],\n",
       "       [ 3,  4,  5],\n",
       "       [ 6,  7,  8],\n",
       "       [ 9, 10, 11],\n",
       "       [12, 13, 14],\n",
       "       [15, 16, 17],\n",
       "       [18, 19, 20],\n",
       "       [21, 22, 23],\n",
       "       [24, 25, 26],\n",
       "       [27, 28, 29]])"
      ]
     },
     "execution_count": 97,
     "metadata": {},
     "output_type": "execute_result"
    }
   ],
   "source": [
    "# original\n",
    "arr"
   ]
  },
  {
   "cell_type": "code",
   "execution_count": 98,
   "metadata": {},
   "outputs": [],
   "source": [
    "arr[[0, -1]] = np.random.randint(-100, -1, size=(2, 3))"
   ]
  },
  {
   "cell_type": "code",
   "execution_count": 99,
   "metadata": {},
   "outputs": [
    {
     "data": {
      "text/plain": [
       "array([[-17, -24, -65],\n",
       "       [  3,   4,   5],\n",
       "       [  6,   7,   8],\n",
       "       [  9,  10,  11],\n",
       "       [ 12,  13,  14],\n",
       "       [ 15,  16,  17],\n",
       "       [ 18,  19,  20],\n",
       "       [ 21,  22,  23],\n",
       "       [ 24,  25,  26],\n",
       "       [-44, -92, -94]])"
      ]
     },
     "execution_count": 99,
     "metadata": {},
     "output_type": "execute_result"
    }
   ],
   "source": [
    "# después de ser modificado\n",
    "arr"
   ]
  }
 ],
 "metadata": {
  "kernelspec": {
   "display_name": "Python 3.9.13 ('python-finanzas')",
   "language": "python",
   "name": "python3"
  },
  "language_info": {
   "codemirror_mode": {
    "name": "ipython",
    "version": 3
   },
   "file_extension": ".py",
   "mimetype": "text/x-python",
   "name": "python",
   "nbconvert_exporter": "python",
   "pygments_lexer": "ipython3",
   "version": "3.9.13"
  },
  "orig_nbformat": 4,
  "vscode": {
   "interpreter": {
    "hash": "5e537b2ac24baf7be5bbe3eabdc05dfdbd26f37eb166ba5dd50ffe701cf16451"
   }
  }
 },
 "nbformat": 4,
 "nbformat_minor": 2
}
